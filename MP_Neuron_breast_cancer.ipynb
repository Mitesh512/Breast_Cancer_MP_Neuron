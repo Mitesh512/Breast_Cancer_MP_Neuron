{
  "nbformat": 4,
  "nbformat_minor": 0,
  "metadata": {
    "colab": {
      "name": "MP_Neuron_breast_cancer.ipynb",
      "provenance": [],
      "authorship_tag": "ABX9TyPetB///Nnp25eF48O29LDH",
      "include_colab_link": true
    },
    "kernelspec": {
      "name": "python3",
      "display_name": "Python 3"
    }
  },
  "cells": [
    {
      "cell_type": "markdown",
      "metadata": {
        "id": "view-in-github",
        "colab_type": "text"
      },
      "source": [
        "<a href=\"https://colab.research.google.com/github/Mitesh512/Breast_Cancer_MP_Neuron/blob/master/MP_Neuron_breast_cancer.ipynb\" target=\"_parent\"><img src=\"https://colab.research.google.com/assets/colab-badge.svg\" alt=\"Open In Colab\"/></a>"
      ]
    },
    {
      "cell_type": "code",
      "metadata": {
        "id": "kwHM2tK_SaAL",
        "colab_type": "code",
        "colab": {}
      },
      "source": [
        "# importing Libraries\n",
        "import numpy as np\n",
        "import pandas as pd\n",
        "import sklearn.datasets"
      ],
      "execution_count": 0,
      "outputs": []
    },
    {
      "cell_type": "code",
      "metadata": {
        "id": "Ef9rQwbPSvP2",
        "colab_type": "code",
        "colab": {}
      },
      "source": [
        "breast_cancer = sklearn.datasets.load_breast_cancer()"
      ],
      "execution_count": 0,
      "outputs": []
    },
    {
      "cell_type": "code",
      "metadata": {
        "id": "lkOzNMpgSyiw",
        "colab_type": "code",
        "colab": {}
      },
      "source": [
        "x = breast_cancer.data\n",
        "y = breast_cancer.target"
      ],
      "execution_count": 0,
      "outputs": []
    },
    {
      "cell_type": "code",
      "metadata": {
        "id": "i5vZiAZrS1TF",
        "colab_type": "code",
        "outputId": "47c04b84-a9fb-4e90-da49-076d398179af",
        "colab": {
          "base_uri": "https://localhost:8080/",
          "height": 403
        }
      },
      "source": [
        "print(x)\n",
        "print(y)"
      ],
      "execution_count": 4,
      "outputs": [
        {
          "output_type": "stream",
          "text": [
            "[[1.799e+01 1.038e+01 1.228e+02 ... 2.654e-01 4.601e-01 1.189e-01]\n",
            " [2.057e+01 1.777e+01 1.329e+02 ... 1.860e-01 2.750e-01 8.902e-02]\n",
            " [1.969e+01 2.125e+01 1.300e+02 ... 2.430e-01 3.613e-01 8.758e-02]\n",
            " ...\n",
            " [1.660e+01 2.808e+01 1.083e+02 ... 1.418e-01 2.218e-01 7.820e-02]\n",
            " [2.060e+01 2.933e+01 1.401e+02 ... 2.650e-01 4.087e-01 1.240e-01]\n",
            " [7.760e+00 2.454e+01 4.792e+01 ... 0.000e+00 2.871e-01 7.039e-02]]\n",
            "[0 0 0 0 0 0 0 0 0 0 0 0 0 0 0 0 0 0 0 1 1 1 0 0 0 0 0 0 0 0 0 0 0 0 0 0 0\n",
            " 1 0 0 0 0 0 0 0 0 1 0 1 1 1 1 1 0 0 1 0 0 1 1 1 1 0 1 0 0 1 1 1 1 0 1 0 0\n",
            " 1 0 1 0 0 1 1 1 0 0 1 0 0 0 1 1 1 0 1 1 0 0 1 1 1 0 0 1 1 1 1 0 1 1 0 1 1\n",
            " 1 1 1 1 1 1 0 0 0 1 0 0 1 1 1 0 0 1 0 1 0 0 1 0 0 1 1 0 1 1 0 1 1 1 1 0 1\n",
            " 1 1 1 1 1 1 1 1 0 1 1 1 1 0 0 1 0 1 1 0 0 1 1 0 0 1 1 1 1 0 1 1 0 0 0 1 0\n",
            " 1 0 1 1 1 0 1 1 0 0 1 0 0 0 0 1 0 0 0 1 0 1 0 1 1 0 1 0 0 0 0 1 1 0 0 1 1\n",
            " 1 0 1 1 1 1 1 0 0 1 1 0 1 1 0 0 1 0 1 1 1 1 0 1 1 1 1 1 0 1 0 0 0 0 0 0 0\n",
            " 0 0 0 0 0 0 0 1 1 1 1 1 1 0 1 0 1 1 0 1 1 0 1 0 0 1 1 1 1 1 1 1 1 1 1 1 1\n",
            " 1 0 1 1 0 1 0 1 1 1 1 1 1 1 1 1 1 1 1 1 1 0 1 1 1 0 1 0 1 1 1 1 0 0 0 1 1\n",
            " 1 1 0 1 0 1 0 1 1 1 0 1 1 1 1 1 1 1 0 0 0 1 1 1 1 1 1 1 1 1 1 1 0 0 1 0 0\n",
            " 0 1 0 0 1 1 1 1 1 0 1 1 1 1 1 0 1 1 1 0 1 1 0 0 1 1 1 1 1 1 0 1 1 1 1 1 1\n",
            " 1 0 1 1 1 1 1 0 1 1 0 1 1 1 1 1 1 1 1 1 1 1 1 0 1 0 0 1 0 1 1 1 1 1 0 1 1\n",
            " 0 1 0 1 1 0 1 0 1 1 1 1 1 1 1 1 0 0 1 1 1 1 1 1 0 1 1 1 1 1 1 1 1 1 1 0 1\n",
            " 1 1 1 1 1 1 0 1 0 1 1 0 1 1 1 1 1 0 0 1 0 1 0 1 1 1 1 1 0 1 1 0 1 0 1 0 0\n",
            " 1 1 1 0 1 1 1 1 1 1 1 1 1 1 1 0 1 0 0 1 1 1 1 1 1 1 1 1 1 1 1 1 1 1 1 1 1\n",
            " 1 1 1 1 1 1 1 0 0 0 0 0 0 1]\n"
          ],
          "name": "stdout"
        }
      ]
    },
    {
      "cell_type": "code",
      "metadata": {
        "id": "ejJVzD2MS4kO",
        "colab_type": "code",
        "outputId": "77a49059-a55f-4b80-8ba6-4fcb2b545d76",
        "colab": {
          "base_uri": "https://localhost:8080/",
          "height": 34
        }
      },
      "source": [
        "print(x.shape)"
      ],
      "execution_count": 5,
      "outputs": [
        {
          "output_type": "stream",
          "text": [
            "(569, 30)\n"
          ],
          "name": "stdout"
        }
      ]
    },
    {
      "cell_type": "code",
      "metadata": {
        "id": "ZCOQwHgHS9Xn",
        "colab_type": "code",
        "outputId": "c95bed12-f2e3-496f-9077-26a073e367c3",
        "colab": {
          "base_uri": "https://localhost:8080/",
          "height": 202
        }
      },
      "source": [
        "data = pd.DataFrame(breast_cancer.data, columns=breast_cancer.feature_names)\n",
        "data['cancer_result'] = breast_cancer.target\n",
        "data.columns"
      ],
      "execution_count": 6,
      "outputs": [
        {
          "output_type": "execute_result",
          "data": {
            "text/plain": [
              "Index(['mean radius', 'mean texture', 'mean perimeter', 'mean area',\n",
              "       'mean smoothness', 'mean compactness', 'mean concavity',\n",
              "       'mean concave points', 'mean symmetry', 'mean fractal dimension',\n",
              "       'radius error', 'texture error', 'perimeter error', 'area error',\n",
              "       'smoothness error', 'compactness error', 'concavity error',\n",
              "       'concave points error', 'symmetry error', 'fractal dimension error',\n",
              "       'worst radius', 'worst texture', 'worst perimeter', 'worst area',\n",
              "       'worst smoothness', 'worst compactness', 'worst concavity',\n",
              "       'worst concave points', 'worst symmetry', 'worst fractal dimension',\n",
              "       'cancer_result'],\n",
              "      dtype='object')"
            ]
          },
          "metadata": {
            "tags": []
          },
          "execution_count": 6
        }
      ]
    },
    {
      "cell_type": "code",
      "metadata": {
        "id": "pbTzHTs6TH-u",
        "colab_type": "code",
        "colab": {}
      },
      "source": [
        "data.columns = (['mean_radius', 'mean_texture', 'mean_perimeter', 'mean_area',\n",
        "       'mean_smoothness', 'mean_compactness', 'mean_concavity',\n",
        "       'mean_concave_points', 'mean_symmetry', 'mean_fractal_dimension',\n",
        "       'radius_error', 'texture_error', 'perimeter_error', 'area_error',\n",
        "       'smoothness_error', 'compactness_error', 'concavity_error',\n",
        "       'concave_points_error', 'symmetry_error', 'fractal_dimension_error',\n",
        "       'worst_radius', 'worst_texture', 'worst_perimeter', 'worst_area',\n",
        "       'worst_smoothness', 'worst_compactness', 'worst_concavity',\n",
        "       'worst_concave_points', 'worst_symmetry', 'worst_fractal_dimension',\n",
        "       'cancer_result'])"
      ],
      "execution_count": 0,
      "outputs": []
    },
    {
      "cell_type": "code",
      "metadata": {
        "id": "V02sLvOyTK2t",
        "colab_type": "code",
        "outputId": "afd0116e-88ac-496a-a020-377d96156470",
        "colab": {
          "base_uri": "https://localhost:8080/",
          "height": 215
        }
      },
      "source": [
        "data.head()"
      ],
      "execution_count": 8,
      "outputs": [
        {
          "output_type": "execute_result",
          "data": {
            "text/html": [
              "<div>\n",
              "<style scoped>\n",
              "    .dataframe tbody tr th:only-of-type {\n",
              "        vertical-align: middle;\n",
              "    }\n",
              "\n",
              "    .dataframe tbody tr th {\n",
              "        vertical-align: top;\n",
              "    }\n",
              "\n",
              "    .dataframe thead th {\n",
              "        text-align: right;\n",
              "    }\n",
              "</style>\n",
              "<table border=\"1\" class=\"dataframe\">\n",
              "  <thead>\n",
              "    <tr style=\"text-align: right;\">\n",
              "      <th></th>\n",
              "      <th>mean_radius</th>\n",
              "      <th>mean_texture</th>\n",
              "      <th>mean_perimeter</th>\n",
              "      <th>mean_area</th>\n",
              "      <th>mean_smoothness</th>\n",
              "      <th>mean_compactness</th>\n",
              "      <th>mean_concavity</th>\n",
              "      <th>mean_concave_points</th>\n",
              "      <th>mean_symmetry</th>\n",
              "      <th>mean_fractal_dimension</th>\n",
              "      <th>radius_error</th>\n",
              "      <th>texture_error</th>\n",
              "      <th>perimeter_error</th>\n",
              "      <th>area_error</th>\n",
              "      <th>smoothness_error</th>\n",
              "      <th>compactness_error</th>\n",
              "      <th>concavity_error</th>\n",
              "      <th>concave_points_error</th>\n",
              "      <th>symmetry_error</th>\n",
              "      <th>fractal_dimension_error</th>\n",
              "      <th>worst_radius</th>\n",
              "      <th>worst_texture</th>\n",
              "      <th>worst_perimeter</th>\n",
              "      <th>worst_area</th>\n",
              "      <th>worst_smoothness</th>\n",
              "      <th>worst_compactness</th>\n",
              "      <th>worst_concavity</th>\n",
              "      <th>worst_concave_points</th>\n",
              "      <th>worst_symmetry</th>\n",
              "      <th>worst_fractal_dimension</th>\n",
              "      <th>cancer_result</th>\n",
              "    </tr>\n",
              "  </thead>\n",
              "  <tbody>\n",
              "    <tr>\n",
              "      <th>0</th>\n",
              "      <td>17.99</td>\n",
              "      <td>10.38</td>\n",
              "      <td>122.80</td>\n",
              "      <td>1001.0</td>\n",
              "      <td>0.11840</td>\n",
              "      <td>0.27760</td>\n",
              "      <td>0.3001</td>\n",
              "      <td>0.14710</td>\n",
              "      <td>0.2419</td>\n",
              "      <td>0.07871</td>\n",
              "      <td>1.0950</td>\n",
              "      <td>0.9053</td>\n",
              "      <td>8.589</td>\n",
              "      <td>153.40</td>\n",
              "      <td>0.006399</td>\n",
              "      <td>0.04904</td>\n",
              "      <td>0.05373</td>\n",
              "      <td>0.01587</td>\n",
              "      <td>0.03003</td>\n",
              "      <td>0.006193</td>\n",
              "      <td>25.38</td>\n",
              "      <td>17.33</td>\n",
              "      <td>184.60</td>\n",
              "      <td>2019.0</td>\n",
              "      <td>0.1622</td>\n",
              "      <td>0.6656</td>\n",
              "      <td>0.7119</td>\n",
              "      <td>0.2654</td>\n",
              "      <td>0.4601</td>\n",
              "      <td>0.11890</td>\n",
              "      <td>0</td>\n",
              "    </tr>\n",
              "    <tr>\n",
              "      <th>1</th>\n",
              "      <td>20.57</td>\n",
              "      <td>17.77</td>\n",
              "      <td>132.90</td>\n",
              "      <td>1326.0</td>\n",
              "      <td>0.08474</td>\n",
              "      <td>0.07864</td>\n",
              "      <td>0.0869</td>\n",
              "      <td>0.07017</td>\n",
              "      <td>0.1812</td>\n",
              "      <td>0.05667</td>\n",
              "      <td>0.5435</td>\n",
              "      <td>0.7339</td>\n",
              "      <td>3.398</td>\n",
              "      <td>74.08</td>\n",
              "      <td>0.005225</td>\n",
              "      <td>0.01308</td>\n",
              "      <td>0.01860</td>\n",
              "      <td>0.01340</td>\n",
              "      <td>0.01389</td>\n",
              "      <td>0.003532</td>\n",
              "      <td>24.99</td>\n",
              "      <td>23.41</td>\n",
              "      <td>158.80</td>\n",
              "      <td>1956.0</td>\n",
              "      <td>0.1238</td>\n",
              "      <td>0.1866</td>\n",
              "      <td>0.2416</td>\n",
              "      <td>0.1860</td>\n",
              "      <td>0.2750</td>\n",
              "      <td>0.08902</td>\n",
              "      <td>0</td>\n",
              "    </tr>\n",
              "    <tr>\n",
              "      <th>2</th>\n",
              "      <td>19.69</td>\n",
              "      <td>21.25</td>\n",
              "      <td>130.00</td>\n",
              "      <td>1203.0</td>\n",
              "      <td>0.10960</td>\n",
              "      <td>0.15990</td>\n",
              "      <td>0.1974</td>\n",
              "      <td>0.12790</td>\n",
              "      <td>0.2069</td>\n",
              "      <td>0.05999</td>\n",
              "      <td>0.7456</td>\n",
              "      <td>0.7869</td>\n",
              "      <td>4.585</td>\n",
              "      <td>94.03</td>\n",
              "      <td>0.006150</td>\n",
              "      <td>0.04006</td>\n",
              "      <td>0.03832</td>\n",
              "      <td>0.02058</td>\n",
              "      <td>0.02250</td>\n",
              "      <td>0.004571</td>\n",
              "      <td>23.57</td>\n",
              "      <td>25.53</td>\n",
              "      <td>152.50</td>\n",
              "      <td>1709.0</td>\n",
              "      <td>0.1444</td>\n",
              "      <td>0.4245</td>\n",
              "      <td>0.4504</td>\n",
              "      <td>0.2430</td>\n",
              "      <td>0.3613</td>\n",
              "      <td>0.08758</td>\n",
              "      <td>0</td>\n",
              "    </tr>\n",
              "    <tr>\n",
              "      <th>3</th>\n",
              "      <td>11.42</td>\n",
              "      <td>20.38</td>\n",
              "      <td>77.58</td>\n",
              "      <td>386.1</td>\n",
              "      <td>0.14250</td>\n",
              "      <td>0.28390</td>\n",
              "      <td>0.2414</td>\n",
              "      <td>0.10520</td>\n",
              "      <td>0.2597</td>\n",
              "      <td>0.09744</td>\n",
              "      <td>0.4956</td>\n",
              "      <td>1.1560</td>\n",
              "      <td>3.445</td>\n",
              "      <td>27.23</td>\n",
              "      <td>0.009110</td>\n",
              "      <td>0.07458</td>\n",
              "      <td>0.05661</td>\n",
              "      <td>0.01867</td>\n",
              "      <td>0.05963</td>\n",
              "      <td>0.009208</td>\n",
              "      <td>14.91</td>\n",
              "      <td>26.50</td>\n",
              "      <td>98.87</td>\n",
              "      <td>567.7</td>\n",
              "      <td>0.2098</td>\n",
              "      <td>0.8663</td>\n",
              "      <td>0.6869</td>\n",
              "      <td>0.2575</td>\n",
              "      <td>0.6638</td>\n",
              "      <td>0.17300</td>\n",
              "      <td>0</td>\n",
              "    </tr>\n",
              "    <tr>\n",
              "      <th>4</th>\n",
              "      <td>20.29</td>\n",
              "      <td>14.34</td>\n",
              "      <td>135.10</td>\n",
              "      <td>1297.0</td>\n",
              "      <td>0.10030</td>\n",
              "      <td>0.13280</td>\n",
              "      <td>0.1980</td>\n",
              "      <td>0.10430</td>\n",
              "      <td>0.1809</td>\n",
              "      <td>0.05883</td>\n",
              "      <td>0.7572</td>\n",
              "      <td>0.7813</td>\n",
              "      <td>5.438</td>\n",
              "      <td>94.44</td>\n",
              "      <td>0.011490</td>\n",
              "      <td>0.02461</td>\n",
              "      <td>0.05688</td>\n",
              "      <td>0.01885</td>\n",
              "      <td>0.01756</td>\n",
              "      <td>0.005115</td>\n",
              "      <td>22.54</td>\n",
              "      <td>16.67</td>\n",
              "      <td>152.20</td>\n",
              "      <td>1575.0</td>\n",
              "      <td>0.1374</td>\n",
              "      <td>0.2050</td>\n",
              "      <td>0.4000</td>\n",
              "      <td>0.1625</td>\n",
              "      <td>0.2364</td>\n",
              "      <td>0.07678</td>\n",
              "      <td>0</td>\n",
              "    </tr>\n",
              "  </tbody>\n",
              "</table>\n",
              "</div>"
            ],
            "text/plain": [
              "   mean_radius  mean_texture  ...  worst_fractal_dimension  cancer_result\n",
              "0        17.99         10.38  ...                  0.11890              0\n",
              "1        20.57         17.77  ...                  0.08902              0\n",
              "2        19.69         21.25  ...                  0.08758              0\n",
              "3        11.42         20.38  ...                  0.17300              0\n",
              "4        20.29         14.34  ...                  0.07678              0\n",
              "\n",
              "[5 rows x 31 columns]"
            ]
          },
          "metadata": {
            "tags": []
          },
          "execution_count": 8
        }
      ]
    },
    {
      "cell_type": "code",
      "metadata": {
        "id": "9aSu6zPLTM1c",
        "colab_type": "code",
        "outputId": "8e8b122b-a994-4295-d015-3961b99f6bb8",
        "colab": {
          "base_uri": "https://localhost:8080/",
          "height": 655
        }
      },
      "source": [
        "data.info()"
      ],
      "execution_count": 9,
      "outputs": [
        {
          "output_type": "stream",
          "text": [
            "<class 'pandas.core.frame.DataFrame'>\n",
            "RangeIndex: 569 entries, 0 to 568\n",
            "Data columns (total 31 columns):\n",
            " #   Column                   Non-Null Count  Dtype  \n",
            "---  ------                   --------------  -----  \n",
            " 0   mean_radius              569 non-null    float64\n",
            " 1   mean_texture             569 non-null    float64\n",
            " 2   mean_perimeter           569 non-null    float64\n",
            " 3   mean_area                569 non-null    float64\n",
            " 4   mean_smoothness          569 non-null    float64\n",
            " 5   mean_compactness         569 non-null    float64\n",
            " 6   mean_concavity           569 non-null    float64\n",
            " 7   mean_concave_points      569 non-null    float64\n",
            " 8   mean_symmetry            569 non-null    float64\n",
            " 9   mean_fractal_dimension   569 non-null    float64\n",
            " 10  radius_error             569 non-null    float64\n",
            " 11  texture_error            569 non-null    float64\n",
            " 12  perimeter_error          569 non-null    float64\n",
            " 13  area_error               569 non-null    float64\n",
            " 14  smoothness_error         569 non-null    float64\n",
            " 15  compactness_error        569 non-null    float64\n",
            " 16  concavity_error          569 non-null    float64\n",
            " 17  concave_points_error     569 non-null    float64\n",
            " 18  symmetry_error           569 non-null    float64\n",
            " 19  fractal_dimension_error  569 non-null    float64\n",
            " 20  worst_radius             569 non-null    float64\n",
            " 21  worst_texture            569 non-null    float64\n",
            " 22  worst_perimeter          569 non-null    float64\n",
            " 23  worst_area               569 non-null    float64\n",
            " 24  worst_smoothness         569 non-null    float64\n",
            " 25  worst_compactness        569 non-null    float64\n",
            " 26  worst_concavity          569 non-null    float64\n",
            " 27  worst_concave_points     569 non-null    float64\n",
            " 28  worst_symmetry           569 non-null    float64\n",
            " 29  worst_fractal_dimension  569 non-null    float64\n",
            " 30  cancer_result            569 non-null    int64  \n",
            "dtypes: float64(30), int64(1)\n",
            "memory usage: 137.9 KB\n"
          ],
          "name": "stdout"
        }
      ]
    },
    {
      "cell_type": "code",
      "metadata": {
        "id": "P3aswCqFTQWH",
        "colab_type": "code",
        "outputId": "9ca22975-d790-41d2-8ab3-2df7565d2768",
        "colab": {
          "base_uri": "https://localhost:8080/",
          "height": 156
        }
      },
      "source": [
        "data.groupby('cancer_result').mean()"
      ],
      "execution_count": 10,
      "outputs": [
        {
          "output_type": "execute_result",
          "data": {
            "text/html": [
              "<div>\n",
              "<style scoped>\n",
              "    .dataframe tbody tr th:only-of-type {\n",
              "        vertical-align: middle;\n",
              "    }\n",
              "\n",
              "    .dataframe tbody tr th {\n",
              "        vertical-align: top;\n",
              "    }\n",
              "\n",
              "    .dataframe thead th {\n",
              "        text-align: right;\n",
              "    }\n",
              "</style>\n",
              "<table border=\"1\" class=\"dataframe\">\n",
              "  <thead>\n",
              "    <tr style=\"text-align: right;\">\n",
              "      <th></th>\n",
              "      <th>mean_radius</th>\n",
              "      <th>mean_texture</th>\n",
              "      <th>mean_perimeter</th>\n",
              "      <th>mean_area</th>\n",
              "      <th>mean_smoothness</th>\n",
              "      <th>mean_compactness</th>\n",
              "      <th>mean_concavity</th>\n",
              "      <th>mean_concave_points</th>\n",
              "      <th>mean_symmetry</th>\n",
              "      <th>mean_fractal_dimension</th>\n",
              "      <th>radius_error</th>\n",
              "      <th>texture_error</th>\n",
              "      <th>perimeter_error</th>\n",
              "      <th>area_error</th>\n",
              "      <th>smoothness_error</th>\n",
              "      <th>compactness_error</th>\n",
              "      <th>concavity_error</th>\n",
              "      <th>concave_points_error</th>\n",
              "      <th>symmetry_error</th>\n",
              "      <th>fractal_dimension_error</th>\n",
              "      <th>worst_radius</th>\n",
              "      <th>worst_texture</th>\n",
              "      <th>worst_perimeter</th>\n",
              "      <th>worst_area</th>\n",
              "      <th>worst_smoothness</th>\n",
              "      <th>worst_compactness</th>\n",
              "      <th>worst_concavity</th>\n",
              "      <th>worst_concave_points</th>\n",
              "      <th>worst_symmetry</th>\n",
              "      <th>worst_fractal_dimension</th>\n",
              "    </tr>\n",
              "    <tr>\n",
              "      <th>cancer_result</th>\n",
              "      <th></th>\n",
              "      <th></th>\n",
              "      <th></th>\n",
              "      <th></th>\n",
              "      <th></th>\n",
              "      <th></th>\n",
              "      <th></th>\n",
              "      <th></th>\n",
              "      <th></th>\n",
              "      <th></th>\n",
              "      <th></th>\n",
              "      <th></th>\n",
              "      <th></th>\n",
              "      <th></th>\n",
              "      <th></th>\n",
              "      <th></th>\n",
              "      <th></th>\n",
              "      <th></th>\n",
              "      <th></th>\n",
              "      <th></th>\n",
              "      <th></th>\n",
              "      <th></th>\n",
              "      <th></th>\n",
              "      <th></th>\n",
              "      <th></th>\n",
              "      <th></th>\n",
              "      <th></th>\n",
              "      <th></th>\n",
              "      <th></th>\n",
              "      <th></th>\n",
              "    </tr>\n",
              "  </thead>\n",
              "  <tbody>\n",
              "    <tr>\n",
              "      <th>0</th>\n",
              "      <td>17.462830</td>\n",
              "      <td>21.604906</td>\n",
              "      <td>115.365377</td>\n",
              "      <td>978.376415</td>\n",
              "      <td>0.102898</td>\n",
              "      <td>0.145188</td>\n",
              "      <td>0.160775</td>\n",
              "      <td>0.087990</td>\n",
              "      <td>0.192909</td>\n",
              "      <td>0.062680</td>\n",
              "      <td>0.609083</td>\n",
              "      <td>1.210915</td>\n",
              "      <td>4.323929</td>\n",
              "      <td>72.672406</td>\n",
              "      <td>0.006780</td>\n",
              "      <td>0.032281</td>\n",
              "      <td>0.041824</td>\n",
              "      <td>0.015060</td>\n",
              "      <td>0.020472</td>\n",
              "      <td>0.004062</td>\n",
              "      <td>21.134811</td>\n",
              "      <td>29.318208</td>\n",
              "      <td>141.370330</td>\n",
              "      <td>1422.286321</td>\n",
              "      <td>0.144845</td>\n",
              "      <td>0.374824</td>\n",
              "      <td>0.450606</td>\n",
              "      <td>0.182237</td>\n",
              "      <td>0.323468</td>\n",
              "      <td>0.091530</td>\n",
              "    </tr>\n",
              "    <tr>\n",
              "      <th>1</th>\n",
              "      <td>12.146524</td>\n",
              "      <td>17.914762</td>\n",
              "      <td>78.075406</td>\n",
              "      <td>462.790196</td>\n",
              "      <td>0.092478</td>\n",
              "      <td>0.080085</td>\n",
              "      <td>0.046058</td>\n",
              "      <td>0.025717</td>\n",
              "      <td>0.174186</td>\n",
              "      <td>0.062867</td>\n",
              "      <td>0.284082</td>\n",
              "      <td>1.220380</td>\n",
              "      <td>2.000321</td>\n",
              "      <td>21.135148</td>\n",
              "      <td>0.007196</td>\n",
              "      <td>0.021438</td>\n",
              "      <td>0.025997</td>\n",
              "      <td>0.009858</td>\n",
              "      <td>0.020584</td>\n",
              "      <td>0.003636</td>\n",
              "      <td>13.379801</td>\n",
              "      <td>23.515070</td>\n",
              "      <td>87.005938</td>\n",
              "      <td>558.899440</td>\n",
              "      <td>0.124959</td>\n",
              "      <td>0.182673</td>\n",
              "      <td>0.166238</td>\n",
              "      <td>0.074444</td>\n",
              "      <td>0.270246</td>\n",
              "      <td>0.079442</td>\n",
              "    </tr>\n",
              "  </tbody>\n",
              "</table>\n",
              "</div>"
            ],
            "text/plain": [
              "               mean_radius  ...  worst_fractal_dimension\n",
              "cancer_result               ...                         \n",
              "0                17.462830  ...                 0.091530\n",
              "1                12.146524  ...                 0.079442\n",
              "\n",
              "[2 rows x 30 columns]"
            ]
          },
          "metadata": {
            "tags": []
          },
          "execution_count": 10
        }
      ]
    },
    {
      "cell_type": "code",
      "metadata": {
        "id": "mJ_64nDvTUAr",
        "colab_type": "code",
        "colab": {}
      },
      "source": [
        ""
      ],
      "execution_count": 0,
      "outputs": []
    },
    {
      "cell_type": "markdown",
      "metadata": {
        "id": "EAopRBk8Thh9",
        "colab_type": "text"
      },
      "source": [
        "***Train Test Split***"
      ]
    },
    {
      "cell_type": "code",
      "metadata": {
        "id": "t-XNrCblTpOo",
        "colab_type": "code",
        "outputId": "4d41865a-6232-4eb7-b313-7d38d9877680",
        "colab": {
          "base_uri": "https://localhost:8080/",
          "height": 34
        }
      },
      "source": [
        "from sklearn.model_selection import train_test_split\n",
        "X = data.drop('cancer_result',axis =1)\n",
        "Y = data['cancer_result']\n",
        "type(X)\n",
        "type(Y)"
      ],
      "execution_count": 11,
      "outputs": [
        {
          "output_type": "execute_result",
          "data": {
            "text/plain": [
              "pandas.core.series.Series"
            ]
          },
          "metadata": {
            "tags": []
          },
          "execution_count": 11
        }
      ]
    },
    {
      "cell_type": "code",
      "metadata": {
        "id": "6PMW7OaLT1pQ",
        "colab_type": "code",
        "outputId": "b27d33ae-3998-4bde-ecc4-95f0ece26bb3",
        "colab": {
          "base_uri": "https://localhost:8080/",
          "height": 50
        }
      },
      "source": [
        "X_train, X_test, y_train, y_test = train_test_split(X,Y, test_size=0.25, random_state=42, stratify = Y)\n",
        "print(X.shape, X_train.shape,X_test.shape)\n",
        "print(Y.shape, y_train.shape,y_test.shape)"
      ],
      "execution_count": 12,
      "outputs": [
        {
          "output_type": "stream",
          "text": [
            "(569, 30) (426, 30) (143, 30)\n",
            "(569,) (426,) (143,)\n"
          ],
          "name": "stdout"
        }
      ]
    },
    {
      "cell_type": "code",
      "metadata": {
        "id": "V1ABEEbxT97d",
        "colab_type": "code",
        "outputId": "e14ec777-d5bc-474b-bd07-dd86b83635db",
        "colab": {
          "base_uri": "https://localhost:8080/",
          "height": 34
        }
      },
      "source": [
        "print(Y.mean(),y_train.mean(),y_test.mean())"
      ],
      "execution_count": 13,
      "outputs": [
        {
          "output_type": "stream",
          "text": [
            "0.6274165202108963 0.6267605633802817 0.6293706293706294\n"
          ],
          "name": "stdout"
        }
      ]
    },
    {
      "cell_type": "code",
      "metadata": {
        "id": "YWZEiOkZUBeu",
        "colab_type": "code",
        "outputId": "90da98c1-be30-4ffe-fe4b-afafa30a0b45",
        "colab": {
          "base_uri": "https://localhost:8080/",
          "height": 1000
        }
      },
      "source": [
        "print(X.mean(),X_train.mean(),X_test.mean())"
      ],
      "execution_count": 14,
      "outputs": [
        {
          "output_type": "stream",
          "text": [
            "mean_radius                 14.127292\n",
            "mean_texture                19.289649\n",
            "mean_perimeter              91.969033\n",
            "mean_area                  654.889104\n",
            "mean_smoothness              0.096360\n",
            "mean_compactness             0.104341\n",
            "mean_concavity               0.088799\n",
            "mean_concave_points          0.048919\n",
            "mean_symmetry                0.181162\n",
            "mean_fractal_dimension       0.062798\n",
            "radius_error                 0.405172\n",
            "texture_error                1.216853\n",
            "perimeter_error              2.866059\n",
            "area_error                  40.337079\n",
            "smoothness_error             0.007041\n",
            "compactness_error            0.025478\n",
            "concavity_error              0.031894\n",
            "concave_points_error         0.011796\n",
            "symmetry_error               0.020542\n",
            "fractal_dimension_error      0.003795\n",
            "worst_radius                16.269190\n",
            "worst_texture               25.677223\n",
            "worst_perimeter            107.261213\n",
            "worst_area                 880.583128\n",
            "worst_smoothness             0.132369\n",
            "worst_compactness            0.254265\n",
            "worst_concavity              0.272188\n",
            "worst_concave_points         0.114606\n",
            "worst_symmetry               0.290076\n",
            "worst_fractal_dimension      0.083946\n",
            "dtype: float64 mean_radius                 14.075202\n",
            "mean_texture                19.295047\n",
            "mean_perimeter              91.592911\n",
            "mean_area                  649.627230\n",
            "mean_smoothness              0.096018\n",
            "mean_compactness             0.103460\n",
            "mean_concavity               0.088931\n",
            "mean_concave_points          0.048211\n",
            "mean_symmetry                0.180203\n",
            "mean_fractal_dimension       0.062779\n",
            "radius_error                 0.398923\n",
            "texture_error                1.213723\n",
            "perimeter_error              2.825113\n",
            "area_error                  39.171439\n",
            "smoothness_error             0.007079\n",
            "compactness_error            0.025582\n",
            "concavity_error              0.032497\n",
            "concave_points_error         0.011655\n",
            "symmetry_error               0.020790\n",
            "fractal_dimension_error      0.003814\n",
            "worst_radius                16.202542\n",
            "worst_texture               25.708263\n",
            "worst_perimeter            106.803732\n",
            "worst_area                 872.524413\n",
            "worst_smoothness             0.132365\n",
            "worst_compactness            0.256041\n",
            "worst_concavity              0.277706\n",
            "worst_concave_points         0.114156\n",
            "worst_symmetry               0.291210\n",
            "worst_fractal_dimension      0.084079\n",
            "dtype: float64 mean_radius                 14.282469\n",
            "mean_texture                19.273566\n",
            "mean_perimeter              93.089510\n",
            "mean_area                  670.564336\n",
            "mean_smoothness              0.097380\n",
            "mean_compactness             0.106967\n",
            "mean_concavity               0.088408\n",
            "mean_concave_points          0.051029\n",
            "mean_symmetry                0.184020\n",
            "mean_fractal_dimension       0.062852\n",
            "radius_error                 0.423787\n",
            "texture_error                1.226179\n",
            "perimeter_error              2.988039\n",
            "area_error                  43.809545\n",
            "smoothness_error             0.006929\n",
            "compactness_error            0.025167\n",
            "concavity_error              0.030097\n",
            "concave_points_error         0.012218\n",
            "symmetry_error               0.019804\n",
            "fractal_dimension_error      0.003738\n",
            "worst_radius                16.467734\n",
            "worst_texture               25.584755\n",
            "worst_perimeter            108.624056\n",
            "worst_area                 904.590210\n",
            "worst_smoothness             0.132379\n",
            "worst_compactness            0.248975\n",
            "worst_concavity              0.255750\n",
            "worst_concave_points         0.115947\n",
            "worst_symmetry               0.286697\n",
            "worst_fractal_dimension      0.083548\n",
            "dtype: float64\n"
          ],
          "name": "stdout"
        }
      ]
    },
    {
      "cell_type": "code",
      "metadata": {
        "id": "nrGIO1zZUElF",
        "colab_type": "code",
        "colab": {}
      },
      "source": [
        "# MP Neuron only takes binary output, but we have real values in dataset"
      ],
      "execution_count": 0,
      "outputs": []
    },
    {
      "cell_type": "markdown",
      "metadata": {
        "id": "X3jZhvCAULv-",
        "colab_type": "text"
      },
      "source": [
        "# **Binarization of Input**"
      ]
    },
    {
      "cell_type": "code",
      "metadata": {
        "id": "ZMUZgZJbUOAm",
        "colab_type": "code",
        "outputId": "d2c90305-ca3e-4bb7-db99-1c57563b5e69",
        "colab": {
          "base_uri": "https://localhost:8080/",
          "height": 833
        }
      },
      "source": [
        "import matplotlib.pyplot as plt\n",
        "%matplotlib inline\n",
        "plt.figure(figsize=(15, 5))\n",
        "plt.xticks(rotation = 'vertical')\n",
        "plt.plot(X_train,'*')"
      ],
      "execution_count": 16,
      "outputs": [
        {
          "output_type": "execute_result",
          "data": {
            "text/plain": [
              "[<matplotlib.lines.Line2D at 0x7fb808533828>,\n",
              " <matplotlib.lines.Line2D at 0x7fb8084ab9b0>,\n",
              " <matplotlib.lines.Line2D at 0x7fb8084abac8>,\n",
              " <matplotlib.lines.Line2D at 0x7fb8084abc18>,\n",
              " <matplotlib.lines.Line2D at 0x7fb8084abd68>,\n",
              " <matplotlib.lines.Line2D at 0x7fb8084abeb8>,\n",
              " <matplotlib.lines.Line2D at 0x7fb8084b4048>,\n",
              " <matplotlib.lines.Line2D at 0x7fb8084ab6a0>,\n",
              " <matplotlib.lines.Line2D at 0x7fb8084ab470>,\n",
              " <matplotlib.lines.Line2D at 0x7fb80849bf98>,\n",
              " <matplotlib.lines.Line2D at 0x7fb8089b4a90>,\n",
              " <matplotlib.lines.Line2D at 0x7fb80849b860>,\n",
              " <matplotlib.lines.Line2D at 0x7fb80849b710>,\n",
              " <matplotlib.lines.Line2D at 0x7fb80849b358>,\n",
              " <matplotlib.lines.Line2D at 0x7fb8084b42b0>,\n",
              " <matplotlib.lines.Line2D at 0x7fb8084b4400>,\n",
              " <matplotlib.lines.Line2D at 0x7fb8084b4550>,\n",
              " <matplotlib.lines.Line2D at 0x7fb8084b46a0>,\n",
              " <matplotlib.lines.Line2D at 0x7fb8084b47f0>,\n",
              " <matplotlib.lines.Line2D at 0x7fb8084b4940>,\n",
              " <matplotlib.lines.Line2D at 0x7fb8084b4a90>,\n",
              " <matplotlib.lines.Line2D at 0x7fb8084b4be0>,\n",
              " <matplotlib.lines.Line2D at 0x7fb8084b4d30>,\n",
              " <matplotlib.lines.Line2D at 0x7fb8084b4e80>,\n",
              " <matplotlib.lines.Line2D at 0x7fb8084b4fd0>,\n",
              " <matplotlib.lines.Line2D at 0x7fb8084b9160>,\n",
              " <matplotlib.lines.Line2D at 0x7fb8084b92b0>,\n",
              " <matplotlib.lines.Line2D at 0x7fb8084b9400>,\n",
              " <matplotlib.lines.Line2D at 0x7fb8084b9550>,\n",
              " <matplotlib.lines.Line2D at 0x7fb8084b96a0>]"
            ]
          },
          "metadata": {
            "tags": []
          },
          "execution_count": 16
        },
        {
          "output_type": "display_data",
          "data": {
            "image/png": "[encoded data removed]",
            "text/plain": [
              "<Figure size 1080x360 with 1 Axes>"
            ]
          },
          "metadata": {
            "tags": [],
            "needs_background": "light"
          }
        }
      ]
    },
    {
      "cell_type": "code",
      "metadata": {
        "id": "KzfSb-rpUcp2",
        "colab_type": "code",
        "outputId": "7a06fcd1-5395-4536-8ff7-24f2b3003c7c",
        "colab": {
          "base_uri": "https://localhost:8080/",
          "height": 432
        }
      },
      "source": [
        "plt.figure(figsize=(15, 5))\n",
        "plt.plot(X_train.T,'*')\n",
        "plt.xticks(rotation = 'vertical')\n",
        "plt.show()\n"
      ],
      "execution_count": 17,
      "outputs": [
        {
          "output_type": "display_data",
          "data": {
            "image/png": "[encoded data removed]",
            "text/plain": [
              "<Figure size 1080x360 with 1 Axes>"
            ]
          },
          "metadata": {
            "tags": [],
            "needs_background": "light"
          }
        }
      ]
    },
    {
      "cell_type": "code",
      "metadata": {
        "id": "9Mv9yhpXfuoF",
        "colab_type": "code",
        "outputId": "b4aa9d5d-4917-4df4-b3b9-1efdb63bd046",
        "colab": {
          "base_uri": "https://localhost:8080/",
          "height": 432
        }
      },
      "source": [
        "# We will Binarise on mean: We will use Pandas Cut function to do it:\n",
        "X_train_binary = X_train.apply(pd.cut,bins =2 , labels =[0,1])\n",
        "\n",
        "plt.figure(figsize=(15, 5))\n",
        "plt.plot(X_train_binary.T,'*')\n",
        "plt.xticks(rotation = 'vertical')\n",
        "plt.show()"
      ],
      "execution_count": 18,
      "outputs": [
        {
          "output_type": "display_data",
          "data": {
            "image/png": "[encoded data removed]",
            "text/plain": [
              "<Figure size 1080x360 with 1 Axes>"
            ]
          },
          "metadata": {
            "tags": [],
            "needs_background": "light"
          }
        }
      ]
    },
    {
      "cell_type": "code",
      "metadata": {
        "id": "Koj9C2doha0E",
        "colab_type": "code",
        "outputId": "0acae6e4-9f04-4de8-827b-9114466de054",
        "colab": {
          "base_uri": "https://localhost:8080/",
          "height": 432
        }
      },
      "source": [
        "plt.figure(figsize=(15, 5))\n",
        "plt.plot(X_test.T,'*')\n",
        "plt.xticks(rotation = 'vertical')\n",
        "plt.show()"
      ],
      "execution_count": 19,
      "outputs": [
        {
          "output_type": "display_data",
          "data": {
            "image/png": "[encoded data removed]",
            "text/plain": [
              "<Figure size 1080x360 with 1 Axes>"
            ]
          },
          "metadata": {
            "tags": [],
            "needs_background": "light"
          }
        }
      ]
    },
    {
      "cell_type": "code",
      "metadata": {
        "id": "uwOai95Bhjen",
        "colab_type": "code",
        "outputId": "8be9cbce-7a3c-4152-b75e-a608d50f491a",
        "colab": {
          "base_uri": "https://localhost:8080/",
          "height": 432
        }
      },
      "source": [
        "X_test_binary = X_test.apply(pd.cut,bins =2 , labels =[0,1])\n",
        "\n",
        "plt.figure(figsize=(15, 5))\n",
        "plt.plot(X_test_binary.T,'*')\n",
        "plt.xticks(rotation = 'vertical')\n",
        "plt.show()"
      ],
      "execution_count": 20,
      "outputs": [
        {
          "output_type": "display_data",
          "data": {
            "image/png": "[encoded data removed]",
            "text/plain": [
              "<Figure size 1080x360 with 1 Axes>"
            ]
          },
          "metadata": {
            "tags": [],
            "needs_background": "light"
          }
        }
      ]
    },
    {
      "cell_type": "code",
      "metadata": {
        "id": "Ps1ZNhIbhg_6",
        "colab_type": "code",
        "colab": {}
      },
      "source": [
        "# Now converting into numpy arrays:\n",
        "X_train_binary = X_train_binary.values\n",
        "X_test_binary = X_test_binary.values"
      ],
      "execution_count": 0,
      "outputs": []
    },
    {
      "cell_type": "code",
      "metadata": {
        "id": "qHAM7ADPiUit",
        "colab_type": "code",
        "colab": {}
      },
      "source": [
        ""
      ],
      "execution_count": 0,
      "outputs": []
    },
    {
      "cell_type": "markdown",
      "metadata": {
        "id": "ZUDkyJ9-iZUo",
        "colab_type": "text"
      },
      "source": [
        "# ***MP Neuron Model***"
      ]
    },
    {
      "cell_type": "code",
      "metadata": {
        "id": "-qneWcujihEP",
        "colab_type": "code",
        "outputId": "c0c8839d-c63c-4abf-d53f-0604a72bd6f3",
        "colab": {
          "base_uri": "https://localhost:8080/",
          "height": 0
        }
      },
      "source": [
        "# Let's See how a NP Neuron would work:\n",
        "from random import randint\n",
        "b = 5\n",
        "\n",
        "i = randint(0,X_train_binary.shape[0])\n",
        "print('For row', i )\n",
        "\n",
        "if (np.sum(X_train_binary[i,:]) >= b):\n",
        "  print('MP Neuron inference is malignant ')\n",
        "else:\n",
        "  print('MP Neuron inference is benign')\n",
        "\n",
        "if (y_train[i] == 1):\n",
        "  print('Ground Truth is malignant')\n",
        "else:\n",
        "  print('Ground truth is benign')\n",
        "\n"
      ],
      "execution_count": 22,
      "outputs": [
        {
          "output_type": "stream",
          "text": [
            "For row 30\n",
            "MP Neuron inference is malignant \n",
            "Ground truth is benign\n"
          ],
          "name": "stdout"
        }
      ]
    },
    {
      "cell_type": "code",
      "metadata": {
        "id": "HeCpcMfFkLSR",
        "colab_type": "code",
        "outputId": "748bdbc8-5242-43ea-ad2f-99706a6da982",
        "colab": {
          "base_uri": "https://localhost:8080/",
          "height": 0
        }
      },
      "source": [
        "# So here we see for some it is correct but not for all Our goal is to get value of b, let's test\n",
        "\n",
        "b = 5\n",
        "\n",
        "y_pred_train = []\n",
        "accurate_rows = 0\n",
        "\n",
        "for i,j in zip(X_train_binary , y_train):\n",
        "  y_pred = (np.sum(i) >= b)\n",
        "  y_pred_train.append(y_pred)\n",
        "  accurate_rows += (j == y_pred)\n",
        "\n",
        "print('Accurate results with b =5 are ', accurate_rows)"
      ],
      "execution_count": 23,
      "outputs": [
        {
          "output_type": "stream",
          "text": [
            "Accurate results with b =5 are  64\n"
          ],
          "name": "stdout"
        }
      ]
    },
    {
      "cell_type": "code",
      "metadata": {
        "id": "qNH9yNOvmBXr",
        "colab_type": "code",
        "outputId": "e7c6217a-70be-4c1f-8154-04b12ffc67c6",
        "colab": {
          "base_uri": "https://localhost:8080/",
          "height": 0
        }
      },
      "source": [
        "for b in range(X_train_binary.shape[1] +1):\n",
        "  y_pred_train = []\n",
        "  accurate_rows = 0\n",
        "\n",
        "  for i,j in zip(X_train_binary , y_train):\n",
        "    y_pred = (np.sum(i) >= b)\n",
        "    y_pred_train.append(y_pred)\n",
        "    accurate_rows += (j == y_pred)\n",
        "\n",
        "  print(\"for b = {0} accurate rows are {1} & Accuracy = {2}\".format( b, accurate_rows, (accurate_rows/X_train_binary.shape[0])))\n",
        "\n",
        "\n"
      ],
      "execution_count": 24,
      "outputs": [
        {
          "output_type": "stream",
          "text": [
            "for b = 0 accurate rows are 267 & Accuracy = 0.6267605633802817\n",
            "for b = 1 accurate rows are 124 & Accuracy = 0.29107981220657275\n",
            "for b = 2 accurate rows are 83 & Accuracy = 0.19483568075117372\n",
            "for b = 3 accurate rows are 64 & Accuracy = 0.15023474178403756\n",
            "for b = 4 accurate rows are 57 & Accuracy = 0.13380281690140844\n",
            "for b = 5 accurate rows are 64 & Accuracy = 0.15023474178403756\n",
            "for b = 6 accurate rows are 79 & Accuracy = 0.18544600938967137\n",
            "for b = 7 accurate rows are 88 & Accuracy = 0.20657276995305165\n",
            "for b = 8 accurate rows are 96 & Accuracy = 0.22535211267605634\n",
            "for b = 9 accurate rows are 116 & Accuracy = 0.27230046948356806\n",
            "for b = 10 accurate rows are 125 & Accuracy = 0.2934272300469484\n",
            "for b = 11 accurate rows are 133 & Accuracy = 0.31220657276995306\n",
            "for b = 12 accurate rows are 140 & Accuracy = 0.3286384976525822\n",
            "for b = 13 accurate rows are 141 & Accuracy = 0.33098591549295775\n",
            "for b = 14 accurate rows are 145 & Accuracy = 0.3403755868544601\n",
            "for b = 15 accurate rows are 151 & Accuracy = 0.3544600938967136\n",
            "for b = 16 accurate rows are 153 & Accuracy = 0.3591549295774648\n",
            "for b = 17 accurate rows are 157 & Accuracy = 0.3685446009389671\n",
            "for b = 18 accurate rows are 159 & Accuracy = 0.3732394366197183\n",
            "for b = 19 accurate rows are 159 & Accuracy = 0.3732394366197183\n",
            "for b = 20 accurate rows are 159 & Accuracy = 0.3732394366197183\n",
            "for b = 21 accurate rows are 159 & Accuracy = 0.3732394366197183\n",
            "for b = 22 accurate rows are 159 & Accuracy = 0.3732394366197183\n",
            "for b = 23 accurate rows are 159 & Accuracy = 0.3732394366197183\n",
            "for b = 24 accurate rows are 159 & Accuracy = 0.3732394366197183\n",
            "for b = 25 accurate rows are 159 & Accuracy = 0.3732394366197183\n",
            "for b = 26 accurate rows are 159 & Accuracy = 0.3732394366197183\n",
            "for b = 27 accurate rows are 159 & Accuracy = 0.3732394366197183\n",
            "for b = 28 accurate rows are 159 & Accuracy = 0.3732394366197183\n",
            "for b = 29 accurate rows are 159 & Accuracy = 0.3732394366197183\n",
            "for b = 30 accurate rows are 159 & Accuracy = 0.3732394366197183\n"
          ],
          "name": "stdout"
        }
      ]
    },
    {
      "cell_type": "code",
      "metadata": {
        "id": "6iEqHOi7mJI0",
        "colab_type": "code",
        "outputId": "4b2d3b0f-5e98-4844-b677-744fc2dee0df",
        "colab": {
          "base_uri": "https://localhost:8080/",
          "height": 0
        }
      },
      "source": [
        "for b in range(X_train_binary.shape[1] +1):\n",
        "  y_pred_train = []\n",
        "  accurate_rows = 0\n",
        "\n",
        "  for i,j in zip(X_train_binary , y_train):\n",
        "    y_pred = (np.sum(i) < b)\n",
        "    y_pred_train.append(y_pred)\n",
        "    accurate_rows += (j == y_pred)\n",
        "\n",
        "  print(\"for b = {0} accurate rows are {1} & Accuracy = {2}\".format( b, accurate_rows, (accurate_rows/X_train_binary.shape[0])))\n"
      ],
      "execution_count": 25,
      "outputs": [
        {
          "output_type": "stream",
          "text": [
            "for b = 0 accurate rows are 159 & Accuracy = 0.3732394366197183\n",
            "for b = 1 accurate rows are 302 & Accuracy = 0.7089201877934272\n",
            "for b = 2 accurate rows are 343 & Accuracy = 0.8051643192488263\n",
            "for b = 3 accurate rows are 362 & Accuracy = 0.8497652582159625\n",
            "for b = 4 accurate rows are 369 & Accuracy = 0.8661971830985915\n",
            "for b = 5 accurate rows are 362 & Accuracy = 0.8497652582159625\n",
            "for b = 6 accurate rows are 347 & Accuracy = 0.8145539906103286\n",
            "for b = 7 accurate rows are 338 & Accuracy = 0.7934272300469484\n",
            "for b = 8 accurate rows are 330 & Accuracy = 0.7746478873239436\n",
            "for b = 9 accurate rows are 310 & Accuracy = 0.7276995305164319\n",
            "for b = 10 accurate rows are 301 & Accuracy = 0.7065727699530516\n",
            "for b = 11 accurate rows are 293 & Accuracy = 0.687793427230047\n",
            "for b = 12 accurate rows are 286 & Accuracy = 0.6713615023474179\n",
            "for b = 13 accurate rows are 285 & Accuracy = 0.6690140845070423\n",
            "for b = 14 accurate rows are 281 & Accuracy = 0.6596244131455399\n",
            "for b = 15 accurate rows are 275 & Accuracy = 0.6455399061032864\n",
            "for b = 16 accurate rows are 273 & Accuracy = 0.6408450704225352\n",
            "for b = 17 accurate rows are 269 & Accuracy = 0.6314553990610329\n",
            "for b = 18 accurate rows are 267 & Accuracy = 0.6267605633802817\n",
            "for b = 19 accurate rows are 267 & Accuracy = 0.6267605633802817\n",
            "for b = 20 accurate rows are 267 & Accuracy = 0.6267605633802817\n",
            "for b = 21 accurate rows are 267 & Accuracy = 0.6267605633802817\n",
            "for b = 22 accurate rows are 267 & Accuracy = 0.6267605633802817\n",
            "for b = 23 accurate rows are 267 & Accuracy = 0.6267605633802817\n",
            "for b = 24 accurate rows are 267 & Accuracy = 0.6267605633802817\n",
            "for b = 25 accurate rows are 267 & Accuracy = 0.6267605633802817\n",
            "for b = 26 accurate rows are 267 & Accuracy = 0.6267605633802817\n",
            "for b = 27 accurate rows are 267 & Accuracy = 0.6267605633802817\n",
            "for b = 28 accurate rows are 267 & Accuracy = 0.6267605633802817\n",
            "for b = 29 accurate rows are 267 & Accuracy = 0.6267605633802817\n",
            "for b = 30 accurate rows are 267 & Accuracy = 0.6267605633802817\n"
          ],
          "name": "stdout"
        }
      ]
    },
    {
      "cell_type": "code",
      "metadata": {
        "id": "G0UdU3oQmn9P",
        "colab_type": "code",
        "colab": {}
      },
      "source": [
        "from sklearn.metrics import accuracy_score"
      ],
      "execution_count": 0,
      "outputs": []
    },
    {
      "cell_type": "code",
      "metadata": {
        "id": "P3xkUWOevbyk",
        "colab_type": "code",
        "outputId": "edfeacda-47eb-4ecb-b427-1579bcfbdf62",
        "colab": {
          "base_uri": "https://localhost:8080/",
          "height": 0
        }
      },
      "source": [
        "for b in range(X_test_binary.shape[1] +1):\n",
        "  y_pred_test = []\n",
        "  accuracy =[]\n",
        "  \n",
        "  for i in X_test_binary:\n",
        "    y_pred = (np.sum(i) < b)\n",
        "    y_pred_test.append(y_pred)\n",
        "    \n",
        "  accuracy.append(accuracy_score(y_pred_test,y_test))\n",
        "  print(\"for b = {0} Accuracy is {1}\".format( b, accuracy))\n"
      ],
      "execution_count": 27,
      "outputs": [
        {
          "output_type": "stream",
          "text": [
            "for b = 0 Accuracy is [0.3706293706293706]\n",
            "for b = 1 Accuracy is [0.5874125874125874]\n",
            "for b = 2 Accuracy is [0.7202797202797203]\n",
            "for b = 3 Accuracy is [0.8391608391608392]\n",
            "for b = 4 Accuracy is [0.8461538461538461]\n",
            "for b = 5 Accuracy is [0.8461538461538461]\n",
            "for b = 6 Accuracy is [0.8181818181818182]\n",
            "for b = 7 Accuracy is [0.7762237762237763]\n",
            "for b = 8 Accuracy is [0.7692307692307693]\n",
            "for b = 9 Accuracy is [0.7832167832167832]\n",
            "for b = 10 Accuracy is [0.7482517482517482]\n",
            "for b = 11 Accuracy is [0.7342657342657343]\n",
            "for b = 12 Accuracy is [0.7202797202797203]\n",
            "for b = 13 Accuracy is [0.6923076923076923]\n",
            "for b = 14 Accuracy is [0.6853146853146853]\n",
            "for b = 15 Accuracy is [0.6643356643356644]\n",
            "for b = 16 Accuracy is [0.6573426573426573]\n",
            "for b = 17 Accuracy is [0.6573426573426573]\n",
            "for b = 18 Accuracy is [0.6503496503496503]\n",
            "for b = 19 Accuracy is [0.6503496503496503]\n",
            "for b = 20 Accuracy is [0.6503496503496503]\n",
            "for b = 21 Accuracy is [0.6433566433566433]\n",
            "for b = 22 Accuracy is [0.6363636363636364]\n",
            "for b = 23 Accuracy is [0.6363636363636364]\n",
            "for b = 24 Accuracy is [0.6293706293706294]\n",
            "for b = 25 Accuracy is [0.6293706293706294]\n",
            "for b = 26 Accuracy is [0.6293706293706294]\n",
            "for b = 27 Accuracy is [0.6293706293706294]\n",
            "for b = 28 Accuracy is [0.6293706293706294]\n",
            "for b = 29 Accuracy is [0.6293706293706294]\n",
            "for b = 30 Accuracy is [0.6293706293706294]\n"
          ],
          "name": "stdout"
        }
      ]
    },
    {
      "cell_type": "markdown",
      "metadata": {
        "id": "8W63NPp-5HY7",
        "colab_type": "text"
      },
      "source": [
        "# MP Neuron Class"
      ]
    },
    {
      "cell_type": "code",
      "metadata": {
        "id": "a-ZolnPaxGLB",
        "colab_type": "code",
        "colab": {}
      },
      "source": [
        "class MPNeuron:\n",
        "  def __init__(self):\n",
        "    self.b =None\n",
        "  \n",
        "  def model(self,x):\n",
        "    return(sum(x) >= self.b)\n",
        "\n",
        "  def predict(self,X):\n",
        "    y = []\n",
        "    for x in X:\n",
        "      result = self.model(x)\n",
        "      y.append(result)\n",
        "    return np.array(y)\n",
        "\n",
        "\n",
        "  def fit(self,X,y):\n",
        "    accuracy ={} # we are defining dictionary \n",
        "\n",
        "    for b in range(30):\n",
        "      self.b = b\n",
        "      y_pred = self.predict(X)\n",
        "      accuracy[b] = accuracy_score(y_pred,y)\n",
        "\n",
        "    best_b = max(accuracy,key = accuracy.get)\n",
        "    self.b = best_b\n",
        "\n",
        "    print('Optimal Value of b is ',best_b)\n",
        "    print('Highest accuracy is', accuracy[best_b])\n"
      ],
      "execution_count": 0,
      "outputs": []
    },
    {
      "cell_type": "code",
      "metadata": {
        "id": "N1wTxvYbyxIw",
        "colab_type": "code",
        "outputId": "f884679c-1c6d-43da-963c-49cb46f520b2",
        "colab": {
          "base_uri": "https://localhost:8080/",
          "height": 0
        }
      },
      "source": [
        "mp_neuron = MPNeuron()\n",
        "\n",
        "mp_neuron.fit(X_train_binary,y_train)"
      ],
      "execution_count": 29,
      "outputs": [
        {
          "output_type": "stream",
          "text": [
            "Optimal Value of b is  0\n",
            "Highest accuracy is 0.6267605633802817\n"
          ],
          "name": "stdout"
        }
      ]
    },
    {
      "cell_type": "code",
      "metadata": {
        "id": "pdHaFe1yyyGW",
        "colab_type": "code",
        "outputId": "33c495aa-70c4-4812-da19-a7e321316d1f",
        "colab": {
          "base_uri": "https://localhost:8080/",
          "height": 0
        }
      },
      "source": [
        "mp_neuron.fit(X_test_binary,y_test)"
      ],
      "execution_count": 30,
      "outputs": [
        {
          "output_type": "stream",
          "text": [
            "Optimal Value of b is  0\n",
            "Highest accuracy is 0.6293706293706294\n"
          ],
          "name": "stdout"
        }
      ]
    },
    {
      "cell_type": "code",
      "metadata": {
        "id": "h2-bbUYQ_Ncw",
        "colab_type": "code",
        "colab": {}
      },
      "source": [
        "y_test_pred = mp_neuron.predict(X_test_binary)\n",
        "accuracy_test = accuracy_score(y_test_pred, y_test)"
      ],
      "execution_count": 0,
      "outputs": []
    },
    {
      "cell_type": "code",
      "metadata": {
        "id": "OfgeQer-AqD3",
        "colab_type": "code",
        "outputId": "f24567ad-28a3-4c07-e02c-ecbbb613212b",
        "colab": {
          "base_uri": "https://localhost:8080/",
          "height": 0
        }
      },
      "source": [
        "print(accuracy_test)"
      ],
      "execution_count": 32,
      "outputs": [
        {
          "output_type": "stream",
          "text": [
            "0.6293706293706294\n"
          ],
          "name": "stdout"
        }
      ]
    },
    {
      "cell_type": "code",
      "metadata": {
        "id": "tlfNoD7DBk0g",
        "colab_type": "code",
        "colab": {}
      },
      "source": [
        ""
      ],
      "execution_count": 0,
      "outputs": []
    },
    {
      "cell_type": "markdown",
      "metadata": {
        "id": "sFeYJMH9MKG1",
        "colab_type": "text"
      },
      "source": [
        "# ***Perceptron Class***"
      ]
    },
    {
      "cell_type": "markdown",
      "metadata": {
        "id": "H158TNuaMghh",
        "colab_type": "text"
      },
      "source": [
        "$y=1,\\sum_i w_i x_i>=b$\n",
        "\n",
        "$y = 0,otherwise$"
      ]
    },
    {
      "cell_type": "code",
      "metadata": {
        "id": "rZFueSjzMI_2",
        "colab_type": "code",
        "colab": {}
      },
      "source": [
        "# Convert xtrain and xtest to numpy arrays\n",
        "X_train = X_train.values\n",
        "X_test = X_test.values\n"
      ],
      "execution_count": 0,
      "outputs": []
    },
    {
      "cell_type": "code",
      "metadata": {
        "id": "bwXR_EMcMRTM",
        "colab_type": "code",
        "colab": {}
      },
      "source": [
        "class Perceptron:\n",
        "  def __init__(self):\n",
        "    self.w = None\n",
        "    self.b = None\n",
        "\n",
        "  def model(self,x):\n",
        "    return 1 if (np.dot(self.w, x) >= self.b) else 0\n",
        "\n",
        "  def predict(self,X):\n",
        "    Y = []\n",
        "    for x in X:\n",
        "      result =self.model(x)\n",
        "      Y.append(result)\n",
        "    return np.array(Y)\n",
        "\n",
        "  def fit(self, X, Y, epochs = 1):\n",
        "    self.w = np.ones(X.shape[1])\n",
        "    self.b = 0\n",
        "\n",
        "    accuracy = []\n",
        "    max_accuracy = 0\n",
        "\n",
        "    for i in range(epochs):\n",
        "      for x,y in zip(X,Y):\n",
        "        y_pred = self.model(x)\n",
        "        if y==1 and y_pred == 0:\n",
        "          self.w = self.w + x\n",
        "          self.b = self.b +1\n",
        "        elif y==0 and y_pred == 1:\n",
        "          self.w = self.w - x\n",
        "          self.b = self.b -1\n",
        "      accuracy.append(accuracy_score(self.predict(X), Y))\n",
        "      if (accuracy[i]> max_accuracy):\n",
        "        max_accuracy = accuracy[i]\n",
        "        chkptw = self.w\n",
        "        chkptb = self.b\n",
        "\n",
        "    self.w = chkptw\n",
        "    self.b = chkptb\n",
        "    plt.plot(accuracy)\n",
        "    plt.show()    \n",
        "    print(\"Max accuracy {} is acheived at w = {} and b ={}\".format(max_accuracy,self.w,self.b))\n"
      ],
      "execution_count": 0,
      "outputs": []
    },
    {
      "cell_type": "code",
      "metadata": {
        "id": "UrCskPrPMJKp",
        "colab_type": "code",
        "colab": {}
      },
      "source": [
        "perceptron = Perceptron()"
      ],
      "execution_count": 0,
      "outputs": []
    },
    {
      "cell_type": "code",
      "metadata": {
        "id": "QxJDKZYkVuX1",
        "colab_type": "code",
        "outputId": "dd9e4eaa-fad2-4b8c-86ac-8be29f562834",
        "colab": {
          "base_uri": "https://localhost:8080/",
          "height": 399
        }
      },
      "source": [
        "perceptron.fit(X_train,y_train,50)"
      ],
      "execution_count": 36,
      "outputs": [
        {
          "output_type": "display_data",
          "data": {
            "image/png": "[encoded data removed]",
            "text/plain": [
              "<Figure size 432x288 with 1 Axes>"
            ]
          },
          "metadata": {
            "tags": [],
            "needs_background": "light"
          }
        },
        {
          "output_type": "stream",
          "text": [
            "Max accuracy 0.8943661971830986 is acheived at w = [ 3.04172000e+03  1.97584000e+03  1.69806500e+04  4.00140000e+03\n",
            "  2.17167300e+01 -3.84422600e+01 -9.07009010e+01 -3.52818790e+01\n",
            "  3.65347000e+01  1.94290500e+01  1.35772000e+01  1.62028300e+02\n",
            " -1.50873100e+02 -7.43773800e+03  1.40947100e+00 -1.09533990e+01\n",
            " -1.90681660e+01 -3.12242300e+00  1.06910700e+00  5.57977200e-01\n",
            "  3.23267300e+03  2.04068000e+03  1.69627800e+04 -7.65990000e+03\n",
            "  2.14039200e+01 -1.50953580e+02 -2.31236953e+02 -5.88415400e+01\n",
            "  2.52191000e+01  1.09122100e+01] and b =399\n"
          ],
          "name": "stdout"
        }
      ]
    },
    {
      "cell_type": "code",
      "metadata": {
        "id": "MHV1JUh_I779",
        "colab_type": "code",
        "colab": {}
      },
      "source": [
        ""
      ],
      "execution_count": 0,
      "outputs": []
    },
    {
      "cell_type": "code",
      "metadata": {
        "id": "KHN1wiwuW6k1",
        "colab_type": "code",
        "outputId": "2c68af6b-3c13-4a6d-f705-eaead8b60b03",
        "colab": {
          "base_uri": "https://localhost:8080/",
          "height": 265
        }
      },
      "source": [
        "plt.plot(perceptron.w)\n",
        "plt.show()"
      ],
      "execution_count": 37,
      "outputs": [
        {
          "output_type": "display_data",
          "data": {
            "image/png": "[encoded data removed]",
            "text/plain": [
              "<Figure size 432x288 with 1 Axes>"
            ]
          },
          "metadata": {
            "tags": [],
            "needs_background": "light"
          }
        }
      ]
    },
    {
      "cell_type": "code",
      "metadata": {
        "id": "J_JvRcfCXQKF",
        "colab_type": "code",
        "outputId": "7b79d229-b73c-4187-d7ab-a7044dd9b62f",
        "colab": {
          "base_uri": "https://localhost:8080/",
          "height": 34
        }
      },
      "source": [
        "y_prcptrn_pred = perceptron.predict(X_train)\n",
        "print(accuracy_score(y_prcptrn_pred,y_train))"
      ],
      "execution_count": 38,
      "outputs": [
        {
          "output_type": "stream",
          "text": [
            "0.8943661971830986\n"
          ],
          "name": "stdout"
        }
      ]
    },
    {
      "cell_type": "code",
      "metadata": {
        "id": "K1exsbiaXoNj",
        "colab_type": "code",
        "outputId": "45d832a3-c50f-4622-efaa-c0e6c9e9ad20",
        "colab": {
          "base_uri": "https://localhost:8080/",
          "height": 34
        }
      },
      "source": [
        "y_prcptrn_pred_tst = perceptron.predict(X_test)\n",
        "print(accuracy_score(y_prcptrn_pred_tst,y_test))"
      ],
      "execution_count": 39,
      "outputs": [
        {
          "output_type": "stream",
          "text": [
            "0.8671328671328671\n"
          ],
          "name": "stdout"
        }
      ]
    },
    {
      "cell_type": "markdown",
      "metadata": {
        "id": "ZjHN2aoq751I",
        "colab_type": "text"
      },
      "source": [
        "Learning Rate:\n",
        "We will Introdurce learning rate in above model\n"
      ]
    },
    {
      "cell_type": "code",
      "metadata": {
        "id": "WAvOMY-XX15A",
        "colab_type": "code",
        "colab": {}
      },
      "source": [
        "class NPerceptron:\n",
        "  def __init__(self):\n",
        "    self.w = None\n",
        "    self.b = None\n",
        "\n",
        "  def model(self,x):\n",
        "    return 1 if (np.dot(self.w, x) >= self.b) else 0\n",
        "\n",
        "  def predict(self,X):\n",
        "    Y = []\n",
        "    for x in X:\n",
        "      result =self.model(x)\n",
        "      Y.append(result)\n",
        "    return np.array(Y)\n",
        "\n",
        "\n",
        "  def fit(self, X, Y, epochs = 1,lr = 0.1):\n",
        "    self.w = np.ones(X.shape[1])\n",
        "    self.b = 0\n",
        "\n",
        "    accuracy = []\n",
        "    max_accuracy = 0\n",
        "    wt_matrix = []\n",
        "\n",
        "    for i in range(epochs):\n",
        "      for x,y in zip(X,Y):\n",
        "        y_pred = self.model(x)\n",
        "        if y==1 and y_pred == 0:\n",
        "          self.w = self.w + lr * x\n",
        "          self.b = self.b + lr *1\n",
        "        elif y==0 and y_pred == 1:\n",
        "          self.w = self.w - lr * x\n",
        "          self.b = self.b -lr * 1\n",
        "\n",
        "      wt_matrix.append(self.w)\n",
        "      accuracy.append(accuracy_score(self.predict(X), Y))\n",
        "      if (accuracy[i]> max_accuracy):\n",
        "        max_accuracy = accuracy[i]\n",
        "        chkptw = self.w\n",
        "        chkptb = self.b\n",
        "\n",
        "    self.w = chkptw\n",
        "    self.b = chkptb\n",
        "    plt.plot(accuracy)\n",
        "    plt.ylim([0, 1])\n",
        "    plt.show()    \n",
        "    print(\"Max accuracy {} is acheived at w = {} and b ={}\".format(max_accuracy,self.w,self.b))\n",
        "\n",
        "    return np.array(wt_matrix)\n"
      ],
      "execution_count": 0,
      "outputs": []
    },
    {
      "cell_type": "code",
      "metadata": {
        "id": "UGZsYay_7gW0",
        "colab_type": "code",
        "colab": {}
      },
      "source": [
        "prcptrn = NPerceptron()"
      ],
      "execution_count": 0,
      "outputs": []
    },
    {
      "cell_type": "code",
      "metadata": {
        "id": "fb_YQ9p-7gat",
        "colab_type": "code",
        "outputId": "ab9433d6-c3ef-416e-a20d-45b7590fb5f2",
        "colab": {
          "base_uri": "https://localhost:8080/",
          "height": 622
        }
      },
      "source": [
        "prcptrn.fit(X_train,y_train,epochs = 250, lr = 0.01)"
      ],
      "execution_count": 54,
      "outputs": [
        {
          "output_type": "display_data",
          "data": {
            "image/png": "[encoded data removed]",
            "text/plain": [
              "<Figure size 432x288 with 1 Axes>"
            ]
          },
          "metadata": {
            "tags": [],
            "needs_background": "light"
          }
        },
        {
          "output_type": "stream",
          "text": [
            "Max accuracy 0.92018779342723 is acheived at w = [ 3.28163400e+01  1.65238000e+01  1.75640500e+02  5.48460000e+01\n",
            "  1.18722320e+00  4.91046900e-01 -9.76594630e-02  5.67414180e-01\n",
            "  1.32527800e+00  1.17888100e+00  1.07712200e+00  2.18782100e+00\n",
            " -1.10619300e+00 -8.05919300e+01  1.00046120e+00  8.46223170e-01\n",
            "  7.51271447e-01  9.48135420e-01  9.90445700e-01  9.91357061e-01\n",
            "  3.45859600e+01  1.26693000e+01  1.71630000e+02 -8.56310000e+01\n",
            "  1.16119670e+00 -9.19177600e-01 -1.83674683e+00  2.61140190e-01\n",
            "  1.11976200e+00  1.06113540e+00] and b =4.159999999999956\n"
          ],
          "name": "stdout"
        },
        {
          "output_type": "execute_result",
          "data": {
            "text/plain": [
              "array([[ 5.38942000e+00,  9.73890000e+00,  2.75898000e+01, ...,\n",
              "         9.91641590e-01,  1.12521200e+00,  1.03939300e+00],\n",
              "       [ 7.56302000e+00,  1.37002000e+01,  4.06124000e+01, ...,\n",
              "         9.81163790e-01,  1.18965300e+00,  1.05965770e+00],\n",
              "       [ 9.28539000e+00,  1.65678000e+01,  5.07083000e+01, ...,\n",
              "         9.73674490e-01,  1.23615200e+00,  1.07500210e+00],\n",
              "       ...,\n",
              "       [ 7.30165600e+01, -7.22984000e+01,  3.37508900e+02, ...,\n",
              "        -3.38142911e+00, -1.88604700e+00,  2.32057000e-01],\n",
              "       [ 7.31329600e+01, -7.26303000e+01,  3.37870100e+02, ...,\n",
              "        -3.39807851e+00, -1.90588100e+00,  2.27274300e-01],\n",
              "       [ 7.33704600e+01, -7.26036000e+01,  3.38965900e+02, ...,\n",
              "        -3.41289891e+00, -1.91701700e+00,  2.24532500e-01]])"
            ]
          },
          "metadata": {
            "tags": []
          },
          "execution_count": 54
        }
      ]
    },
    {
      "cell_type": "code",
      "metadata": {
        "id": "9RinQmptprDu",
        "colab_type": "code",
        "colab": {
          "base_uri": "https://localhost:8080/",
          "height": 403
        },
        "outputId": "e808dba3-b7ca-4de1-dd0d-fa3fafcf0f55"
      },
      "source": [
        "wt_mtrx = prcptrn.fit(X_train,y_train,100)"
      ],
      "execution_count": 55,
      "outputs": [
        {
          "output_type": "display_data",
          "data": {
            "image/png": "[encoded data removed]",
            "text/plain": [
              "<Figure size 432x288 with 1 Axes>"
            ]
          },
          "metadata": {
            "tags": [],
            "needs_background": "light"
          }
        },
        {
          "output_type": "stream",
          "text": [
            "Max accuracy 0.9014084507042254 is acheived at w = [ 2.25787200e+02  2.90372000e+02  1.30621400e+03  4.54100000e+02\n",
            "  2.94221800e+00 -2.02317000e-01 -3.27661040e+00 -7.85474000e-01\n",
            "  4.50673000e+00  2.59915900e+00  7.02110000e-01  1.91694300e+01\n",
            " -1.30659900e+01 -7.03015000e+02  1.11182790e+00  6.85579500e-01\n",
            "  3.71845100e-01  8.80576900e-01  1.23067360e+00  1.02890147e+00\n",
            "  2.37771600e+02  3.45373000e+02  1.33637400e+03 -7.05310000e+02\n",
            "  3.41552800e+00 -3.90031000e+00 -8.18926660e+00 -1.33413910e+00\n",
            "  5.39296000e+00  2.47531400e+00] and b =29.50000000000015\n"
          ],
          "name": "stdout"
        }
      ]
    },
    {
      "cell_type": "code",
      "metadata": {
        "id": "HWvFXGPY7geo",
        "colab_type": "code",
        "colab": {}
      },
      "source": [
        "y_prcptrn_pred_tst2 = prcptrn.predict(X_test)\n"
      ],
      "execution_count": 0,
      "outputs": []
    },
    {
      "cell_type": "code",
      "metadata": {
        "id": "Ik-8L8gs7giJ",
        "colab_type": "code",
        "colab": {
          "base_uri": "https://localhost:8080/",
          "height": 34
        },
        "outputId": "a3c6d325-d188-464c-9736-5c4869e91d86"
      },
      "source": [
        "print(accuracy_score(y_prcptrn_pred_tst2,y_test))"
      ],
      "execution_count": 57,
      "outputs": [
        {
          "output_type": "stream",
          "text": [
            "0.8951048951048951\n"
          ],
          "name": "stdout"
        }
      ]
    },
    {
      "cell_type": "code",
      "metadata": {
        "id": "0jAZ4ly-7gly",
        "colab_type": "code",
        "colab": {
          "base_uri": "https://localhost:8080/",
          "height": 265
        },
        "outputId": "8766c10e-3e82-4c12-b6d0-3a774b7193db"
      },
      "source": [
        "plt.plot(perceptron.w)\n",
        "plt.show()"
      ],
      "execution_count": 58,
      "outputs": [
        {
          "output_type": "display_data",
          "data": {
            "image/png": "[encoded data removed]",
            "text/plain": [
              "<Figure size 432x288 with 1 Axes>"
            ]
          },
          "metadata": {
            "tags": [],
            "needs_background": "light"
          }
        }
      ]
    },
    {
      "cell_type": "code",
      "metadata": {
        "id": "zIik8o-UqrBr",
        "colab_type": "code",
        "colab": {
          "base_uri": "https://localhost:8080/",
          "height": 265
        },
        "outputId": "91d17e6f-4605-402c-ef33-011a57c48c2b"
      },
      "source": [
        "plt.plot(wt_mtrx[-1,:])\n",
        "plt.show()"
      ],
      "execution_count": 59,
      "outputs": [
        {
          "output_type": "display_data",
          "data": {
            "image/png": "[encoded data removed]",
            "text/plain": [
              "<Figure size 432x288 with 1 Axes>"
            ]
          },
          "metadata": {
            "tags": [],
            "needs_background": "light"
          }
        }
      ]
    },
    {
      "cell_type": "code",
      "metadata": {
        "id": "xmG9JqHLnQHU",
        "colab_type": "code",
        "colab": {}
      },
      "source": [
        "# Animation of how w is developed:\n",
        "\n",
        "from matplotlib import animation, rc\n",
        "from IPython.display import HTML\n"
      ],
      "execution_count": 0,
      "outputs": []
    },
    {
      "cell_type": "code",
      "metadata": {
        "id": "FrJACOhCn_cO",
        "colab_type": "code",
        "colab": {
          "base_uri": "https://localhost:8080/",
          "height": 286
        },
        "outputId": "eb158121-0cde-45d9-b935-b3183ac6687b"
      },
      "source": [
        "# Setting up the figure\n",
        "plt.figure(figsize=(15,20 ))\n",
        "fig, ax = plt.subplots()\n",
        "\n",
        "ax.set_xlim((0, wt_mtrx.shape[1]))\n",
        "ax.set_ylim((-1500, 2500))\n",
        "line, = ax.plot([], [], lw = 2)"
      ],
      "execution_count": 64,
      "outputs": [
        {
          "output_type": "display_data",
          "data": {
            "text/plain": [
              "<Figure size 1080x1440 with 0 Axes>"
            ]
          },
          "metadata": {
            "tags": []
          }
        },
        {
          "output_type": "display_data",
          "data": {
            "image/png": "[encoded data removed]",
            "text/plain": [
              "<Figure size 432x288 with 1 Axes>"
            ]
          },
          "metadata": {
            "tags": [],
            "needs_background": "light"
          }
        }
      ]
    },
    {
      "cell_type": "code",
      "metadata": {
        "id": "yWs75kiBos8h",
        "colab_type": "code",
        "colab": {}
      },
      "source": [
        "# Animation function, THis is called sequentially \n",
        "\n",
        "def animate(i):\n",
        "  x = list(range(wt_mtrx.shape[1]))\n",
        "  y = wt_mtrx[i,:]\n",
        "  line.set_data(x,y)\n",
        "  return(line,)"
      ],
      "execution_count": 0,
      "outputs": []
    },
    {
      "cell_type": "code",
      "metadata": {
        "id": "50VXqB7QsDOH",
        "colab_type": "code",
        "colab": {}
      },
      "source": [
        "# Call the Animator.\n",
        "# blit: True means only re-draw the parts that have changed\n",
        "\n",
        "anim = animation.FuncAnimation(fig, animate, frames=100, interval=200, blit = True)"
      ],
      "execution_count": 0,
      "outputs": []
    },
    {
      "cell_type": "code",
      "metadata": {
        "id": "jximCUdOsdlf",
        "colab_type": "code",
        "colab": {
          "base_uri": "https://localhost:8080/",
          "height": 309
        },
        "outputId": "a5e0b23b-96b8-442c-e9fe-e4cb74c636f2"
      },
      "source": [
        "HTML(anim.to_html5_video())"
      ],
      "execution_count": 70,
      "outputs": [
        {
          "output_type": "execute_result",
          "data": {
            "text/html": [
              "<video width=\"432\" height=\"288\" controls autoplay loop>\n",
              "  <source type=\"video/mp4\" src=\"data:video/mp4;base64,AAAAHGZ0eXBNNFYgAAACAGlzb21pc28yYXZjMQAAAAhmcmVlAAB8sm1kYXQAAAKtBgX//6ncRem9\n",
              "5tlIt5Ys2CDZI+7veDI2NCAtIGNvcmUgMTUyIHIyODU0IGU5YTU5MDMgLSBILjI2NC9NUEVHLTQg\n",
              "QVZDIGNvZGVjIC0gQ29weWxlZnQgMjAwMy0yMDE3IC0gaHR0cDovL3d3dy52aWRlb2xhbi5vcmcv\n",
              "eDI2NC5odG1sIC0gb3B0aW9uczogY2FiYWM9MSByZWY9MyBkZWJsb2NrPTE6MDowIGFuYWx5c2U9\n",
              "MHgzOjB4MTEzIG1lPWhleCBzdWJtZT03IHBzeT0xIHBzeV9yZD0xLjAwOjAuMDAgbWl4ZWRfcmVm\n",
              "PTEgbWVfcmFuZ2U9MTYgY2hyb21hX21lPTEgdHJlbGxpcz0xIDh4OGRjdD0xIGNxbT0wIGRlYWR6\n",
              "b25lPTIxLDExIGZhc3RfcHNraXA9MSBjaHJvbWFfcXBfb2Zmc2V0PS0yIHRocmVhZHM9MyBsb29r\n",
              "YWhlYWRfdGhyZWFkcz0xIHNsaWNlZF90aHJlYWRzPTAgbnI9MCBkZWNpbWF0ZT0xIGludGVybGFj\n",
              "ZWQ9MCBibHVyYXlfY29tcGF0PTAgY29uc3RyYWluZWRfaW50cmE9MCBiZnJhbWVzPTMgYl9weXJh\n",
              "bWlkPTIgYl9hZGFwdD0xIGJfYmlhcz0wIGRpcmVjdD0xIHdlaWdodGI9MSBvcGVuX2dvcD0wIHdl\n",
              "aWdodHA9MiBrZXlpbnQ9MjUwIGtleWludF9taW49NSBzY2VuZWN1dD00MCBpbnRyYV9yZWZyZXNo\n",
              "PTAgcmNfbG9va2FoZWFkPTQwIHJjPWNyZiBtYnRyZWU9MSBjcmY9MjMuMCBxY29tcD0wLjYwIHFw\n",
              "bWluPTAgcXBtYXg9NjkgcXBzdGVwPTQgaXBfcmF0aW89MS40MCBhcT0xOjEuMDAAgAAAESRliIQA\n",
              "Ev/+963fgU3AQO1rulc4tMurlDQ9UfaUpni2SAAAAwADlGX8NcHagMulVV978vrGlfhgH+7eay7o\n",
              "qGWsmkhRjYoGt35d9mCikyyH631CC9dA0J0A8YTC/U1XILOO9/4ObLEEVeOGNHBCjsM4AiHRiof/\n",
              "z9iMyNadKr9xHHm5Uga/5wQ3oS0SUseM1AAACnvp2FO40yJouXKcFvU8UAy2ehv7HlmGdPZ+1B6Q\n",
              "YotKchiTxBzrurnUk8Mp8HKBACJKwp0+EUQ1TinVo10Bm10+Yo4h85s+UEMneHcWXBVrYKKXxv5o\n",
              "uKt/Vwbcqx059lYOTS/Rqae4E70F3sh+roNrZs0rD9Vzo1Dl/50peJuwZx6b5iZYIpZ013w/7bgY\n",
              "Hd2X4sv5DG7PnX9bM1+x288YxsxrAFWq+qoTAyMy5QPD5fQS3Eu0yP2esOzPM1IeAB8EGvtKur+7\n",
              "D70qPihFAjnwIBG1nLqoVosgMEBUacPCUqtf4Q01WITDbQkB2DpjghbDnCn7dfrWoNu/IHLAAQkh\n",
              "C8qGge4JQk1hBzhe0Dlr/+1RkEreaCZM0+Nq57IyuUVNmsJNSIB4XA09cc6s47OfNm/JJuWgEyM+\n",
              "v0nC9ZZ4EIQymgWrtwu2Q7saJm0NRw9FE3/HCVMhmI+HxeFMC9lra173NNHG0BdppHx6kzB7yq1d\n",
              "Wllp8RLpLayuTeJqy1iMvf7zHmCdULbWSweODSgubCNACf87GRjFMIKUGTbRA34T0B9snfdXyoNA\n",
              "jsFcD+jH1yUfGnA8TkftOgAcFQ5xcEAZgRVZMMfik0qiczrRhkRcvAAUtZHJfbAXT0jv6cHSL8uv\n",
              "7LhxoN6HgWCC0RjSw2WgzcqI4RWMGjD3xdtgvmlr+JyBQR71PyfR/daZUmtYOnlKXsjsn1DdIMPA\n",
              "YvwYSDmf8TJZ8fV6eRNXb5LtPlJSHlkDqJ+3++QABuvvX/b2ko/Y2WG/qOb3/liMxPEty5G86R+I\n",
              "9nlF+5jswr2kwkYQNaf8K8pVOWbu32JgVEtnaYJMwMqdY8NMLXdg8NydGyEhAeuoDSQqkG542E6P\n",
              "GTVSbDy+iwAYp4/LksBV1Er16vLC6hO0YfK3h1XOGdSCN2qHu8D+YOj3xCVs4FrlqI2W8eXlb3FM\n",
              "3tehXfKKqFOfhKonLSYjUQtI4W7uL+GCKlxI1MiCjS5dTJH7B9ZKH0Qnu+QQByhnDeh3mE0DPfk0\n",
              "ay7Kr7erN8hKvtOW2D9wrAAFBNkUIqpq9BtS4DJn3Urt1FRviVFMcd3ag4PtTWtcOKjoABK7WKQl\n",
              "BedmVt/6+QA20Xpx4lpXUjIlMxzJZWowuD85DKgP1LylNAZ0x2H7by33EeZDivEEd02y52pdycVo\n",
              "cnDeKLXCG6w401/PyET5O638JscGzVfD1g4m4t14YjQNtUCozC1Qz/VmADJq118/bnf313E/y5V0\n",
              "4Zw8lrFoyD5IJdWQWcPEQbcGUHb6E+kWc4I+3P0mUoPsIi2aXYatokZr+7Qd2WBbTDF3cPYAAAMD\n",
              "N2Gt7TJ0Ga2d616kfeYvOeOPERbvKi4EC+V3G9OALdlGz0ySgR3N0heVrUqFbg2geYRvgtzxNHV9\n",
              "3NCw1GnTU61LVRwpuiuRsaXGnCkoU7NnieThcAn0UWpBN1Z5m4DLsrxXsUk7RWyS5sBK/K+YKAVb\n",
              "aa+I8NyvnHlw9/fhBTtW6CEQT1nsDUmUBeiF7+iXEv5TiAsX/cMCbv3/6tG8142jhlSpbHPnOhGV\n",
              "+6m2tdzIjisBSI7iiHMWeHkMkJ9847aq298PNbIfpyrw+3Wm0klEbeV9NT5iFYlpftMapyN8uq3g\n",
              "gy2b8ZYfsUZX11S0TmdfKZo5SVYZPFTIQBQ/eRwhoQ8jzXu0PsJpMef7qQFoBD/meeuJ+LB5r/uz\n",
              "4mNMOJ80BdzFYm9uar/9gkQeZszbdSNS6Dq2uOcrE9O4G1aiyhzh6BGSoX0tuvwj6GxBuHhXdWwl\n",
              "8OARn2rT177T+AI+i63/NOuNcm28kc/y6g9+hdxqaNJb0qjCZ2btE9FGaNawlpuGrO+ljTkcLYv7\n",
              "0MgkPfT7tjzblNm+iuicbw5BYABHf1vx31D3FBZ9kaWbAxQhbPcKYqpHOTJQRNngBCXRDHE50xut\n",
              "5nmJDUZIXRskZe99AkUgsX876Wfj19qQR4TN/JIJVmU7MKc+7NqwFoB8jxm/zMKd7sX+t/aP6v27\n",
              "Dt+5h3HBo1YK8isqtI8DRXgkJlC8vu1tOnqL+1jBMPtJ8mtr9z2jjekT7psaAUN+LxPi27mmErgM\n",
              "Biesr6ESPVRMVdRPmF0FDchP9cqEGW2u1ytDWQPzXXgPsXUT8/zr4B7mtjindOOXVBzhU7YzGzAz\n",
              "xYj+AtuRZpKm/x85exCQJNHL+IGIObJQuvYKx0XspRC9Ohr4uiD3uFm0wv1Lt8IeoiFF9v8zvw4X\n",
              "aI/odivV5rQVq488nHY096/DfJtp/w+luJ6nXNYM3IDigkiQ+3u8I9XL/sJDPN4iiUbbdQ/+DA5S\n",
              "W96t0uV2SjxqmTyk4ovS0Y2Enra+Aaox4EH+6XeD0ijWL+HXCy7Rbq6sqB25SNdadw7peTMYfUbI\n",
              "R2kXZSK2FDFxbwCVLPslXkuOIr/+yJ9jyJiOFvc55AZAzEHdn1Pa4/6V6dnKQ4qFqXoiEzehBpxY\n",
              "j76GFubwwSIeIbNz0d0eMS2VE54X3GrxFd4mpQuwcOlshXT0dGOyxy4Vz8dKohkRmTkJ3Zkw2kXD\n",
              "zD2qU0G3dla4G/iy7QgXRqR2+5YqmgJAcFEND4yQZylYfJYD8zeDZkQ7BUqvFpLWXtBuoatOPbc0\n",
              "ur8gsqH7a8RKtNSM3MOYD1D2c1GFAwa1GoOPYb8OZOmEwR4WwJ8ldHrFIvp9p94SXhgfQt1h+EMk\n",
              "AzwbMyf9OK1ryvSc8ZFeuZPrMADIMcizZ4qScnfLlO2NsqA7K83aPbAur/FZ4DFbbSbbOBmc4YyT\n",
              "4Xbp7a2mtgXqzfRyJURvSMU1e//lqg2Pem+c5jPiVr2Dlv1B3egULv3pR15jzNnmzv3+5J71CHg9\n",
              "F+qvctj/GFGXl+QYKm5o0yCR3b0TLdGl2znndyhcdv/bMWutCu5OLsnVVCD+ax61cf7sSTX8/IsS\n",
              "bLs+Hjz+EYKHiMxZc8iv3+LLjJIrGqNSXA17nK/g5u4UMBWYQ07bBI6NKI88XGSAVhAuwO37acFQ\n",
              "eHcYgisMsKf6JLPTZkofR9iCnhUkT5VHb/lrIekmKzpiy4CL8eoyrjsZQw09JfKJlQteC7NfB4de\n",
              "fQmSuS5d1Zart+GNGoBL0shHeQhAUEj87uiA2MefRYYU81HuvNXTxSNupsWPbA9resnime9U+kjG\n",
              "AH59E9mto0tE5twfP4jVtBUJi0xA0LRlFzUbNJ9s/SalBe50Jf0YcUFnwUSBS73VBwHpQjEHzEiY\n",
              "KR6JqkZbo9SgGy9/Ns+YTwU+y81KVE3RcxGwSBPOpfraRgi5yS6VSV/MBvPfmYGnQl1Ns5BfgFW3\n",
              "tKFTfdqyke/hz8B4GMcgwzAdhoeCmYhLC9lFTGY7pi2LwTJxNCALVlWXTX7m13+AQr8XhfYx9IA3\n",
              "ySkLMjd4IZr6DEtLFfELVyD0t4RiBlqj5/gR1hCQV/UOgLr6EYO3vNYKFuuqjFyhSbFZmQvNMctz\n",
              "DzSZWH2rkk7lupRltpZ/rlTP23Pz6c73ZGv3Q79/UaHNTQtnv9/2SLCqloM9NhSYhbp8A7ZrftE4\n",
              "ePQUrWSkuk6qhxunUbk4gc6T3ylJmMBcy3868rPMc0k3i6P18EthlxtURJD+mZUI8eWNE4dt4kXg\n",
              "B8h03ytqknm9Y6U/gE3U1RL/z6SF6VBeWKJIO6s51ubMectAKzqyMifkhN2tgXXzGuyJfJgEoL32\n",
              "5xazswDQBo0VDdsXACotOY0NRTF1Qkgeh8PR552EMEEb4SCBusc07bgi9eXGWQ4u3+KSO5rEignH\n",
              "uJgahyz5GzjTDQAUHk8kU0epLlY9Wr6ttP0twhz0+7JlRVctNiOkdTWIG7K+OSe42lOaItURmISK\n",
              "AXdV5ICEZ8b5hZ8xLtHoUKH6aU4myTaFn7L/n76sFaOS8uSVwochiAqK1TK4WiWyFtKa7dRpGBmJ\n",
              "AAAJSKS/V3jl81aVXrTtVIul2F1NEnkK6iv/aKaAB3wsURnhP1qj2WXIc5mRdgPgumuM68BeZk81\n",
              "31NDBlteD3D154G3kb2yyhs3CV2ftecbrMgMY65Une4Tl0nr7yep9ldI6VrPRRM10RmMmfWkcSKR\n",
              "YB2xOBcPz9pII3MgAlpQEg1q6KvNN8sPmwzy+2hUoZ89SmgGriL2fwSFyKe40NgETJXQ2RBWO8yX\n",
              "7UxyQrKnobai9tjInTS7jAPtu/9gz6rcFjbIteepTb5QNEswmqbk+wzBdooyfE+uEHQtZARn51oG\n",
              "Puu7FNNLUCY6FLtlxfqXsveJS25K600qhfAwH5q4tAg8qLOdPuGBz9QGwVqiR8LcCMv4WXbVvtAh\n",
              "sjCyPfCZ0rE2FkyLEjwGKFvrCzLxSgf9bRqr60u1gIqky7COC+DxqG+p5oI8rlfTZo56P0DVzIDY\n",
              "aH36RUad/IzKRPWRtl/Os3bO14BXKxpzGI8yUQPkS98PZHbV9J/qtJ5oxgxh9Cmns4kZfi3PrsAJ\n",
              "cvBmtR06wwLr9NW+9enZwyni6m4PnHKA198QEKYBPZlncvArz4r7pFcfd5Fw34Y1GiTZY9TzxuWt\n",
              "AW44AGnviM1S0J/edAgt2nSK4+7yLhvwxo2qHlrpTyojF/97B8b6fxlenBGiegK6RiKzrUNG1dYm\n",
              "MoK25e4myMzK5aWFQkX6oFx+kyOoCwP/7PoxnXUmz8ACtF4U+b0Py3dsnsqA4UrSu77/nSOooJmP\n",
              "IbySgsUiXO243BjitzuNqGcmTVDc6ClFs3+udyJzScOGeze4bwgp8urxq2/TzThrB8r1SJVfn0s4\n",
              "1Qxgf5EG2copwVZMuWUurv33onprVEsQJmtn7YrCi4s2xTk083d6pzXEPkfDPKAJrNjeOR3eWDSp\n",
              "/tY3MVNB11X2nH0oOREmvqGBeHw/mc97j3Ml7I/WU6FDK9JiXNOR08pgZvPRMdE8eZxlRh1lcOvT\n",
              "TZtcEAgKGbEQvaLaO43fN/wX80xfZHs6QLTyr4RZ33M/CGWASnO2+wY8/Gjxuim0fl3ef/5UiDuq\n",
              "ok3P8m02zWso8msjjfU2BWoI+RRHszoxAPkYbaEaYprb2uyzgfnIk33TtVfB4fDomru0w9l+jJzM\n",
              "ZV6GwgXl1gQXM1u8DvKiRb7XvQxxOvXbmHzFjm3frJso8ezmezKeBkposs4pT/MyNilOB3ioUOx5\n",
              "J+2bmiYhqcXUkS6dx9OD7pPJF1bauYmvDpQIy9chnKctrpjR4RNbn9Jw/BMx6D7XLN8ythbYdQrL\n",
              "6WhvaBCSP5DVJLxSbXExbBs2M+xcBJ7/WKbM/dkK+1swG5MMIvh1BsSAUV08dSo+UcRzsxQIfQ4F\n",
              "oLoWtPOPP/8PonmrkF3Hhd5ZUb3tFIsvR6FV/4NXac+A2LeTyzgq0gMYdkeaV1d87HxBVJSwXEeG\n",
              "kpmSc+3cJzoTitG8oH/t7N9zlaBmEp6P2hbWJclOFILEkULR0essfubZwqjbaQ5DY/n6NrcuQCmk\n",
              "v9l0Wna7nT4F3DQEnaaUKbP2w1iyPvQ2ie9PsYW8M9GzlSp20geD4iGGXlSS9tOwrY94JoAmhbfV\n",
              "aDaDv2uLuKa4kSoFH1A+r9Oi24SbPxxaj4ujR4nApE3XaFQXrOLlBhdoZjnPrj7pp1gitmBh/pVn\n",
              "q09+iJ76EOS4jry2wVK+JH7CkyJT+Z32Fs89pQYL7fJDY2hy62ziVwCPigADcwDeAADHgQAABJ5B\n",
              "miFsQS/+tSqAIozmUAJjAl/2sW6zLgo7MC3EnBZdrK3pxj/wsyxRQGLtvePPnW7D88G5hZdr5tM7\n",
              "rJ3YXc6YqO4Wz0S3zqd1FEUyz937aplnfBCtZ5qt6AMq3oIq08sCdX86QWdq+/sEu02Iw3ft0Ods\n",
              "Ibwg494qPkiOBy+nklj1xb4gRO6aJsyaXHLqAUnMAzFdldSjsNTQxrmQNxEaHgx5+qRWgrmttGpF\n",
              "dI1hyhqs0Wvr7Bq1D4XhFgoxAtM5/abIRFBAQYFuGx8z7FaeT4A0GVPN1sYkmTlfEYwMpMV01HJZ\n",
              "YY91n67zjh9DF/xumsN0FlyCx87bDUqC+WdApnDSqJw7ULzk31aYRkM2JwfKhn6WOsT30xoCA86Y\n",
              "zrWzFcF7usKNWawRxidrp0PtSOAp8s23kqoQ1R6bq4aHcdgPGoyn963dVZYBDKVGm+ErWfVwNIx+\n",
              "zgTnjooFn3xDYMc2yjhDYYoUQU8VWELfx5zu4JyxQsmmH7NTLDtkO0Cpws0btWoyHspHeMyAI7oP\n",
              "OmEdOALC5bq0ZjqnKCC/nkiHDWXjC4Z049THiDI15lvnueuQ5epwT7x4WkWAVxOvsUDEpX7qd5ze\n",
              "DlxvZ+XdEZUUv5TiF9Konwi4qrBfDqJjxO2PHiG1Yr6FhQaU5XDNN7xeyilVU9F1Op5d9Y+6628i\n",
              "PjaiZFKgheUH8GsFrlBRiqMf4YAEW1vrpJcuwlQSkCDAcJ/hCJSWYT2bWx+clVt2w5R11NOw5yuo\n",
              "z0rQNC9dlGGM8QvXoZO2iI9XtP07GQk1L9NRBvfoq6BhcEOOrD+0zMfDQpmdM1tFRI1SfVzYygNg\n",
              "UK62ggx0mR9e4gNyBdVh00ZYp267dtaYwyW4gAgYt9Ebliyh0EScWzlWYZWulIwIsqZe162yc7ZM\n",
              "ukuNT56FZOU7o6vxKI3So5pEafARuKMLhxKNmscaqqHdqTxPxU3wgLN2m6QrMEIA4ZDueKx8wHLu\n",
              "yhyWPzoVAwOLs6x4Ygw77g8ex3z/4GxaO7KxCCljv4dvWoJynDiRaRLPbO6iU+pX/ucjrdgVQxLQ\n",
              "FxE7HlbxiUZPf2faqF9IWAPBkJSf9Ou6VuyWMCBpUTxPw2IRnjADmohMnK1y2FohJ3bz0GTy/eGj\n",
              "wZ6eC72ETjuyL2+ehSHCCFGJ+SnMqxQA7XNNv3oynfTdwlXjPXZ/T3DMu2F0w0QQ5Ny4ihMaSzny\n",
              "i0zwPTiCOfUYQ2wWPxWoUhvY7gwDHJ4+W9lmGdca4j71uwWGI05g3+WPTAbyXuIlnPXT9zp9vWuK\n",
              "DTAd2awo/q/pFIB/tnsRlcla/+VAOT4RzxkyFCgebrJDIdSq9v9nIw3ecNJNG84BQJByRX3OHF1l\n",
              "h4NwSdVStZTRJS+Q/72D1rXzD6AGxZScTGXBT7Q2Dc+Ai06OBpC/TQiXoegwLp/wmeJlLDZbPzgS\n",
              "hiP+gG/YBLuIa6qbOrA3oR11O+8jE6wIl5jlUwUuOFVIEIiijMmJskmXcSyDVVp7qj13J5zuU2+X\n",
              "HugLjKh6Xeep6dKmzdP7p9BRTyXbDmYh9Qv0uOeQiZkKD5FmzOKA8IAAAAMjQZpCPCGTKYQS//61\n",
              "KoAAb2k1uHiAUZsHfoQ74FSqGaSNJ6dFqofiFVyAbNuYqxVSGp96vFcFNAMJQLOjSDcXsGitjOro\n",
              "lnL4vnyTlisys33YmUHKp4EUTN0QzOnfWkH78Gk5n/v0IOcRJ5g/ROFWRXb3JSynNzhVwq/s/+2L\n",
              "JpoUF2pSNnGCTrrqfuNoSgVu38elIthI7UaNJpQxydqNG883HGOU3eULD6wVlAANh+MMqfc/Mzlq\n",
              "s/Ihtt56oeMYixOn/CZiq0H4EuDSMwA9ULoMwZYFRJOVD4WtoOVptBL860nF1ZQB6+AIvJ8CYKpB\n",
              "8YxAY4yvF6CfFjgzpUAZIWWbfnAnggTWE3kaSG2Q0E0XgDikhjEMSTdKoHR3/O/ZGHAByrArXfUN\n",
              "HJ7G9eEI+z0sKef0dFD7QIowaprE9Pp1BQfy8awbZFr8KhEHnwXW3jTk5oS3/AR+ca/WcbCt8y6U\n",
              "VTGmK4xH1bFEC0vEuiW6t8ccL3tt4HlDu89LVPfyzcvPZpbvTAcktK0+24kTzNGg0FbNhkyO8Ip0\n",
              "STYB9nKFhN67OrCTmkR3ia4UkVpW55vPuBo3e4AupcoZreU4VtwlfrBZLN05xAwUfEZr+N1NVv3+\n",
              "3KpqRAS/ynUR9p5K974p2+BUBF9gz2F71cA42YTDZbN+oRVTyLFuJ14RwG7KU6t+vW3GmiNLYMGj\n",
              "DULHVEhCQ/aNHJYYFlKYcVMZ5U2wSH/95eQHXC3Wg49Oj5JlFIbYTLivVueUNXMKaoVyt8hot7If\n",
              "FGaKZMXx6Pj0hrsvAh4EojLFcFYpm32pzY+6Wba3HALzLBSslM0KNGbn+9EsLKRkvITG9pGFqs6R\n",
              "J/6UKw2/VR3g7V1cLkBjS6ke1TBRKfNie6DzIP5uJovn76zjgXe0lv96a23mn1R15aKjWn3Hn9nE\n",
              "brexCHShIAeXslX5jaRUH0g/vlbQcAMH52w3NNgTz/sZwBEtLuVBee7mAw7atHVFM9yzYtUXarPv\n",
              "6uM76LQB3KnzbD5YYGK8eNwE4mBTF2een/jkJbbzZhDidzVJQBn7I724E9WGilnQkfEAAAMOQZpj\n",
              "SeEPJlMCCX/+tSqAAG8j826D8IAI1MOkV/DkqJ69YfnXeZeCuC1jBFZSBTRQULqAeO1fAGdrMYwS\n",
              "iNmEKhr5WuGWEIxi+n9yLVEiKCkyu+4zPVINudFtOe0YSRLhLecjIIN5/fDm2fTDY+2ITthHhlNs\n",
              "SUUwOFd68MYRlabzst4//jZJzlkWx/c0t2g8a3yIrJsnBTUhqZdFaSRPzUVVflWlirlQr2wvEUtg\n",
              "aKHG6tbBmIl6xFliZTFOFX8vfySXqWcjsMwznOaoef9LPRWBv1bKfwb5/27ClWCObxYfG/FXXWwX\n",
              "dRwcWXyZvakYxHz9BvAvsVU/lGE5XOalj+5qnvJTjDuhZPGehFpaGsNzddgz7R3hxCZIBFp2iTI4\n",
              "3bW5gala4IRORh9ihbNBswIiJk0IzF1zqJfiamlCq8rhALXF7GrB/KclG+q7CKtks5TgcvJnegaQ\n",
              "6kB2il7Yyo57xbSWN2wVJjdbQymTI+6IL0eVfE3lZE2ZBL17jyJneVHEItOR5GuJH2bMzoz3jQ8p\n",
              "SheXzh6BZW3snjJ++RWepMZLnSZyklzPx1x1T4pn+Cg/yZOdI7cLqOoqK6jVqvURBzH8rCgSB5h8\n",
              "IzoTtOtB6hu7NYuHnpE2uFh1aFvo8veNO2C+wbaQJ/PuWH/mgPqCRow7MaRyEmxnMVxYpQBAg69a\n",
              "PsYIUX8WCm+3RYDIOtKcRLgcBAXYEYH2c5wZVtuPuP4Ut1xi3HaEJMZN2NB9Jk12nAbuqy+/mVUY\n",
              "PJJTEMPptZ4nq9wP1pyKLhCaZhtY4eNl2L82Q8TuytqlwH0Y3FJVdLt5FHzlMEmXw94nXuRj7asC\n",
              "1DAcGkZdQESXKzn8cwtyfQK0PquNxx/yCQ+7aaVexjSe/uJVLAJFq2O+a7NEkP9wnnnb77bJjbWd\n",
              "Oi1Ae1HQw0VPsoOUCnaCi+SEFMkrZpAhfo4sG42K87+TJCeIQ3GmCiNpJr6I5CUBu4AFjyESfOxB\n",
              "/4yoYJr/eS288TfbeBNAwdY0p1V8y0RRV4J7wEvLM+XBDpiD9vcAAAQHQZqFSeEPJlMFETwS//61\n",
              "KoAAnDcbC2Y+HlYJPyOLEudprQDfiy2uuJG3AaLSjOHIX7ThTabUcFjq7O7XYxBBs7jfOOTLVcM6\n",
              "W9hx29wzSPAqQ2kmXRZu0wqG4sVqdmts5KvOi/1BSKvAebkgICF76aKZn8F5Xw0kNvGqs7Pywr0H\n",
              "KofUb/S4mPFHwM1c/fx/JReE4RnYcsEXFsJVUMadVXuYNUppznRdQ8p7Aouh0fZMJYggE3Uh3AYl\n",
              "2mpH54cn++6Weu2kUIAnAmY08MfHxPP+Ac7DCqi+mkZeN196Dn3t39i2is+PMrFP0aZ/c115TPqU\n",
              "byMxKg9XzmO90/SWAIxdWfWZGgbljMwxuzspo4HogfhNlnCR08Udo6A7c9vpx5tAH1L/SsAA2cBR\n",
              "DoNfS0wGpITiAfVFoj8DY4MtWL38YDYycUHj5CQgSzNCB5uz+EeCxT8+AeDmTFMHDY4dCUycklf8\n",
              "jSrAWPHlrrXj1fyuBDfk9BiQQyfyWUsoJwdykiHJsOKhMPF0RAgQlK13hwshGmPRyb0DrlbJh02K\n",
              "y/h17/tss6gRPCDwvj0NQQTXKh8WTy+j3zC0mMaddsCjYBtE42CC+ZHOMN9Gh4oybe7WSWCRSsXL\n",
              "lb3eX/iLN53qiU+L90IJL/1mn5RbG6ZEddClSdTfZdalA6iTS57mDNXmdtJegMGPp6pYdte13Iz/\n",
              "W6/kM+OpaEdike9vFN9NmpgRxDLbmL+oDr4u8kR22bnhLRmZo1sXSD+vS9K6sGsT8Z9ZflVwLKyN\n",
              "yN8fb18vkic8hlcD/aLzDb13E03hjeGE62mBZUtHibykDbqpL8z49yBdBMwQ0TZaQVc436sMGsD1\n",
              "yVRQERp1a1nYbGjIZ8amAQeXnJEytzbdTKzo/0ml5qHyfAmpDbxNKLdNdHZBckUrEc+hmJj9HN85\n",
              "F8w18j6ScZziLZ5zQ4PPXFthdVcybebrhgkAz/Lqedodr3q4v6ph5v7O7NPONn/yOHgcOA3O5zHe\n",
              "k65iuHKRfCZfQRjk2uTfXCDy0pq5mG757vRhl7gsnth4/7IrggpF0ZXA9lA5Yp8lN8BSz50+cMZl\n",
              "tJf1StpA7uRye/0uaP9DClDRHbM4OjrO1O8ETXjGLGA3gah2WkL4Cmwkv7AkIeyC0LFh3zXynJMf\n",
              "9tNdRZBkBxUpUzdExdH8P+7r3qVb+2bol3o+N0LrdrEar7oIKWRnhgSb6R32s2g2oqFqPZh9ZLiS\n",
              "q6fEdH51MMO4j/Ad9+QTQzPA7JRUvHBefiFIQcy8q/GMbU4YxaSubPeguieEr1ive8bQB7nAU+8/\n",
              "1g35zfHui8G7vucnNku48EI+mBw4+/kYLLgEU7CKIxsa2+m3sK+a/jUJUGw23tEAAACxAZ6kakP/\n",
              "AO5pPu1gmoCbQ/YyYKyXmM60AAsvIW73SjCQZWUx8FuNDlUvBOOYlWiNdxfV0zgf6NxCln3viV/P\n",
              "RCZsaPT/hkyE2+DwnXV/ZyzCScYvXLIJ5ZCj5OgaYzzRxQP1au8sk90xKwk83xBKMvDuIWxHjdoo\n",
              "5djWxV/RzNAXzaSKcbWcmRrgI0ILE+2NeHV7c9LmKZMbMEIMGZPhjmsG9vj+PB4rlI0cYTM9jIsp\n",
              "AAAC0EGapknhDyZTAgn//rUqgADe+TskuAKHsYd20B8u4vj6oiSoLgBD++KOhEP7jTTeqklHlnPi\n",
              "uKEx4UhxRol7XcM9hx4d2xXX54owfTWNqzasyAjrQ/h3yGQ+kOC5d6P5KVDZ4c6X0iIVMXUdZKTt\n",
              "0lsWw1m4S82Poouqe6Ya7jeggdgy7WL1NfJBFC+B3WZpWzObngpvtmj1Q/CIMjjG4271UTaNCTnH\n",
              "k/k7teUCVldt799tU7qB+oKx47GJTppuKa80OSsboeBd+tI+YbPkp0oeK6N1vTU5inCgz8weSuQp\n",
              "uIAJpNyHD/oszxKxmyV+cuQ8XtIFMLUQYzuCrDSIVR6dxNyciT9GiUXNxPgAn9I4ld2ctonE52Fg\n",
              "hcXglowqsUgkfjW3sA22ESsHXqtWc5iVALX4y65IGSHZkta3vdxcMuqVjvC9CVPGr2gt93FFvUae\n",
              "QJGBu1ctoIdS8VC4QMun7qgtiVklImRsLBiNnzEbMKUsxofOpcwK7pAkaLgy5/DgPf2o+P4vzhJW\n",
              "tU2k0NiAeits7TPOrExyTGlTzqtzQIlqUjHm9hEQegCrSMwGziOyfW3U6ZoVWYb7R1P13Eh3ceag\n",
              "IISSjzVAZ9iKWarJ+MWbbhmrlFc5FSjoBRHL1eYJ4P7KTX6IUj5ad4M67X6YvXwZB08VlvOv2ryD\n",
              "xTi/srzc0xKGwZygbqkj+c8ADyg/iAaHgAl2AhKcGkmrQCaGhao8ga02B9tGY87pq+8NXHnY5CPb\n",
              "a5tp2U9Qf+mK+yOolsbPKsaMLceJoGfuBiNlKSZBXjV9o6X1ZvrG/9H7usGROjdAkKKkzZdtff9R\n",
              "Lg0TfNVOB9ohdCWqWhoBVJCfKTs1/mf/oTivGHb1eEv4hpr5xbKiJYZZ8yMDpYSwIAy15IzEI4kQ\n",
              "6mHlAvxxlfnEIjGGaTj56Wclk4oFY/VKc+aAq3Me6LrdJ3E6Dvf+QQAAA5lBmshJ4Q8mUwURPBP/\n",
              "/rUqgADfWEzEOogDKWwafWeLsn0beF7PEKF7+e/yEQf/TGLSaIxB5W6uNcnFu9aeSdlp7ZXXlYmT\n",
              "UAzvqiTxChzH2DwGE1x1FytVjDlqbdVudQyguwd+OzOIEfS2uaEBXiKfkXjh2DLcW6KyWwUHD5wK\n",
              "XwoF16beb09wZxs6MUkZvZEHAJWACcMSjwXdxKNL4LbgE93Czn9E/wXVj6cbE8Lc9NMhVuKKPlOQ\n",
              "HyYDWfjBY8yz9Ty081hwBjNFQXvbBH6Z8Rz2gwwEqwSeVWVtpNBcrfVvbeR2Y7Tf05PgcN8Z0dhG\n",
              "lNZlyPGLrw+X4FBbuZ301JBdNVzQcKNL+YhZl4EMq+w9gKh6aMOQFyoW/wJ2LmNqkN47NThv3bD8\n",
              "9Hgz72vZk8Qqx3OMEjbpr69htNoe5DBL+TDU1FNBivWdTLWi5Q9KfBOJuIpHNsaLC+XZhNMzw7CZ\n",
              "36lwAU/e9r8QU3o1GkCc4Dgig5av3mcPPzWQBpvnCOSy/QRio9kzAejLJ2wAiraprMDYWO1hVhdh\n",
              "4n3vuiDaNFov2cCiU0nYKrlSfCs3IH+fCDAEtvYw5GOWw8cMnhp/iKfgTK7Wz8LX57G0Obv2Ts5V\n",
              "31rxijmmW7oZairEefhRDDa0p4Nonbyduxwy7zWhNraNedxCbh2n1Y2Q4dk/pbC47xXbbRo2owgc\n",
              "gNiqiW2yZ8aFjQ6aaQGNtF1/7Em89dHX1DDb1fm8AcdyyjreEhDGlVHuN0p/AI1d9mVlVdPUy7Y0\n",
              "xgZdJhvFgh3FcBYYbZvjdg5kz76w+y7MOutJi90SxAp4ORKE2Qhnh6epyl+kjBj22w9wEm0PMDS1\n",
              "MwBVtiE0XSFm8ot0kbpRoi8t2vZnsyxAGhRQU1G3uawSKMZdvt4csooQKgFBxUCNhUxM8s6JR14/\n",
              "Y5tWIwzAA7JRu75kt2/fSmvC8zfb3d920CfDd7HWVfd+l0KhtqvDGXmKL8Wtpga9WC2yoVtmDGYZ\n",
              "o2wmz3RSc8XfsR2rxYfcAotOAmB1ZOb56jYgzi4lj4kVzu2lZnfNQQIyNaJ9zRAGXV4EsiB62/QD\n",
              "aqgxa4211n0CSec46xrMcWCpaRVBUrq5yvMkFgfV8zilXFb3+S2lQGotTCvF07N/5xwyGDrVk7b0\n",
              "Y/3BgduTHmfZQ/SVC25DtWGFOnIG7V0J01L3JHzEgQN6M0roE+hm435uRhUfAOJU+IhoH8EAAABu\n",
              "AZ7nakP/AO5pPu1gmoCbXCXokvWuzOaXtKlijhKRP8Wzl354z/Uju5tfTxt9TuOReQJpmSyZpfZS\n",
              "bjqdaY+L7g6XkX46WNnZ5rpTJ9axV+TMguo9UlvQKrn4K+S+wArwyJ/bJZXe8TYsDhVqGSAAAANl\n",
              "QZrqSeEPJlMFPBP//rUqgAE4cECZLHJL2AHzDkQD2LgV0xsDAAxFp0N+9FnqH9Z4KYgHeh5BFgLy\n",
              "zo4RYfk5cnApXX4iiuebDotg9M09jNhpHoeEMSljWkKMdBnvzUboQWDo4tkg64Zd+Ajr/UOCIVVm\n",
              "5uzvC7jDNS9/ahjOQSkfROSAhaTd3oZqtvgnjk+DGnqea3vLA0BRjjN/J4CNjQVHfVsfgGGcPm4f\n",
              "NfD+0QlcZqp7iVygscVo0c8I/lRxNF9BmgPWLYU67p9IWsOO8uky+qIJouS6zF5v6l+UNzTDcuPn\n",
              "D0dK6GiBwAGYN2nTopcH5PA1fgEXyHP/LCfnxYxh5c+JgQoNmtK0Fp1sNYUf7fuZQk5SLQx0qhuD\n",
              "RMRaV4T93ay2O+8CtEHpNHmgbULdjIftE40/YEqFbEy2ootTLGPiYsLW4u/ngFVAKrjaV6PXqq3N\n",
              "dLOqrPk7+taKNKtgzw/euz2LiSwYjuzZ1uLDHpPOJFixIL8zhdmIKt8tlQHt574SL+0tsC0NrmAO\n",
              "vqBXEAdmanS7e/rt6+Qr1AOAZrFHXxy0yTF4tc0/QdHBRurBeVuReBqAX9BwQAxwBpd2rJkplqpJ\n",
              "cTbn5QnekRhzqyqZQpbKizihVcVLDXVC4fmiQEuWd/hYOFCqIpZH3XN9spYzBBUBWNq4VxMvD02L\n",
              "guqSjFy9wgy5O6FglEvvWRQPW3NZ3zzG2Z/dPsPMKBQ8HDy59z3Yu3fcGsPrs0jDKwo7tChuoBi1\n",
              "tLlAtid4aBOFv7V9nJIyuUYdAJ+rz4KmmI3aGEW0fWZvFWyUdZ6iP/OfxI1Sun5XVgTFIyCoylOZ\n",
              "wI85tobGxOBr/yK4DrnpfiTK6iplo+16VID6MHCDcR8hHGNy08aVfCxUms/TbtrJ6hO10HdJMPOy\n",
              "W0CzqERZBVZDoHWKGE8NSiS6bzzIMctrOqJkvyunV6qKdWB4mtppU6GEqXL5vp8+HlmqDe3w2Yc5\n",
              "SG6npJqAZj7skFPU4MdyxE2GitEQ60ZaXuwMRpSjYhAAsp6xQXqb6sZiQjidy3lRFfPKAdFf9MLV\n",
              "7PD3whBeyg7g8TvOqmj1RIft3tpNbI+vWX2XGwitnrumoE10hU7ziJaMnoQmOE6MsBw1D0vJByFE\n",
              "NG+yhBhENtXxOv0WGSwAAABfAZ8JakP/AO5pPu1gmoCbXDyAypT0ubW507n8baJkR55f8N0MNzoY\n",
              "LOKfxFHrpkdkfG17TGafMzYQTFl8Mf/8DoWyCtX9kFRUsilcFLTTRLUrWVBRk2gNWQqJwmTFDicA\n",
              "AAKAQZsLSeEPJlMCCf/+tSqAAbznXNjneCXg4hDSbeqLZcg0c6WiWsEaRzHN+AZbpuP88TQku0Ss\n",
              "OF3s5YIm7bDcpEtdEl0Wr6zqcU86/81pMudQH5FtIkiqLyoKRlyee/8VtHwMapvLecz/bLNweV0b\n",
              "hmt2wHZPjRPvrsdwYH6mvTi25nKIanaravP2a7r6/WxwTSNiLsVrwRZDYtB8Iw9AV+Hrb5/V8bEB\n",
              "T/srNpWZGw5/C3Xkf6SZa4dIYcwn/GNCMKnYuQqkjFNCAETtIaTb96YGsVeNtUTvhoVNNZ9oyQmk\n",
              "LfNrHmQM8Xaa8/pVEsM6iCw4MYJeISzU8bt0CQkwwH+akK2oufTupVn+mKpbF0f1wj1yLJrH3A9z\n",
              "te9hcPNkupJldaraxZ8EbuqA5R5wJfqYxVPtjRDDecTkt/t+qi+7nY5WKd1w9UtZBdOIAv0x2PZU\n",
              "4dKnN66iSPg69Hs22o5TOOI6swEgkZljWaBXWy/Rhzu/+fVGwhQMmK63z4Gtegd114tEHxaAswrW\n",
              "uWGw9fckIwEJU+APYfYwwV7aajDJFZlN9bz8FyVXRt0WDy02BJIU1k2/m8Pb7P705AWWGLJWSL+A\n",
              "a7fGld8nzfVJYlfCN3DNWWyvWBZJz/5hSd9NX7RKBYtmK9iavyxTMHnewFny3Yd0g1otkhchA/NR\n",
              "9cD9SFCv/EvHsvJOih+MaD4jIjS0cMODUrXNj2dm5eVaLdk0EIB6IGDsCsBiNeeDJ9g+IjUmfp/Z\n",
              "5mj2cN21PseiaQWXACT3O4LuedFFhPSAtXe24qjCjSPaacHSw+C9YoAORTBmzfkBPyVU47uT/HRN\n",
              "kN0r9lkU0Y0D+tBIWnHLnwAAA0NBmy1J4Q8mUwURPBT//taMsAByNc+yiwA4FgteuED0TPYZHJdJ\n",
              "hIxuxk/Kwg+invY8lEfOgysyinzaNDa15cNoKJ0a7QLJKspBtM9cLcXKZSKs1DatloxrmPQstlVI\n",
              "qP/Kw6p+YUihVfk6sneIF27FlUZaKLzz1EFtx7DkzK0FGKIknJog//YvaV40Vmk5WjnPZ2pSaEBE\n",
              "ik8aZ5KLZ/vm+kXI8VG8u9nEIrYp/xZI/3bxMgZUo+gnm0mNtNMWoqrarujEaU66ljmMH+Z2RSIa\n",
              "AgDUsC/+ihSGVtmvMjd3RDv02W0ub+iTM4+mMqHQd2RlZ0v//6Z1Bkdwt4ANEKSRZiKZ8UALfBPC\n",
              "nLwFl6Chq61ZC8+ZvVVSbG7F85WUwEd2N/owKSqAzgcxip+lRfEZptz3LpsG7Gog0xKSmWtT6iq2\n",
              "l1At9em2uw/fIOTvR1qhHwv0vUZzWdDDcM6zeHc/VsQEvjq16Lmv9RBNzrnTmzXqVFzBy5Tx847P\n",
              "dKl9ZiKT8DCUf6WqiFF+ddfFQs0PEvwoM8U37Jqm/kczP7Tlp1+F3bb2w765yFbYftmVJH5/QExZ\n",
              "wCKDPv+wmVpFOAu4EOu6TUkDCa1/bnMmPV7PrDTKl3viyScQH/J4pJuOI3r6mtYmDyx26hcOjqh7\n",
              "14JdoRd0ztVLfDpLJwkekiZVJvk43V1wDL04q23MSHFNZyGR9EyXdJH9jV9tAs0ZgP5JufjboKs+\n",
              "4buHFYaeSGKXASIPJJcQpro8B4qIgGCtitsahjls/r8S70EgEQjBiHLevDYLl26pfiTiUAVLp5v/\n",
              "c6zFnNBHgnRBRZVmSpaqraqNMbiaHKQ4XDp1LQFTkNradSiGZcH0bEg8gMy8iON8F6zlAu0C96Qg\n",
              "OK3EjvtNQQvokq6PjEyL7FMSon3dK5vCX641CAhYbIHtfJvduukfLulyZ44iCUb8FGXy8hS+ty6X\n",
              "bqVRy5qDdRdo3VCRmzok7SDRrXzDaMdinzggxWLd8BLU18bZ0mYLkKZdcGCzdY9B1j5o/xdtkRlm\n",
              "kZScOMQJN1MjrurWwpVj4YK7537IiQezLPqwPowgpK1ozH1NtoA8+92mYRlGy5blyT9Lg0FpD2+A\n",
              "AAAAegGfTGpD/wDuaT7tYJqAn0JWRReIFbZf10vw36SF/TsXkzrCVZyxM59LoRbu6J7AZh1m0x/1\n",
              "2aTZz2mGA06ABYzcaL4lQVyPeTLGcGoQPzSxgeqRBiA0ToH5okrBdcuKf0jvmb3Z0pz/x2Q7kwC3\n",
              "7LC+dAxndPeAFONxAAADbUGbUUnhDyZTAgp//taMsACglh1kkRp5eCblGR7bFpgMmOllM9yAvsP3\n",
              "jiWJqm8MCZzHWC5Agp1AsZ3LFXwByGFjS2r00UMWZSIMwDFWYSVFvJuX0BtBFZDXcd3vysrig8AS\n",
              "Uxk1f+LokMBTW3E+2AED5w7bFvX6IBFN60kCyqc92lgayVTGcijZh/pVm6mQKGm2pOjUaA2/1aB+\n",
              "PvzZjfGiPaJcL0wROBbK/DZwyJWbra4LgY5/1BByWhK4iLux+5INvUHI9ZCJPQeLFDHwVx/LHwJw\n",
              "WCTM1HKKdUJa/1SZUmqOyKmQegAaTx+z0vAKR6G7ghUHqH1dq5w0NGkP0fr71R7gWsss0wRzjqt1\n",
              "gmaP7Y9ZY8Ef9OuxKgqkao/qaSx6TKn01bmG7T1jOWqDIpdMqcvrgJOLWbpZuFCtjk7l8i/leiEY\n",
              "YWTNbZjpYn/Z+kQRiig6fqCznoyT3ZC0uUbPzUir8rj6Pg68UAqTcS9RUTAjOZEwZJDAIvi8edr4\n",
              "4mEFQTzAL8EGCyAWfcjo2zcZ7DK2g0/Rhj/mH7xz5Lbe14wTjX+sEfDG2pd7/T1QhZSm4blnZRUh\n",
              "92TVrmdNMT6AxzV7CxZ0C57wC18ZsGdhkzIFNsRARntdYH3/F6fbt8oijgKJtV+v1zifJidTl2OX\n",
              "3etJPxM7zaFQGfTgtag7RozsWDJ/BzTdMOO5Sh0ppdtIFWT1y11UpFDuSEGAbuzr/3Wopl5wIbKI\n",
              "u+W2GndoQmp3prQYTvAizQZZZuzmCECvUU/Q4sdQZ3YIyUpnkvzJ1oYKtfIbOSJ8UDg155Zw19oQ\n",
              "pZpD0ZPg76/wEHi92w1ur0QUciKkIABIQu/GVtlCnHyPhauJ079rMwh6zkB9NTsj0SV19Zsp/VTg\n",
              "YIJO/GURA5tcaB5qiXKjQ/LeXZ2+PU6Yx+0hUyXBZdTYMwgQqtmoQoGS/mhrCC0Gf9myW3hKA8i+\n",
              "ixTUvBHqlsvaR10P8nbQ4u4LlgusKPmYZF4oCOukL+Bln73ljTcMELxsOUWcrYnJA+DQHnPD7YK5\n",
              "seUGOTtp4GxO2FoHaZKSmhTPEQm1IuwYs5d4uu4fpr8tlC+v7dGTdrU2LUElxk8rNqavo1W03tbN\n",
              "0NRlvYP1wQ2IwJb7+9qnfgytgnut4hnM+j0CD7Y8nseuEiBpOYUAAACWQZ9vRRE8EP8Ad3nvr4vu\n",
              "wTaA/xlyOy+CcS/iB1DpRYpwsoWcYCEPKhfd9LAq1hGLo+MQA2LvYVNJUo45GdZnd8IKGspmC3tw\n",
              "Z0VGq7nP67CLgdqUyFPdzyBxf/vz6St60Z/3NZXWIDl/hphefqhLeDWzbydDXoLBgzT22B/i85Xk\n",
              "SlRtMHzGrzZXrn2BWd5Ozt/w3KBBAAAAUQGfjnRD/wD2FJe18jitHRIfVbvGj08LaUpyDT7hAkad\n",
              "J0cEm6UalbOdr7j0NBF+EdydkBeOb88hI4r27q1wWJLXdwoW/2fUaDUK5sPGBpHzoAAAAE0Bn5Bq\n",
              "Q/8A9oO57ejPr6I+oQIFGieWuQGqwSOb7YapA1sdTiKToz7q2iQHx7Fvv/QgR0/a0zbNtLiEH/Ly\n",
              "Xf6Qm7Blm8+EXDCKCC1HIwAAAydBm5VJqEFomUwIKf/+1oywAOQ0hMAVwANooV8Rs7dWw2IUv2Vk\n",
              "Hh9/70pJU4AsxPjGzALV+jH/yMJmmV0aShp/iI5QXz2T3XhyT+pmOTjuM5Ldxm6nSv5cnQ/7tnlX\n",
              "rvliRzZD+R3ilJQ7koaLPgPyjm5WXW3HAWK8cLchRJdASf3z3blpvjDmtljhfVRvupaVhqC0ipfN\n",
              "9nbfv6sJ1gaKuc5/7RQePHeUcCDcytuIemRBoQh4JlZOa5o9PNIhME3RloLO4r8TPi7vY+e7tbk7\n",
              "+MCfsiV8WXbm2T1+oVYDyesax+qBnWxBUT/zOsrUOvsHpyN4CC0zvR+Z6TMWZwVs6uqNfvtL/V5l\n",
              "86Q76zEx5wOVHWPddpYBBAruwD8UYSxGs+3WuIslH6UClFBw1G40IwGXGP/52eGLSrsq5k4fwljn\n",
              "Z/VgncUgfBGUz2eOfUBw+E9JgYxmzL+ENkbgg2HSD6WqpuOjGLmagAzD8sTDlNtzmuBX3p5XbiYS\n",
              "/xSKsb9JGpj7gqMiuiKNaQu0JrSiK+WAXGSBJPgcHRYLS7tRal3t1IaA6XE6/f0Vy6ML0GmIUDPn\n",
              "tdawOPztK/tjT87TUXswg3xPZxJW9atZdJAGvQnrAohhtwjEbdjjj6SaAbmgzblNKbjX3gin/l4/\n",
              "gT84/of5bbqrMsOhZC8XeJh5NJCYysGg9YJifAOjI2Cp9fo6KatvYS/KofeY+R/y+tqdTt8VSlaA\n",
              "X0nzdYYbgpz7hPIKiW8DwpIPcZa1t6/grINLdLZYHvBerpBxMoyy7KSnOMcv5VWINyFqQ467b3QM\n",
              "0wp9lgNJ3/C5ek2GT9RZHg08NfD6epTUXt/xj15aR9zDFEMMQP0vBefjabU6zGLeyI5h0ISKWrIH\n",
              "j6Zj0iCJmelK2o4smbwTyWqfpu9qkxnvXABIClMuR6JLfd01ardloLWOhwFQ0ud6OnYxWmBDhfjM\n",
              "RfY9ip5jDHoPJA4kznv9LjPImm5D0+RtDV12KDRfu8vnUrZaurXDS5IYaHXuBjrp2kayJ9YlFTxc\n",
              "wHAZ+vcVzOqQo2dhph5T6gkjLwWG3Oow1lDiOrsAAABvQZ+zRREsEP8Ae9UzpyvSF59N1VQwCZDy\n",
              "klY0LN4gGTBhDzLN9U0ypVBF7c8jK5lnE69/Z7BmAwR7sT9czHQWBJ7ngc6QtX516D57g7y1LmBj\n",
              "N71v+UOKGyIxP/gGP/a8Y5HjSLbkM4hTMI3KSNAwAAAAVAGf0nRD/wD2FJfFZI/cx89BF9TX5qIx\n",
              "hSNEU4LeyAym1ISWWBqAEm/TXQlpf329TC3lONCwM7QJb92B3tZgOB/7Fm9Bm/Y+BgQuqICfqFLW\n",
              "4laiYAAAAEQBn9RqQ/8A9oO6FRzTV4KOdRFnGHCEdl1tFlRofYiJVa2uftYkQAC217Npy+GTMxzv\n",
              "DuW8ZHPfY9YRCfB6M5kwu9bRtwAAAvBBm9lJqEFsmUwIKf/+1oywAOTXeK2cAGW4vrLhJ3k94GXU\n",
              "yBRYcuzrMop5n6unjq4qz8D+JlzHvajfMCiMpr0xhO43RfRzowAl+mT9DGHO9+SMw/03XzSLCcQ6\n",
              "ls+ofipQsVRKe6+UIxhzfUQAJTo0lDdb73V5QiodQjokFynczWDflpSuqptQST3gLdnM50NtqeJM\n",
              "Lr21zD5x76fR5qpkoL9wuQNN2UTXSjrdDIUJ579dxZer+sBPxW2EwVFNGrM1n9ztkP6eEDxFTiNO\n",
              "fKxR2Vr4uX09hc4dZ3sUZxQ44Cffi541ObWgZZeFbIcx6kXbvDuc15DpWwRu5nnAbUHQVDfTD4EF\n",
              "CK0Quu1sjXmfyijJbSZzqlatXlpG+0Y2mVVRJpG0e7nTERwz++jIzeg+3vkYIOrQcdarHiqpKSPk\n",
              "F80CmhVTn6cbZ1NeSCcfbnZKWFxus77JPkJXeyXY1IhACWHavuhZ39iZyA37d6Egif8r4ssfgh2C\n",
              "4hO/V3Yl9sFtRTLhhoNio1XoF6XqqNI/m7/4jfFFmCHO7JA5JFN4TIWLgM2bSg0v3s7LQWjd00zi\n",
              "kubTE5KigK+/q+I43OCTmO0bounsO8B45NWKl339Fvjh0FTtqvHLtvhEkqoktdBL7oPJWbVfDJWZ\n",
              "0t/no/y2rR6iEUFG+MSOnbIMSnLP9MfyI22DQTnAKjRFuTn+ryDoFdoC5BnsDgP3rq4aZhmKPiy4\n",
              "8km07ZHd0A9X9Ne+qjrpkqo9nta8Jro6ZdU59X9SJzcOtpO2NMWeYGa5Sl7Bk/l1qcuEnJ0XMZID\n",
              "lS+TL78WKS6SeJCIpiaO+CMSQ9w21rYxZEH0nehIvTTLZnVJ9BdxLJrtng4ECwni76sI9HMH8CxP\n",
              "9L2aYikc9S6iSLp9runXhjGwdSpve7aZfBh++0zzIeN/QafJX+Ssnr3IuraweOntWrrDaGmn95EZ\n",
              "IsAErx/ZZ85iAhGtPgxYWfgAa6Ua8ir9Og8/tFHn0phEwAAAAIhBn/dFFSwQ/wB71TOnKlcW31Qv\n",
              "ZQqHGDt6AxMAC6p27TVGZXSBkrzHTUrGToklImV8kdx6idbqU3E6TOfxN/QVybCB+yQcPrr9uGUE\n",
              "5ek4iyIg96434CYNI5WXtYxluRX91V0ZM+saA8ROo4P/XdYVCEGrKPAjIAccFLqezXw9Qj+U5xYO\n",
              "1ku5AAAASAGeFnRD/wD2FJfkI7K+r/hiKgrpHKRuv4v1GAM0TKezAVPuSCKw6qCxdyX/beInb3ID\n",
              "5Y3muoyvIzWlhCwyQOixppq/yZDugQAAAEwBnhhqQ/8A9oO6FQxZcDuUyFy/6z413lx4CZCxZNMW\n",
              "caPvzgwWACxiZrn9KABsbEG7ExjXhButUeeas4c31LWtc5PFflY8T2bat2pAAAACY0GaHUmoQWyZ\n",
              "TAgp//7WjLAA5Nq/WXgYACphJZ0caMCdaekaFdAg9+dm3ndMRsKYLIJT93WWYDWuUHeyueEhTcmm\n",
              "KM2/esWRUaElbOMKGDcfdZi+IyC8vDtT/0r/+CZyATUPXZMcfFRpqdW2QM7d9czd+uGQX2lUvuMW\n",
              "GUwM8WZ9aKI1embBgOuX3XJ0o5DZPDHK9OY68LHMezS8s3SDE70qW6Ik4Grb3irotYPSvZtZng2U\n",
              "djBebftGcb0JzT5CLXfhq7RhqfVXJiyCTnAw3jbOlSefVEeYQe5Ljqb7+lMX/VxcNNYKSOpg3c9k\n",
              "d2A4f9ikbzWzXaU8YTg6fGrEPmTBlXN811X/IU6rayzIUx2eJI8vU33UXI21XuhbQTjTREHo7ydn\n",
              "BMwl2uqQ86QBS1qKwQb0nAJnQdv6bqADrlCXX5/khy14s/84zMPJ3sXLl416dbcgFMImUIj7qB1r\n",
              "zwGJrUsnuOUwpNOEn4Pz95iHKEs6BA5RXmbvp31ZWD8D5VVJT8voYK/s8AZRq9mr2+RTIBwjnY0K\n",
              "I8OcowIwq1WGoFdYmrdW5CwhNGzHDZpJ5r1ZG53d+A3d5+hJkRkD38VdUPCSUkdDb2BrURdhPdNe\n",
              "13iP4cWhPFvbRCGQHaRG6B+hTxNMXpGOIDFKfQ8SBRPPEzlkYOu0uwcNrJhTn414acUSdUxfzDzg\n",
              "NagGi6UL2ummnX7YUd/wu97gYlhrQnpvZUaNKI73edcp1KFTDRP87EIYKRMhRH9wIYMNrYjjsV38\n",
              "TkL6hVE4Q9JGe6oa7SNqr61NPqTIzB7egoOAgz2baJePAAAAaEGeO0UVLBD/AHvVM6coXae+OSR2\n",
              "zYANw+yAahOgIIvFJfL07lELkRq/K0R/+SORu0Mk60o2wpqGU1+EAAtI2TKKIbvEwOUh8NuJpM8V\n",
              "lzzb3/5b8xkaF2SKLUQn71htt+PlCpH5nfHzAAAAcQGeWnRD/wD2FJfkaaJgoc58DhhRIz5vAB/K\n",
              "4ZKr9BtLma0aekFXu93dhq7wFNdc/3crOfE8BH5Mq2+QVyD4HdogqDiPRTbKce8u8yMToFhqWzx+\n",
              "qbJvP/9ZH7tNIoemZUFatK+Sg4t0ycT9m52bw6XlAAAATQGeXGpD/wD2g7oUr7S8gpsFMZrsmPd5\n",
              "KRIrcEjHPguUYHARibWiiRLAzwALdyYbFzkO47uJ+tlX8jnG0krHZGmixlox0XgXR7NUR7kVAAAC\n",
              "akGaQUmoQWyZTAgn//61KoAE4cECZLHJL2Btf7i8VwGsHVKEMDsoK82/LaPADMtlOiLTWYForrk2\n",
              "VSMfIgoyeIwxfa3pVA3Z25rfmzKxQhFPL4a7/iOC5rRKDfN+ZhVJvwqToq4ti/IHsrZ5co/zMtMO\n",
              "8apy0G1RJbATj5wkyE4trBJEfGBsgATglLElYXzxDn2CV46gbcJw2hvwMbsqNrAWIyngViNC6X54\n",
              "40xPCIcY4ynjLxtZHZas0rEddgJ6pWf2uAmXAUQbtSXuE70B1PtfJIxLToJHJBlcy1bji/KiJma3\n",
              "wVR+v0bV97EKkVxTuEfniBO8AVjRBbvjxc+lBd7ndRcDtFEHs2yds7UsziePOuiOvv3D0K9H9TWj\n",
              "YQI/qD+ZxqSE/Ab5aHX5TcOXckfyuaJmaDiUzaKbT8w20wkF0x3tBJFDtaRNvh6HeybBX23jItU9\n",
              "qNeEOIQwTDtuLCBTWRNBAuqYWHK3JaEPGk02DVDzTsSd0f/ivPw6vcJkft/ho69fTy44xUZYDslQ\n",
              "paU/FCIbtumpKVZ1UsOJisJ6cTxyEykeHddN9KQ6ic2XC5dzIgD0t8CmwH5ALrDxvrHyleyE7Tpr\n",
              "RySBfrxIQ/6a8d6ophZsrtAFgYI9cy2Pvcen6DyArgDj/I46m4IVx/qwt4iQ/EnDZQxkaAurU2xE\n",
              "SUIOpsr8vSeH9sZmAtLNffbNXjpJRM/6rSUOCguETs3DdILBX/tIb+sa8UpeAiYqFi+2PdFtlWm1\n",
              "R7lXkyKDD5LGjg55UFsNq0WgQh5c9zFv0RKIBZD2uXLPuT58m5y6ef6L67z9+n7FgAAAAJ5Bnn9F\n",
              "FSwQ/wB71TOnJ+E2ERRgBbwoxeRmxXvgdeZ8K4BZb9FARjwOJZ2xA/4NMGSc6B5vOvIz/OBZnJw9\n",
              "srafG7x6oU11GqXTHZjSEudIs55YQMA51sghehFpb1AuIGy+JLwLFqu3PtN5EJfUuRuXLPiG6noI\n",
              "9QEW/ve1mXr/rEU2tn7ISuusGiFi1YeIIQy8dqzC/5QJvJt24mEUXgAAAGABnp50Q/8A9hSYCskZ\n",
              "M6rEeIVwFbQKnux2EM2gDMqlCRSwm4ZE8QGIdYzCpndtgIidNPBKr1Xuf/E8e75VwDVEGVHaxP/u\n",
              "cJ7frOtJZgYU8IZpZaYVgQRBjwsG07W3m4EAAABWAZ6AakP/APaDujUnuZVK88Hi/+9wUcot1039\n",
              "dQn6LWJhxPZyKr39u3BA2uyP+AAuHazHPWkmILjDyXjwmvkQJiv8wZFWp7xgzsg2+7n0okg0ifJd\n",
              "ojAAAAKwQZqFSahBbJlMCCf//rUqgAbzmRVGgVK73RXUXvbgkogdvUoAj+/qFnIKHF5ICkZya+CO\n",
              "sDntrZfCVyZMY34A4yZf9x8WWQUMOpr7oAXUxjFgdw7acSRZtzgk+c8mnb43NY57lIJTUiKFQCk+\n",
              "1DOD+QEMSuap4witoHonYnJ39AqZXREhlj4vD7fhr2G9qPtP9uCezuncfn72+E/+1wAz3uvSGFnO\n",
              "E2AzIVsTpjZSp96HBoeDs3fbVrEigxT5UY2SEe/yW3DSwxafPiMPOK4w4o+f3114VyYoMhzRCf2C\n",
              "mzmQbQp32yjYGFst7DNMNp4lKBkQb/+9BNd+9weqLon/EYAkRLbbNNrqVDxZju585rdmARxS7c5u\n",
              "8j+uMuS9rNrmrLwjpPicHJbeqmk68LkfOTTkr3TQ5NKWxQzu+xOKbLzr3/oGs5SXtGb9ppLI3/dF\n",
              "cvTVG1PuMVDLBhmAF3Qbp39MxxTEVKJhcbjvDOiZP0uXMs0SszX2QwG+bjWFz/umQHsvBhq/G+Gl\n",
              "y9/2brbE3zfIZY19zQNOgr8/E62oW+aG9doN01bVliBQrHU+s2E0K1BkHmgbUcQVAxIQaIUrU47P\n",
              "gVOz7LCJZg8YRVT8raCJpcfzcVKxol/lQ7dIWzFbsjxnMAB2pAPuX+1yUoQ7hBwvYHPlapCOgHYs\n",
              "PQ9dLwh9Z4MaZuut/JcYj1DB5BsY9Uo5dNB9CEHYS9vfyL3ohBQnZtmxoEuoZB2+01pkDgjKH+xv\n",
              "iUofI74aZNuEG5gpGsP6+dSKdSAR4xFhWkZSdb/iIhQSVYnykttF03U07tqAFEoXNK95d2jZBSdy\n",
              "MO5h09A3QilBdG+Ny9CkXZti8rq6wWxaWCbqiE3x+3KE/oE8N0yTvgQ556XMwOfJ0u+Rmi5vqOBC\n",
              "VZXgD2tfwP0GBQAAAG5BnqNFFSwQ/wB71TOvZ6ecjx9QSNHwM7Y4H187V5zTEKCzz4AA+TFiqZ9x\n",
              "f2XoA+COW2YL6wTeue7d1rQm8KB5bLruSw8Dzu3/iaeHJzL4mO1Y+95VgwkIiQP6ccbu6xZIwS/a\n",
              "VJ4SL4eRk2ikgAAAAEABnsJ0Q/8A9hSYCskf40G5qP4CmonIe6+9efNlCURbHwlik1aGAAXTuHsl\n",
              "72n/vVPmVjZ5ZHJa2XLFueS0CLiBAAAANgGexGpD/wD2g7pqGRsu6wvffPCGpeW8cE1m+zRfgAun\n",
              "MyNAnTq77Ezvxeat4VOKGQ0uF/owsQAAAkZBmsdJqEFsmUwUTBT//taMsAHHVS6lwANvuUlRKNnN\n",
              "lpGYJPad8Z+nr2ZkNjK4kIknUjgruc//QKBnzhz9GQK/MuvigRsrA1mhkGeOYfq4qPTrNwsGFGgy\n",
              "KqsHGbFP5AOc3Kgjp8lRp4dj2G9m/RYWkxi0WSg664Fyf3LGb1qWVLg4hTWepRIcYNTL8wPM9i4i\n",
              "mTF4f2+aacwrFjplxnzU8Q2CXUMH2SE31yDhYtC4n0ZA7fhpJ4vDFH6tpVVGQD8dKNy7t247QtsB\n",
              "mQj0h2VJ66D/JbzUxqh8NZnrKdLTN9YJYPvtPfdw3KPE4bbvMy14rRMtZsboukTaPaYYtET2sQ+k\n",
              "O/0vZA7kh9YY3Ifg/l5Th9oXm3kckB32w/aK2a7E2CFO3jaE+QORKIuKmboGVhO1F+oyaQ8gghgA\n",
              "Hn69wYPu3oM6gdmb8fB5YcOjpbFpO1tgADI1laxhW3HSdllp7m5rhQrcb+GeXXWiCsG1fDgVKBbE\n",
              "65FVYna9I9vvcvhuMcGnfWAXvvmEa7Rdz1X/TotSTf62wzlMCTNRPaPHM/7nYPjMwati2E3y+w/u\n",
              "G3ceU71ZS49iSLiaLhRxZvm56OR3eSwgNPkVeIFH5fEGw0PQwhon+YiRQ2W37G8YJWzdjRwSG3Nl\n",
              "QZuSC3HpZqbwO1EQ37/RmVN2QjUBPugB9dkq1KPbqnlLyLmkDl1Ab3GT/jcDvuMZNF3ShtXrqb4g\n",
              "tS2/JZz+8NP1XGCN3ooEpLN3cLLJ7R96ez6VzaiLuTqoRs4hyM0AAABGAZ7makP/APa5ZczZjZdl\n",
              "d/4ta5ocd171q/B+24PBCpoYYMjBzUTkwEPHqOVDQTe6GZlS6w9RLGyU1y3V5xDfK4h2Vm0OmQAA\n",
              "AvpBmutJ4QpSZTAgp//+1oywAcmu5tTgAyzCBVXOTPW8eVu6sPnECtU7RBo/knflJn7DKF29uZYq\n",
              "9YMenqHlAVjYTyvficjPaOmCZ68PKx33sVaZupUnJ4SlGr8X1IVDdZ1K3h2bpsIu8d3E2NuirNxW\n",
              "QPi+D2WRTyHF1LaV/Zss4nBts4qyr752SqH8dqxnv992W82pGkcCzpo94ebRlxgc6oO/qr+LQqNx\n",
              "virz0Eq49eERG1iKmi+UoNoTBJcq51mJGMxm86SuKf20vnE9Msdff4TMY98XIBK+BdqlvkNmbWQA\n",
              "n6TKahNBZAhJoBygWoLbCkdKxuRgB6ERACQaVRzb+ADsPqEQPeXE6SVa0u9AUPjOiCXJnBpxyaGm\n",
              "P2sKrS9hNOsBGtqha593erBIGIV3zqGrxpnQ5R4m06EAj+wl+LFEdnEYS2xon7InPXbul2nTA3Ni\n",
              "1e33GsxkivYmUawFXsH/MwCi6afsSo9kknmrwPlvrl+LtHao5Iebv5WtfEHvUHJt9+QhFHYZ+Em+\n",
              "ckbG8tO+2z/syL5r2GXqEER4/0YWPdpDGSxODhhUpQd0QSXiwHA6/ii0UiqqhAC5QRdPwlkHW405\n",
              "bQbqPydQ3ecaNQAreZLvoN/NlIXhJkRA07JhMx3j6gyRx2qfQk7Ee71I2XEMb8q5VZYpR/i7lW2x\n",
              "JtTBOAItoAptDZWo86gDpi0Z1uFgvtpw4NXi4Uu60gQ8zNceBPUIlh9OsAYGVGcXrzFMbwh06LKG\n",
              "Jo2OjFRnG+tQD7KZK5iJoHMfHoD6RvtV1HYXrRSOH+iSlBOLZaFB5qtKSR1E5h9gfXqx9QMxYHEe\n",
              "V6f3dHio+Gqa4y/Z1dF14gskVFCRxggvSSThywm3jmLLE7zWH6A7nyDZBzoY9cYKVEOeZfx9QOlh\n",
              "BBUzwF7R3T3SOy0idBoGm4JilqPEd550fg8zuGieMqHMi2lc2rg4vLhZKLRZjnPKduTJsMhNn6/O\n",
              "gnAcpZo1eFtUIA6UgyTXesTtrbZA34AAAAB7QZ8JRTRMEP8Ae8s2V9ozN9RTTBRZXVYbI/SAMiEF\n",
              "J8s9YPcI3acJuglUQk5ehn7lMgH8fbsM+4FV6yhABKv9EUyOV2BLXksIPKb/POctMt3+5W9bejAf\n",
              "Mm3t8U+xP4B/+bjuNz1gn8yxOgyf5GX24axQKJr6ZM6oRoXcAAAARAGfKHRD/wD2FJhI7+u6S7Qn\n",
              "UjRUQjeEix9N/LniPLX/mtliq3/F/CB5KgAJcql38sM5kjX/pfK/ppFob+HKbQ0ufOOBAAAAPwGf\n",
              "KmpD/wD2g7pp6NWwzEVo6oAZFqp8ggVSPO8qhBfY253rRRI0MsxEt+UHArIq7mpE+WYWVNlu+3Z9\n",
              "nEjlgAAAArRBmy9JqEFomUwIKf/+1oywAcm1XrUQMABuPMuA3V6rdgK1ad2CvVR274dEQ+NQ3FV7\n",
              "riaVIopfUEJFmccLj5HuZOiwc8/eCFBibFHFC61Nk8gbMr85FmEayn4rYxl+JSCOJCIl5EQIR2ix\n",
              "K6DN9ioG+GMJODnLDReZrQS7auSHIx7I1LNs7FrFN+Fj+KFB/Cy0fdEehr0/6/UWPYw5UPJUBurr\n",
              "QdnJeo6kHhSmhVpHr8FAh1wg0Mh80c2oLr/oU7YQJ8yvnwpuhTgAjhw4wHGgkIiCP3FYCBeiuZc2\n",
              "vGq6UA5tOdjjgt7jUp0TovmTD8Kvj1N9iN8dpWKscT7uDV7k5JjJqKLvYVNr4H/rMd8TThXRuPMo\n",
              "9G2MmunNSGknrz2NG93034v/sm+DvMlHXuemrwbvKg/AXtmfS5YIXgXnf6hxWnX04CK9xONvnrn3\n",
              "CKiKCw3IEjcqzXNBAuYbW3tTzcAMUKeoRg7q41lnvSS8oCqinYx/ghd4ZjbNGBUOJOX3N3+7CcZN\n",
              "S/RkA4yyxv1O6B09VN5MArS/lbQQZGodIhZS9pYP5kTtNv76OAWF+5UYY+/ze6OUKQNlyDKFKtrt\n",
              "7iz+fx/IJ7wGiVsl9g/l0OXE+BHo8QHtm1rb/wOzSO41FQBl+waifKr6dhEpv9WN2fIg0R/5vQTJ\n",
              "jTJP0/S9Po8ZmD4j901PfvgHzjYppHG/zt17zKa2SVWhQBonRlT2LBC3L/1SLfMFkhbbZZfhA1Za\n",
              "7Dit1SswjPtnJYBUvyRnPkeKw3FjMYks01+PiBix92EnNoo/Ehd8iIvVBARiNuUp7x82/bsJhmMu\n",
              "GAO6RyIZHHP4Yx7ZCczD6uU1eRMu27xwuXlFdi0BE0lnOckbNmjJXt0pz77le5q4lvYzv2qsR1ru\n",
              "8LKIb29f6Js662BGbuBZeAAAAGdBn01FESwQ/wB71TOvXJPIUlOzTFoAZ1DkcdThbqb8TklsbMmq\n",
              "gvgtlg3qkUbQVUOb9T3DaSrr/8i6oQujiwMW2GPgAcgLDb0zK9RqeMDj/u/AcK1A8i8OUXgQkL+p\n",
              "GUYXay6Kt7FhAAAAUwGfbHRD/wD2FJhIsJcy6Um+YAVYkxGIToLJJqYPcFPP65t4Nn1P45u3IVoX\n",
              "bxMyCiO6flhgBFAeC4isfr46KQr9NQr8uplYHakPMo8ttoVNKiFTAAAAPwGfbmpD/wD2g7pqKXmX\n",
              "FRN2xPMJx5d4G47QU+wI1AtW1w8LQWYVlcISTMgeyUH8bUK4gFD2OHb88vgZMDio+QAAAnRBm3NJ\n",
              "qEFsmUwIKf/+1oywAcdFJw3Q9oy09WGR23UABYTpmd8R9OO6BzJ4mWsbHc3XQljpUK4oUTh/txLG\n",
              "eW8+OYy3iKZ1/Uu5BIm663h3ZYZzxFye2QYVXxrQmk/aUFbkJTxY5+OWs4mlhdxjirgiCEZ6DkLQ\n",
              "JUcrmbtA1uDIID00efZbjZS7/dqxWCt7ZciwGYtZzm9kDhWg1XC6dOYps7xhjqzkFVdiPkR1YRp8\n",
              "tcX+8T1kh0rUD2ofjfKMa8badExnHgGOnqJaOyzxaMxy2XC8sdbqmgip6o/JM2w0WdERWpKzq5y4\n",
              "gc+YiTr2TjL3EdqxQIi+4G2Bd3RHKVKYON5vTM8kZePcnLwgMYkbN2e6mfK1aNSRat7qUEv8SOSv\n",
              "6v7A2s06Obhvkljp/lNgzr1shPbc4vEieXzeUUW3J78wUWL0W6CRGswuMEEkVhyiQMXqXcNCKMYq\n",
              "aILXxKQCPGwViOQyxGcNDXjUKw/XkLslASpZ31M+S0JE2bP8jBhP3/oFYeitnKLKz2nbzLA755Rh\n",
              "bHGrmtkRt9BwWewyzyk9JIwoDZEj4rEfYK0K5JnI5Vb3v7LJYFMDzbNysU/oA6U7Go8SRiVtesTF\n",
              "jjXHZKdMkqaW2zigb4UAlQKZFNt5bUvezNIvfk9XCos3f5J3sfM0BymtdDHbxRJ+u4IgGN+JABfW\n",
              "DwS9ZK5EyZrHBpcH0gIdFCCj8hzY+X8pq4aybfjH1gFOFyT2/O8nwIslxz6XWoJfjarF2+uShbnn\n",
              "rJsq1ruR7pqe7bWVxAfirHs26C1uzpyO1BG55QwtEMwy8aTqEatRrVSgBAUgQLhx8x9xT0RYAAAA\n",
              "R0GfkUUVLBD/AHvVM69eVMWBCHHdQvHYdLYGtmsWJC6S0RJSeaYuUqfKdId+I6H7hqhkT4ztRwAz\n",
              "9vTFUPF3QoALHbtkmzWUAAAAOQGfsHRD/wD2FJhI00Uvr1UU9uofLGbWtQ6Dqn5CEsizV4wt8w/8\n",
              "4ACLi8vJIIe/GkytqA5D43GHgQAAADEBn7JqQ/8A9oO6ahjZKqnJFTxSPvs2cLWY4tPsk5DLuTO2\n",
              "L0PVHXGFEhYI4q71OwM+AAADF0Gbt0moQWyZTAgp//7WjLADjxzWAsFDpkTiuMA4lrGGb/hhEUgM\n",
              "4auOUQL2hUt+mR58dmqDW6rgJZvVWPYsnNKGjfQ0bv1g2TEmZZIM4XiMoCTMaWNoZNo8Vd02G3Of\n",
              "0q3NXZ0uLGtmSlTs7qERtl2oNqm+l2JzuVbX2rJOts4VxkHE6WyNeulAwUYdVpZvUdepc/jwiQVM\n",
              "pjGEr5Dfotd3GYHr7c+298eFsOw9LbuzJXsnuiUumwaOrWwUz6tkV2snxAdiBc9hPUGIvargbytd\n",
              "5KthfBShwlCKMTPohz046meXEuNNlZRRFBimUeu0pTcpwYP6wRe8tiGZn31bfv3ABNmgVIUEIq04\n",
              "IMh51qcST1DvOjMF8SaSFUysXnFIkVC88VWwUMRpj5nbD3zzB4XW4n+mE9ZZda1IuTNDs1W5hLU8\n",
              "F3ncX3oVpnW6AEa12FHTDP5/Wj6QJitq/HZE54JIPfnoGYj8X3UrSsn8BkAD4zyvv6HByov4QLQi\n",
              "0voF7K20Jq9HihEBEif+meQmF42Sg6cJexH03NobEKeg0hVyIWJjlBi/h0tkNqICiGcU+k1eGBdu\n",
              "nJa4/icCfrIVfB5HYz+iyqSDfs86Opy/Goe0AyE5kE6xwA9CmFxv+4zLdu9JDhlz6pcHzgSCKpgl\n",
              "EzYKC3QG0NoJIo31H3nDlvNflCfCiol+RnX0w6b5PA6KkQnHAo4aS+af346vbK++UV13C8naXMkS\n",
              "AczswFSENp28KZwEGuUb+pQ5yFtccmRI1WSREd61vzuwEUcAmB91mb8DfNhCRjcxizV2cewfxoRB\n",
              "L12Ge2uto30xz61Ai0h2mDFSvcKEPPSWFr4Rf3BcYeT/qdWQSFRhbPIzg6n9P7KyDCQHRsZ1tJh2\n",
              "EUqplYcQ51x/4WZwc6CDg8RmCaLjgq9oboEf1u9fArpEq1s4jekLMFgi1wozJHA0mQHgglXTm8vW\n",
              "LJnEq14eIoSreiQIF+iM+NwoQH2zMxGMXV+dSz+zUrBI6IF8xqEd+AQOQjHzPEBeFn0U63YaYWFN\n",
              "WY3o6gtoMpcpQQXgAAAAWUGf1UUVLBD/AHvVM7/vTLMrMf6oDXbiPcyyroXzpzrlg3DoHxUrfJo0\n",
              "sUVk/wzRwmSgj77iK0NkwC+h70R6hqEyFPa7Bncw5B46L4q16GX2p5bnYHXJDYbNAAAANwGf9HRD\n",
              "/wD2FJhGh6bErN5/Ra2KNxu4FxLRyg29XmtoTiQ+FTy0LSg+xf8NFiJwn+PtPbmfmpAAAABGAZ/2\n",
              "akP/APaDuxROBMSPosSsBlx247KNMaSHFzX0VqZGj40ATGNw8T9JDv4rKf28YoduuRaRnIS8lP4r\n",
              "fosFGD5FAcDHwQAAAlhBm/tJqEFsmUwIKf/+1oywA5Nd3bxgBllXXKx/3XdLkreC5HRJ0h8Jf5sJ\n",
              "+CJSQFNuXgcRfxmLCNR5TMm87CmhI4KqVbay9WEJpHDwa5AUtk1hdWW5FSLYESF6xLYM1EPok225\n",
              "nB42yIqCVYnfsYCEcMm4NVSKCohxPK7/kdX8TIDOrXisl3rLbA7YuhBFkEDRpFwowOeWYwzbPVtV\n",
              "ej+b4G9H//6SsWGSztBH1CgywBe4g0nTXOOCyhQZIqK+AtYcej7lzxxK+aJ9uj2nQB1r+I/bno63\n",
              "YwEq6VkMjn4Rh/r0/ZPWudsJMV+k2KUlTO1NUko+EUU1asN5hJklw9L5ka370sQ12ELisXG68KJo\n",
              "+oXih1eJaL1FbOC0maZy+nv8n9f1u4bYiX2DbGFFyPiW1eTgekqsM4PCwXY0CM7TB47Em1dv0PT+\n",
              "nDrQ4KEgy9DlSSkYqDF++V0HPb9tn/58vT9R77azqwaE4pqVkqOtuD5c92YCe29qfNqOPJ1hI3J1\n",
              "cUx9roOOfZ1+jNlbHFiqO4Np/7v0Rl4MjBRbmQIONyhdYt9w2s0F224MbWG7yeg7mb/VRyRamdmm\n",
              "8kk74sFAmis30xk8+QrDE7rQUDPsYB+Ym6XORxarphZ0VEaoeXIkjQvEIMWVIdEh4Jqbjih7JKI+\n",
              "C5HwbQ2jtuhaPH4i+V/cTR6dSRzwhK2D2HXAk/9c4pZyBBODLxYvcR0F5FVVLqB7I+4bSYuYL+pH\n",
              "QEFfJugpDZywSU+2a+KIeN7clP4VAjplkw2BhAKsPnA1H12o+NeahR14qPEAAABQQZ4ZRRUsEP8A\n",
              "e9Uzv/BZ91Z+Tenn3NUaRvbejLAVCWD3iyfNpQOrfFaYhQQIojhyEsQj6lxAgfK/Mu1vCUFaK/ys\n",
              "Q9NGnn91ZFw8AAs0x9AAAAA+AZ44dEP/APYUmRAliVpUXmG84BjaPKob7QjpKbzlfYyyliM3Q6QZ\n",
              "HQEACwmPOMKb6YaYG4ggA/LbQfwi/1sAAAArAZ46akP/APaDuxQxsRLsvygxW7DzgJ/kgYVjyS/P\n",
              "yAgcgE3hiM45ryek4AAAAuJBmj9JqEFsmUwIKf/+1oywA46HUU0swAkUkokTe/zP54Oj3Vu8PZL8\n",
              "pr020/02+mB8738Gmg4BmVv3NRMaKESGoAaQmAKnyALfzSeayMXYpyyX5zxlYKUs1VA0/5WXWvCS\n",
              "2MyrhGoh3jINsprtjmBr184Gb9pud0tSrt/lH3Ut789wRQn5SlCfbAEGDxOPFf5KvkY6nlW+ScI1\n",
              "qPTJGZRBH8ftEs1MWaPautN5reMLI56dFYEvJCT0PDtYFSfz1BBkQJ3hCa9rWqwePTbAygc+TrFk\n",
              "zbZcXRt1YhCh4mE3bNatp7HWpVQ6Wu7fziwSgvzAS3XpyZx7MahdSLHlwmVqa+RDQ+MpSVzX0joR\n",
              "UlZgtlY4cvYkQvR+lt0+46jVzBd8cB+XQ2/NrN4ReYiaOoJ/Gp3v3d7icG0VsYMEzJmtb4syEqKe\n",
              "VjhfQn7muYCGl52XyjSFSu6l3zrwjQvgsc3k/TSLPeJZbvdQK5KjA3UvaoU76KodB1MFDeosoDup\n",
              "Xy7+yaFsjA5SMQjy92py2TeuUB2RQh1DAWg74ou3wQXEsIp5fD2/wsUwz6s7ccLzzwXPtPd6YVsv\n",
              "uwmUAIVp/viDGsl1iflN1pC0OvqaZ7/JKzZSWhv/gDgkIWzrdsZY95Sa3QEdajyUPKFSrZ6d7bc7\n",
              "28gu4bauowDIIJ0TojCkYPn1084Zh89awdQRinjnZ/BcXhDj09/93/2hWlPyOdIq2P75C3nTm1Wn\n",
              "z6e4lpXLxwy8ia+Ryq9PZk4+JhsSJu9/pCG6KfZ6hdCDE+QmP35pvRG3P23SDudAJh4GaEGI/ELs\n",
              "vTtTGilt3IQAJIg1cDno8y4RCggyeuyek2C1qc2nJ4fzQ+RUMd1yNqyqpelUXsMxTFeqJIpZNPdV\n",
              "CknIeVpUKlgqFIpoT2S1zX//W7IMc81QFvAbt7VTZoTHA6hONet/N4+PDVfBqCXUtAq6vKrp+/ZA\n",
              "RMVNqq3tIFQVgKkt848AAABeQZ5dRRUsEP8Ae9Uzv+lzmBi5jVVefFJ8isoK54+FpcNdItIRfeAT\n",
              "2Jj9FeDMq3YnavMAG3GtGmtdNh77wg9K/i8o7AxZbI8kslA2XcpdBuBzLu1HYmeCq6xE7wl0vQAA\n",
              "ADoBnnx0Q/8A9hSZD5HFPRFPRhThjlOmKxJscwakrN3n8IEuY5GngEC4k5sjp56XItHleltl61ka\n",
              "Y9swAAAAQQGefmpD/wD2g7sTxZEIGU02PibcaMwQjkyCBUDi5+0mVZfVrcteimtlM9gwSmTnsd02\n",
              "Cv7e74GMFjiptd8j/RpwAAACZUGaY0moQWyZTAgp//7WjLADk15NHpdquXcAKCoqCYSTHmoTexbn\n",
              "ao0pnnffLamjfYg2iGC5LSpl34L5HzNs/l6nTnNzvxc8pCfSQ15Vy2GAz6UM5cT4u5qvu7y89FiM\n",
              "dnFtWXRGi82e0scbYkyDs3GIou+WrqNGSBMALlztOdXTAYe//l4l/f/tIDrwfzHgw65xQztxzMc0\n",
              "ZvAL5+BVsuwju53R02l3uKGpXE2x95BP0ReBVO5XGSw65WS/G+B+w5WjQWSk2pOeo1obpj7Wx+qy\n",
              "v2c4CFLKvojQZZkJH5CuCG+UWkzfbxriUBQG2aVGe+HXWQ070e6i6j1Vf+rt3V8oiKelN4GKspM7\n",
              "zdhhU2QfbEvLiKASc5K7RbPgUDDQtjKR2Jus+H+QUNs891Zz76WS3sbWuiDGL7mgZgn16Y9TEoGQ\n",
              "ozgM7votnH2HDo5eTOukhGuP452PvOnPnmrOdL/zUpf/+XkroBAiV+n8vTLB1mBxDNB4P/H2kKzT\n",
              "oloLIJ+dXXD6BDiHRIspDLOBIAYxMZwYIYjGiMDQPtt2cJ1rxSSv13D1fVhcEGOCIM+sPKslPQ1O\n",
              "xhSpbQvdsTZnQDkkOvCz47XARB9VSCMYtTVa1r5h6IL826sjc74MB4vcTHyx119TGF1LHIFSWybK\n",
              "X2p/B1TvGZ9SXZHLEO2qs2amG5pvEHcYUo9i2ManSanuMNdMSYEOGhspRwTPoW1APv5dqmNjrouk\n",
              "w0lzTZanvNLrd940Zd8nAI/FNXcVBOjTiuPzGpBzi6YVW5KuWVHgGlX4mL3P+6g3VOUlBRba4YtP\n",
              "EAjF5hUAAABbQZ6BRRUsEP8Ae9Uzv+9JJzzWw7sMAcg3kMAjc7d2ma4yRgPdkaQMio9dBYKyjRbR\n",
              "HcNrTziWL0VJLZMZjGgLKX6OWhmiMDkRB/3IdhGzSMBSivnYwQ3euMue6AAAACgBnqB0Q/8A9hSZ\n",
              "BZJvUDD7mWHYqER5fYUeppAbqGa4jsHb/S3egDl3AAAASQGeompD/wD2g7sULEkdaqPYrhkXzVc5\n",
              "FFDSMAkgV0lM7jbX8NSn47U8xjcABc7BWKhV9U6/bImk2j3wmx6l4j1eG55TutJOqvAAAAJvQZqn\n",
              "SahBbJlMCCn//taMsAOPHgrGAJc0h5xAEJGnB/XBVEirgR8/py2IQZthDUXuqxvxAPTPT0rIho/a\n",
              "2szDB1m3qjPp3kYs9OcKn7yoj9Yzu3jua6dPoslOJrk3vOUAx1Qm2b+cyzp7YwEo+fV4ofatL7k+\n",
              "I4tqqpt3u47OILkRywYE5AxFXTC8SdsZYgsugnhrOBBw2ujA6E+zNKPUykIptQ1AWZWKAnnvwQ9Y\n",
              "fD2XSVQrZ1wrp7ubWF31RznxXp2n8V+gdMOF8119JAuPKuKPiEwLS3h2/3hCkReBE5c3ZjwvuzFY\n",
              "tZxhSXEtMsqq1InWARomGJHR7D2Y0RpUCrsyHCUa4CUZivxGyKLa3257BG6JNfrqTiaXNaggZmgf\n",
              "1I3Ezttfm7yasBxd2cMUEJpUSCpLT6f6zR1x3NEgqI4KhfYQznJvxImwlW6Ere8RbnSkgzVd9TMZ\n",
              "nklUYiEUMQtLKqCfW7TFff3+52itiONzG506CgHJTtcoICy0//yS2Ke9JG44+O+W2K6GwbVRivO1\n",
              "ruIdPyen0XkYFhEwUAKiRF//Eff4jbduabwiT28kCQ4ySy9GRBpGXxQtNd6o7Hxe7TykrF0o+YOJ\n",
              "FZJkGTryaEGN+rqd/zsrybHPRLyY93q19PMQYefKcqbylqVHuQVCqtq47+C4V1TU7Lcrc3QlbEuN\n",
              "WKPSgbqtG1ZE0Twk1LYXC7mW0wjdqO/nEC8o8OyZ/15jqDp0mrEoZ0PAAVdz0nhTbVe9lbXqYkvx\n",
              "GzfVTGweXmV5DsbtIXm0VOVJgYD+muiIgy/W80dY01wNFzK/4/r6chTP2JbqN9uNI0kAAAB1QZ7F\n",
              "RRUsEP8Ae9Uzv9kjuIy8Jxftbx7xZW3oWhdoQHn8thWRIrm6HqBcu/GZsiZs5apgBsOoXhJVVlMY\n",
              "IPIMYzjMFcqhCCyUGwRkEYlxgFqMK2K6gJSYuP8uhDqFfEU/MpY0joy2j4FqE83VKNIHw5lJm69B\n",
              "AAAAOAGe5HRD/wD2FJkQDNrdOKbB2Sd0HStGEW4vgdMBn+iuUCfjX4aPVDBqQxBYtX0JoRH/60iA\n",
              "boCBAAAANgGe5mpD/wD2g7sUFHcWFAe6sjd5R485QyY952ayX8GBy7LmnmxAbY5zpn4jnguYspcj\n",
              "iZCsiwAAAlVBmutJqEFsmUwIKf/+1oywA5Imce2qg/7vvAB8EAAlXKE1aRLp3KdqyHm62CMz5xzH\n",
              "tGSMUl0ewOlddblsrVzF/t+LNgZoYHlq7gcODVzc/3fPSsVwRinl0n/jcqAEDZwgug2O/bjdgdJi\n",
              "VRg267lwORqzXAXTSmWVHV9B+Ls29L40s6EfHCKgGJh1U+1m09wBZykTXjyVy4jHSJMY+se3EZ2O\n",
              "EpH1WS0di1Il3loODjuV1Zr8RCDWxmf9snxSZBBxCnL7Yls1/ajbQLPVsCMRckn7cymAPHVqApPm\n",
              "Hq3QAlZw6tFfm79aotzexmZ+4kptdd4YpJI4CABZO1Z7Lr56JurHY/xKI2/MhFOhf+qcGci/gA7y\n",
              "dDbtiro8EyLHkYYIX4kj/BNMspgieI4bJ0k9MS5b4hmIVcXBGSYwqlf59NpaZlZjx9mR41lsr+yn\n",
              "yyeMJwKYSrFY77THYrA6ofzkggEVBzSoaP3nGTLYBup1V2HF2jRAp4nYn3u5TF2HlhtBZWdLpRIv\n",
              "0olnZUbZy3erxPtr1nD/JQognWNJvhJHgQYWpTTy5yUwYwSMvv8grXjNEGORdQOwZJRM0DhsPeVD\n",
              "Wjl0TmU8dIi96sUFTJlBJcQYdQ21PrCm8iEyhjYrSQM+HhRsCC9tHL6U5uckxZUlGUwZjwoHSkNT\n",
              "Y61YFeJlzugcxAmwGlH2L1WTfQaESs4gRdCwv9cJ0QyArTd6E5fJvUc+6ISylcJ2fv4jsEfq8+kr\n",
              "8HlRks7WSOYSfhRXrVMGXmbXlu3UGk0LigWTFYG8YBIewo4AAABtQZ8JRRUsEP8Ae9Uzv/AKFdUK\n",
              "gxXSm/hi/uzCLJOn3g8SbyY+chr1o8OekBovbDIagBW3WKu0XmXXygwLFdUFttZzeC87KHnKv+1b\n",
              "MGg5WzyUqlR9q/N0twyTASOtOTGag0rkAZzipJo1rOVYvAAAADcBnyh0Q/8A9hSZEA1YdKeBht1a\n",
              "G6hW5KwGYCD0M/STilowlh38hSfoBd/AU3GJwkfPt1uJeUHhAAAAUwGfKmpD/wD2g7sUUsSst68e\n",
              "TgUhvw0e9nWJLnsXcf2/vLI2zwtewNiqUI5QF84AJKTLRoBkSGUfRIFnsjY35FBERMpeFfAssH8G\n",
              "SJEfPBKkiui4AAACS0GbL0moQWyZTAgp//7WjLADjwoZABW48NaeACRa6HBifXsK3gNlLjBWuPaL\n",
              "9nS3Gark+EDtbbWVxOsqL+PiX0kYj5MHNIJszumicKOXgxeCvkDTo6Th6Q9y7M67W/1lRr2zrdm5\n",
              "XgFOOqYH3AH6c0B4k53SnB5xzp3qrR+QGFXJ5sXguxlGtjCPiN8f9Rah+zxpXSM/7l2rvt+9Uc8L\n",
              "BE5ei34T8NO3/fZHRfJpFBoX7bNc/4zwgOp0h0HlZtWzAtKqikUxIfvJ9NA92FGFsQ07jAI9jeAo\n",
              "nrGN7NegJHZqD0bKCGU2/SzP0CAhNZym7YbI9Bwfaa7Z3Eorr8U7e8LR8L0rqnlgsar9ez3GuY8z\n",
              "mqrUmq9PgKYy4dAyZb6orzSUXtZsoj2yiy1XUXzTM1e0TskOFH4NjGPKvu4P++zSbfkvqMu0Ro+K\n",
              "gYcT9ss5wkpM+AjCAqrMbMdQ9LW18y3f3ED/PSb7ZlkIy+k3i4s3XyqDK4h3pmxZDQP3SWZ++9Nc\n",
              "qz7oOzIMGcyqVH/WnZuuNyutz8PMUm9Us+uDpsxfY7y+veL/bXVchInF3UNC0pxwrEhn9orI4srf\n",
              "DMxJC0u5ODym5XnZN0xq53t5//KB5eMHfsUnDOIFpnrvSGNYjLkjoYBivrTv5ng884+79E7LqR9Q\n",
              "qM1+Crh1d/wyfzPLbZ/kIFUg/fr69N5eH66cUy2wWaVk0iMdJDUn5hL24fXnq54fWx0f/l8vLnIh\n",
              "0tlGh33lJKulTS8Z3/JpjGCMkexH/t3mHBjfoK1gAAAAT0GfTUUVLBD/AHvVM77spvJ7sGXf9coe\n",
              "3pg4viZNn0puu8RQsSdNdiPBrHLZ9vlYUwhryk476McfLwIyNDDnF5QHJBrt53qN/YxbP+ogcLEA\n",
              "AAAxAZ9sdEP/APYUl7XyOKU6IfY5eHqs1b5QAVsUQv/QuPvgzF+CRr7C8jmg86jg6pOlbQAAADAB\n",
              "n25qQ/8A9oO7E9FZL2peKkTR+KrvFaGpGYJar2zsYWvIfbCHYlZjkNq4+Ndiz4EAAAHiQZtzSahB\n",
              "bJlMCCf//rUqgA3nOQi3AEfYB05iWkCbdqR/aNJOUvlAvuuHW+bH8IkNlvJ9b2ZXmsIn21YEE620\n",
              "4t3bVkoc3rB8m85VtyK4RB5TR0O7CHVhNbOiceEOlqwCUl35BXniL6btv3HpQM5XqnfxXoivC41y\n",
              "torWJ9cCZdCtGPHRz1vqmDP5Mcva/V4UwTCK1Jy0BWnzdDA4iOjtxJedNXekKdnm9y6tBWdRU+W6\n",
              "jHe5QbwMzbKAKnxjYW4OzQJoWTqrLUPuy1mGsFYQdirgwBrw5nLJOW0Gmu6s/nWrPvHaCGyQ4nWK\n",
              "plbus6oup/7g4t225aDEKzrEV9tIlK4xKelbf4uUNgCDY/NRgVmdOWZiXsL8XspnrRPVqxyqnJA9\n",
              "0/2r79hg9L+Z45dnLPi3cnrcRg1b6HkMlnxcLtEIU7abXi3dEvFjeaW0SyDKlnbjFgpcl0Wp5cRq\n",
              "sV179AsxAPXvpUQWoNhkEpkDG2sOyeqaWTQXWVdujwXz/0C6eqSFC+6oHC3yKiGgn9LBcEeIWzpg\n",
              "CXs/lNGJGU5GEHohBk4xcqw5FKXyF/Er1tus2QiVOHDx3SSSEXczr6zKXkV2XOpQ8Yr80ptaNMD8\n",
              "yaNEpNhr5dQ+xAEoMsKvyFtnQEAAAABMQZ+RRRUsEP8Ae9Uzv+ZdDn0GQHTj3+dYcWoRw9DVIqVV\n",
              "TGUKZbpt2+htW1DilIiH1ETKqdavjEiNQRzE8vBIDO4H8GF9NnVeezI2oAAAADoBn7B0Q/8A9hSY\n",
              "SMj8RV0aKLm9aHqpJc4MOq3FGbWtK7gkSIARpFdv0pBZ+QXA+tQIcgcJII5VJe/zAAAAKgGfsmpD\n",
              "/wD2g7sLRrP875x5TMKo+VXn9o+xLTkiqLZTUqExoVMYKlHegAAAAeNBm7dJqEFsmUwIJ//+tSqA\n",
              "Dec4yXUAOHX3D1MJt3qKRyhtgyTBqypGf9oYj4GYbUrEogpXsSV1UX8ItduV1WzHcoAeggZm6xb7\n",
              "tErXSA92Fkv7h3pTUtkFNLJxmdHCLK9jqLVYxNVu1t1V3VPr/SeCd9JLD6g70OEy00pWd76OLup/\n",
              "xvegJtL4WM0dIm0cnufLr7YySeCeDMl5P43IEofSsloaib0XTZ6XTNgAfUDicj58a464Hw7J1TGz\n",
              "vHc+nhWbab56ZviB3258p0uFHJx2Uj4G9TPlYUBQo0XHIUt7PmC9JNEKyuD4DhV1AkFK8BhmJs7c\n",
              "48vB/KEumKnVDJSDuYIVII12zrz/Hwwfzf6IU46Fgo3QWpHBzYdRFUpzZKh9jwuwHC8Msj2LLDgV\n",
              "xKULu6VH6LVMGhFz8pjkkgcC83YFMg8UWsaqTeax8YYZdBWkBGrGr8DirhrEmS87Q8+SvciPNS9T\n",
              "CV4lSdLHkRN+TXzgUsSOfXTskHIvlLq8RN4/u7WacYboq2LR4CZnDO68F+hZN+hNG+MKG5X7PzWk\n",
              "nhEkCnaHQktymMaULePIpHaH/NdmN/mAOuwSEvL+7BfZjnDKyOtnOh2s3vF6yDvxCpObkaKXHEKG\n",
              "MJjG98O6PHAIc1IAAABYQZ/VRRUsEP8Ae9Uzv+9JJz5mkSciiiP70ZumEo13Q6GrzS4WCVoKswbc\n",
              "XkC8CGBo7zaq3d7AtRNMAA2QwyNw/bVO7zhyE/k2OqHIMbmWGT4KGDdsKENDlwAAADQBn/R0Q/8A\n",
              "9hSZBZJzEENjfv3rU6EKY5puUjnT1TtNcWRtOAAIVL1n9P6G77gaXteq8tnAAAAAPwGf9mpD/wD2\n",
              "g7sUTfxU5QXNEhtnNfw4QcHC1Isk394JaSt44WGPTqvoLEA22hY4lnMNFMkol15N5RcYnWoMcQAA\n",
              "ARNBm/tJqEFsmUwIJ//+tSqADfWu+BvU7dl9M4AhLJLSfjfabSAUzjrr/T8nMEEbAmcTS4F42EU/\n",
              "btT1USAQlj+74Xj3YONcUrJj1gZxNDB2Uw9Ed++48an67SUcM6ghWLzhFk+i5QEo2vrOtpVzKaIq\n",
              "wPwpyJQmQSvUxaXXML1FnfsA2GR24LN6nwmnYAi60yvCfkDhp4tDh35EFIfW9fJ4yAcwUacKpSRf\n",
              "s9FvkoPxoa0a/WNwYkJ9i6z3stl3x2gpf6jOmO9IsefWaGZnj7sDepoL/Ehnit0u+RcqNmP2jnvV\n",
              "6vZMxkW92mG/u9cuJ2Ht56QcFYsIpXNftQyG+wX8MVeXd0uCLf1k9eoskEN6hSEx7wAAAE9BnhlF\n",
              "FSwQ/wB71TO/6WosmLi1CuIHgjuplpfM8wTgcJH4QP7Rx6ovYtMkr7SMCtzEx2nw9YLGHcHCfHoh\n",
              "9cjx79pEk1i3B0G4fJys7m7QAAAAVwGeOHRD/wD2FJkQG/CpzanQ4t8Q7y7Ea9G4OHVIoMqPSZeb\n",
              "cHOhYCzqo5l1N4tpoi/ABc7A+/zfJTFqVllwMBExNMRskJw3A3YuJPUwQrvgBjswJ36F4QAAADIB\n",
              "njpqQ/8A9oO7FHN2gzPW+eEZ+tyN9F63A8xrQx7T4cUdBfbiDD0qU2KWhSg1dX5VQAAAAS5Bmj9J\n",
              "qEFsmUwIJf/+tSqAILvIIALZCckGMq9YFJZ4krG6doebr3CQbeA0k3q5P4Vt/uNUPygkIJWiitO5\n",
              "SdfMtEV1glsEDMpzZG7vdrnGwl2+e4W4YW8YKb+JdKDBNtv2BPScfQo0EKqAWtJxLIXjV/4IhGe4\n",
              "J/8eF4lt25nbzVlcgzuQhPzBTDNtRwx99OpFSHU/MOZW194992JtDajoZf3Emyni7ChmfTU5VJW5\n",
              "wwYSWONua+jAot8P3McAogQw5GFaOxEUJvOBzTIDaydHRQZLgRNDwFlWJmHfETGoD4npvrq0h0+H\n",
              "aMi+VmPJL42H7/ZjQDTTURLSMLP/k2aAXop99y0CnWgtVfqVvJB9470O9c3K4Lfg7iUHLrp3/yn4\n",
              "24FtuLWNyQPbFHSX4QAAAEdBnl1FFSwQ/wB71TPm2+/KfbRDXW1iD7q3OIv9TZawheN7/NcOodOW\n",
              "crrpAoj4+EK1IgMAruJsL0E5U+e4E1+6SC8NqbYm4QAAAEEBnnx0Q/8A9hSZD6aJgocVDCBT/efm\n",
              "QUFuaugOQ/ZusxT2FTZKmwxbSjpaTAQoBc4poit6J2rheJTov7YOsX9fkAAAADQBnn5qQ/8A9oO8\n",
              "fBqyQ60x5ZqjwQuqbPCf5kG/E+YDZxlUItzF5NSmN35gYFQEhEgEIE7UAAAAsUGaY0moQWyZTAh/\n",
              "//6plgD7Bp8gxORjQjscocmraOWczxiN+HVACVVHrTHtQ4AsAm/87LQ4sBL5jSnip7pqxTd2ASqw\n",
              "nmWLBT9yC13sKgt5oFip+Lvl+C2Vz6vq1UQKviNXZgsJd5HStOkNhfTLvGWuOcyucFfsgp7OI1tY\n",
              "SOm4DVdvCwE9uUOSfeoQtcZbfRpEhQycIcKNCJJry9kjOj3EufBPRHO+sdZ8R/82Q/dlMQAAAD9B\n",
              "noFFFSwQ/wB71TPmjEo0gKcosoFyntDFr8vLy5lEXC1VlzmAMzxaJIVqvUOx1bCrWEwxMxpxoQma\n",
              "hd1dJLwAAAApAZ6gdEP/APYUmrxtthzDIfCi793SpchNXorb49mZsoVT7MWLDlIvUXEAAAApAZ6i\n",
              "akP/APaDvHwaCreKeGFt124soNKw2DGwx9UQfnWyq7rODhQmVJwAAAfGbW9vdgAAAGxtdmhkAAAA\n",
              "AAAAAAAAAAAAAAAD6AAATiAAAQAAAQAAAAAAAAAAAAAAAAEAAAAAAAAAAAAAAAAAAAABAAAAAAAA\n",
              "AAAAAAAAAABAAAAAAAAAAAAAAAAAAAAAAAAAAAAAAAAAAAAAAAAAAgAABvB0cmFrAAAAXHRraGQA\n",
              "AAADAAAAAAAAAAAAAAABAAAAAAAATiAAAAAAAAAAAAAAAAAAAAAAAAEAAAAAAAAAAAAAAAAAAAAB\n",
              "AAAAAAAAAAAAAAAAAABAAAAAAbAAAAEgAAAAAAAkZWR0cwAAABxlbHN0AAAAAAAAAAEAAE4gAAAQ\n",
              "AAABAAAAAAZobWRpYQAAACBtZGhkAAAAAAAAAAAAAAAAAAAoAAADIABVxAAAAAAALWhkbHIAAAAA\n",
              "AAAAAHZpZGUAAAAAAAAAAAAAAABWaWRlb0hhbmRsZXIAAAAGE21pbmYAAAAUdm1oZAAAAAEAAAAA\n",
              "AAAAAAAAACRkaW5mAAAAHGRyZWYAAAAAAAAAAQAAAAx1cmwgAAAAAQAABdNzdGJsAAAAs3N0c2QA\n",
              "AAAAAAAAAQAAAKNhdmMxAAAAAAAAAAEAAAAAAAAAAAAAAAAAAAAAAbABIABIAAAASAAAAAAAAAAB\n",
              "AAAAAAAAAAAAAAAAAAAAAAAAAAAAAAAAAAAAAAAAAAAAGP//AAAAMWF2Y0MBZAAV/+EAGGdkABWs\n",
              "2UGwloQAAAMABAAAAwAoPFi2WAEABmjr48siwAAAABx1dWlka2hA8l8kT8W6OaUbzwMj8wAAAAAA\n",
              "AAAYc3R0cwAAAAAAAAABAAAAZAAACAAAAAAUc3RzcwAAAAAAAAABAAAAAQAAAxhjdHRzAAAAAAAA\n",
              "AGEAAAAEAAAQAAAAAAEAABgAAAAAAQAACAAAAAABAAAQAAAAAAEAABgAAAAAAQAACAAAAAABAAAY\n",
              "AAAAAAEAAAgAAAAAAQAAEAAAAAABAAAYAAAAAAEAAAgAAAAAAQAAKAAAAAABAAAQAAAAAAEAAAAA\n",
              "AAAAAQAACAAAAAABAAAoAAAAAAEAABAAAAAAAQAAAAAAAAABAAAIAAAAAAEAACgAAAAAAQAAEAAA\n",
              "AAABAAAAAAAAAAEAAAgAAAAAAQAAKAAAAAABAAAQAAAAAAEAAAAAAAAAAQAACAAAAAABAAAoAAAA\n",
              "AAEAABAAAAAAAQAAAAAAAAABAAAIAAAAAAEAACgAAAAAAQAAEAAAAAABAAAAAAAAAAEAAAgAAAAA\n",
              "AQAAGAAAAAABAAAIAAAAAAEAACgAAAAAAQAAEAAAAAABAAAAAAAAAAEAAAgAAAAAAQAAKAAAAAAB\n",
              "AAAQAAAAAAEAAAAAAAAAAQAACAAAAAABAAAoAAAAAAEAABAAAAAAAQAAAAAAAAABAAAIAAAAAAEA\n",
              "ACgAAAAAAQAAEAAAAAABAAAAAAAAAAEAAAgAAAAAAQAAKAAAAAABAAAQAAAAAAEAAAAAAAAAAQAA\n",
              "CAAAAAABAAAoAAAAAAEAABAAAAAAAQAAAAAAAAABAAAIAAAAAAEAACgAAAAAAQAAEAAAAAABAAAA\n",
              "AAAAAAEAAAgAAAAAAQAAKAAAAAABAAAQAAAAAAEAAAAAAAAAAQAACAAAAAABAAAoAAAAAAEAABAA\n",
              "AAAAAQAAAAAAAAABAAAIAAAAAAEAACgAAAAAAQAAEAAAAAABAAAAAAAAAAEAAAgAAAAAAQAAKAAA\n",
              "AAABAAAQAAAAAAEAAAAAAAAAAQAACAAAAAABAAAoAAAAAAEAABAAAAAAAQAAAAAAAAABAAAIAAAA\n",
              "AAEAACgAAAAAAQAAEAAAAAABAAAAAAAAAAEAAAgAAAAAAQAAKAAAAAABAAAQAAAAAAEAAAAAAAAA\n",
              "AQAACAAAAAABAAAoAAAAAAEAABAAAAAAAQAAAAAAAAABAAAIAAAAABxzdHNjAAAAAAAAAAEAAAAB\n",
              "AAAAZAAAAAEAAAGkc3RzegAAAAAAAAAAAAAAZAAAE9kAAASiAAADJwAAAxIAAAQLAAAAtQAAAtQA\n",
              "AAOdAAAAcgAAA2kAAABjAAAChAAAA0cAAAB+AAADcQAAAJoAAABVAAAAUQAAAysAAABzAAAAWAAA\n",
              "AEgAAAL0AAAAjAAAAEwAAABQAAACZwAAAGwAAAB1AAAAUQAAAm4AAACiAAAAZAAAAFoAAAK0AAAA\n",
              "cgAAAEQAAAA6AAACSgAAAEoAAAL+AAAAfwAAAEgAAABDAAACuAAAAGsAAABXAAAAQwAAAngAAABL\n",
              "AAAAPQAAADUAAAMbAAAAXQAAADsAAABKAAACXAAAAFQAAABCAAAALwAAAuYAAABiAAAAPgAAAEUA\n",
              "AAJpAAAAXwAAACwAAABNAAACcwAAAHkAAAA8AAAAOgAAAlkAAABxAAAAOwAAAFcAAAJPAAAAUwAA\n",
              "ADUAAAA0AAAB5gAAAFAAAAA+AAAALgAAAecAAABcAAAAOAAAAEMAAAEXAAAAUwAAAFsAAAA2AAAB\n",
              "MgAAAEsAAABFAAAAOAAAALUAAABDAAAALQAAAC0AAAAUc3RjbwAAAAAAAAABAAAALAAAAGJ1ZHRh\n",
              "AAAAWm1ldGEAAAAAAAAAIWhkbHIAAAAAAAAAAG1kaXJhcHBsAAAAAAAAAAAAAAAALWlsc3QAAAAl\n",
              "qXRvbwAAAB1kYXRhAAAAAQAAAABMYXZmNTcuODMuMTAw\n",
              "\">\n",
              "  Your browser does not support the video tag.\n",
              "</video>"
            ],
            "text/plain": [
              "<IPython.core.display.HTML object>"
            ]
          },
          "metadata": {
            "tags": []
          },
          "execution_count": 70
        }
      ]
    },
    {
      "cell_type": "code",
      "metadata": {
        "id": "vRQhFKxis1HK",
        "colab_type": "code",
        "colab": {}
      },
      "source": [
        ""
      ],
      "execution_count": 0,
      "outputs": []
    }
  ]
}