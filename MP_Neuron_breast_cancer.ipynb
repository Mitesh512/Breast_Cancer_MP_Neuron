{
  "nbformat": 4,
  "nbformat_minor": 0,
  "metadata": {
    "colab": {
      "name": "MP_Neuron_breast_cancer.ipynb",
      "provenance": [],
      "authorship_tag": "ABX9TyNyIEpf2NYiLQxhA3X4PHWK",
      "include_colab_link": true
    },
    "kernelspec": {
      "name": "python3",
      "display_name": "Python 3"
    }
  },
  "cells": [
    {
      "cell_type": "markdown",
      "metadata": {
        "id": "view-in-github",
        "colab_type": "text"
      },
      "source": [
        "<a href=\"https://colab.research.google.com/github/Mitesh512/Breast_Cancer_MP_Neuron/blob/master/MP_Neuron_breast_cancer.ipynb\" target=\"_parent\"><img src=\"https://colab.research.google.com/assets/colab-badge.svg\" alt=\"Open In Colab\"/></a>"
      ]
    },
    {
      "cell_type": "code",
      "metadata": {
        "id": "kwHM2tK_SaAL",
        "colab_type": "code",
        "colab": {}
      },
      "source": [
        "# importing Libraries\n",
        "import numpy as np\n",
        "import pandas as pd\n",
        "import sklearn.datasets"
      ],
      "execution_count": 0,
      "outputs": []
    },
    {
      "cell_type": "code",
      "metadata": {
        "id": "Ef9rQwbPSvP2",
        "colab_type": "code",
        "colab": {}
      },
      "source": [
        "breast_cancer = sklearn.datasets.load_breast_cancer()"
      ],
      "execution_count": 0,
      "outputs": []
    },
    {
      "cell_type": "code",
      "metadata": {
        "id": "lkOzNMpgSyiw",
        "colab_type": "code",
        "colab": {}
      },
      "source": [
        "x = breast_cancer.data\n",
        "y = breast_cancer.target"
      ],
      "execution_count": 0,
      "outputs": []
    },
    {
      "cell_type": "code",
      "metadata": {
        "id": "i5vZiAZrS1TF",
        "colab_type": "code",
        "outputId": "55e20084-ae67-4de9-ae4c-23d5f8de3bb8",
        "colab": {
          "base_uri": "https://localhost:8080/",
          "height": 403
        }
      },
      "source": [
        "print(x)\n",
        "print(y)"
      ],
      "execution_count": 4,
      "outputs": [
        {
          "output_type": "stream",
          "text": [
            "[[1.799e+01 1.038e+01 1.228e+02 ... 2.654e-01 4.601e-01 1.189e-01]\n",
            " [2.057e+01 1.777e+01 1.329e+02 ... 1.860e-01 2.750e-01 8.902e-02]\n",
            " [1.969e+01 2.125e+01 1.300e+02 ... 2.430e-01 3.613e-01 8.758e-02]\n",
            " ...\n",
            " [1.660e+01 2.808e+01 1.083e+02 ... 1.418e-01 2.218e-01 7.820e-02]\n",
            " [2.060e+01 2.933e+01 1.401e+02 ... 2.650e-01 4.087e-01 1.240e-01]\n",
            " [7.760e+00 2.454e+01 4.792e+01 ... 0.000e+00 2.871e-01 7.039e-02]]\n",
            "[0 0 0 0 0 0 0 0 0 0 0 0 0 0 0 0 0 0 0 1 1 1 0 0 0 0 0 0 0 0 0 0 0 0 0 0 0\n",
            " 1 0 0 0 0 0 0 0 0 1 0 1 1 1 1 1 0 0 1 0 0 1 1 1 1 0 1 0 0 1 1 1 1 0 1 0 0\n",
            " 1 0 1 0 0 1 1 1 0 0 1 0 0 0 1 1 1 0 1 1 0 0 1 1 1 0 0 1 1 1 1 0 1 1 0 1 1\n",
            " 1 1 1 1 1 1 0 0 0 1 0 0 1 1 1 0 0 1 0 1 0 0 1 0 0 1 1 0 1 1 0 1 1 1 1 0 1\n",
            " 1 1 1 1 1 1 1 1 0 1 1 1 1 0 0 1 0 1 1 0 0 1 1 0 0 1 1 1 1 0 1 1 0 0 0 1 0\n",
            " 1 0 1 1 1 0 1 1 0 0 1 0 0 0 0 1 0 0 0 1 0 1 0 1 1 0 1 0 0 0 0 1 1 0 0 1 1\n",
            " 1 0 1 1 1 1 1 0 0 1 1 0 1 1 0 0 1 0 1 1 1 1 0 1 1 1 1 1 0 1 0 0 0 0 0 0 0\n",
            " 0 0 0 0 0 0 0 1 1 1 1 1 1 0 1 0 1 1 0 1 1 0 1 0 0 1 1 1 1 1 1 1 1 1 1 1 1\n",
            " 1 0 1 1 0 1 0 1 1 1 1 1 1 1 1 1 1 1 1 1 1 0 1 1 1 0 1 0 1 1 1 1 0 0 0 1 1\n",
            " 1 1 0 1 0 1 0 1 1 1 0 1 1 1 1 1 1 1 0 0 0 1 1 1 1 1 1 1 1 1 1 1 0 0 1 0 0\n",
            " 0 1 0 0 1 1 1 1 1 0 1 1 1 1 1 0 1 1 1 0 1 1 0 0 1 1 1 1 1 1 0 1 1 1 1 1 1\n",
            " 1 0 1 1 1 1 1 0 1 1 0 1 1 1 1 1 1 1 1 1 1 1 1 0 1 0 0 1 0 1 1 1 1 1 0 1 1\n",
            " 0 1 0 1 1 0 1 0 1 1 1 1 1 1 1 1 0 0 1 1 1 1 1 1 0 1 1 1 1 1 1 1 1 1 1 0 1\n",
            " 1 1 1 1 1 1 0 1 0 1 1 0 1 1 1 1 1 0 0 1 0 1 0 1 1 1 1 1 0 1 1 0 1 0 1 0 0\n",
            " 1 1 1 0 1 1 1 1 1 1 1 1 1 1 1 0 1 0 0 1 1 1 1 1 1 1 1 1 1 1 1 1 1 1 1 1 1\n",
            " 1 1 1 1 1 1 1 0 0 0 0 0 0 1]\n"
          ],
          "name": "stdout"
        }
      ]
    },
    {
      "cell_type": "code",
      "metadata": {
        "id": "ejJVzD2MS4kO",
        "colab_type": "code",
        "outputId": "5e399184-45f9-48b5-d818-9763feca37d6",
        "colab": {
          "base_uri": "https://localhost:8080/",
          "height": 34
        }
      },
      "source": [
        "print(x.shape)"
      ],
      "execution_count": 5,
      "outputs": [
        {
          "output_type": "stream",
          "text": [
            "(569, 30)\n"
          ],
          "name": "stdout"
        }
      ]
    },
    {
      "cell_type": "code",
      "metadata": {
        "id": "ZCOQwHgHS9Xn",
        "colab_type": "code",
        "outputId": "0eb30b75-4b49-41a7-e44f-4edd8e0348af",
        "colab": {
          "base_uri": "https://localhost:8080/",
          "height": 202
        }
      },
      "source": [
        "data = pd.DataFrame(breast_cancer.data, columns=breast_cancer.feature_names)\n",
        "data['cancer_result'] = breast_cancer.target\n",
        "data.columns"
      ],
      "execution_count": 6,
      "outputs": [
        {
          "output_type": "execute_result",
          "data": {
            "text/plain": [
              "Index(['mean radius', 'mean texture', 'mean perimeter', 'mean area',\n",
              "       'mean smoothness', 'mean compactness', 'mean concavity',\n",
              "       'mean concave points', 'mean symmetry', 'mean fractal dimension',\n",
              "       'radius error', 'texture error', 'perimeter error', 'area error',\n",
              "       'smoothness error', 'compactness error', 'concavity error',\n",
              "       'concave points error', 'symmetry error', 'fractal dimension error',\n",
              "       'worst radius', 'worst texture', 'worst perimeter', 'worst area',\n",
              "       'worst smoothness', 'worst compactness', 'worst concavity',\n",
              "       'worst concave points', 'worst symmetry', 'worst fractal dimension',\n",
              "       'cancer_result'],\n",
              "      dtype='object')"
            ]
          },
          "metadata": {
            "tags": []
          },
          "execution_count": 6
        }
      ]
    },
    {
      "cell_type": "code",
      "metadata": {
        "id": "pbTzHTs6TH-u",
        "colab_type": "code",
        "colab": {}
      },
      "source": [
        "data.columns = (['mean_radius', 'mean_texture', 'mean_perimeter', 'mean_area',\n",
        "       'mean_smoothness', 'mean_compactness', 'mean_concavity',\n",
        "       'mean_concave_points', 'mean_symmetry', 'mean_fractal_dimension',\n",
        "       'radius_error', 'texture_error', 'perimeter_error', 'area_error',\n",
        "       'smoothness_error', 'compactness_error', 'concavity_error',\n",
        "       'concave_points_error', 'symmetry_error', 'fractal_dimension_error',\n",
        "       'worst_radius', 'worst_texture', 'worst_perimeter', 'worst_area',\n",
        "       'worst_smoothness', 'worst_compactness', 'worst_concavity',\n",
        "       'worst_concave_points', 'worst_symmetry', 'worst_fractal_dimension',\n",
        "       'cancer_result'])"
      ],
      "execution_count": 0,
      "outputs": []
    },
    {
      "cell_type": "code",
      "metadata": {
        "id": "V02sLvOyTK2t",
        "colab_type": "code",
        "outputId": "6f212248-cd21-4e14-9d06-47761b0edac8",
        "colab": {
          "base_uri": "https://localhost:8080/",
          "height": 215
        }
      },
      "source": [
        "data.head()"
      ],
      "execution_count": 8,
      "outputs": [
        {
          "output_type": "execute_result",
          "data": {
            "text/html": [
              "<div>\n",
              "<style scoped>\n",
              "    .dataframe tbody tr th:only-of-type {\n",
              "        vertical-align: middle;\n",
              "    }\n",
              "\n",
              "    .dataframe tbody tr th {\n",
              "        vertical-align: top;\n",
              "    }\n",
              "\n",
              "    .dataframe thead th {\n",
              "        text-align: right;\n",
              "    }\n",
              "</style>\n",
              "<table border=\"1\" class=\"dataframe\">\n",
              "  <thead>\n",
              "    <tr style=\"text-align: right;\">\n",
              "      <th></th>\n",
              "      <th>mean_radius</th>\n",
              "      <th>mean_texture</th>\n",
              "      <th>mean_perimeter</th>\n",
              "      <th>mean_area</th>\n",
              "      <th>mean_smoothness</th>\n",
              "      <th>mean_compactness</th>\n",
              "      <th>mean_concavity</th>\n",
              "      <th>mean_concave_points</th>\n",
              "      <th>mean_symmetry</th>\n",
              "      <th>mean_fractal_dimension</th>\n",
              "      <th>radius_error</th>\n",
              "      <th>texture_error</th>\n",
              "      <th>perimeter_error</th>\n",
              "      <th>area_error</th>\n",
              "      <th>smoothness_error</th>\n",
              "      <th>compactness_error</th>\n",
              "      <th>concavity_error</th>\n",
              "      <th>concave_points_error</th>\n",
              "      <th>symmetry_error</th>\n",
              "      <th>fractal_dimension_error</th>\n",
              "      <th>worst_radius</th>\n",
              "      <th>worst_texture</th>\n",
              "      <th>worst_perimeter</th>\n",
              "      <th>worst_area</th>\n",
              "      <th>worst_smoothness</th>\n",
              "      <th>worst_compactness</th>\n",
              "      <th>worst_concavity</th>\n",
              "      <th>worst_concave_points</th>\n",
              "      <th>worst_symmetry</th>\n",
              "      <th>worst_fractal_dimension</th>\n",
              "      <th>cancer_result</th>\n",
              "    </tr>\n",
              "  </thead>\n",
              "  <tbody>\n",
              "    <tr>\n",
              "      <th>0</th>\n",
              "      <td>17.99</td>\n",
              "      <td>10.38</td>\n",
              "      <td>122.80</td>\n",
              "      <td>1001.0</td>\n",
              "      <td>0.11840</td>\n",
              "      <td>0.27760</td>\n",
              "      <td>0.3001</td>\n",
              "      <td>0.14710</td>\n",
              "      <td>0.2419</td>\n",
              "      <td>0.07871</td>\n",
              "      <td>1.0950</td>\n",
              "      <td>0.9053</td>\n",
              "      <td>8.589</td>\n",
              "      <td>153.40</td>\n",
              "      <td>0.006399</td>\n",
              "      <td>0.04904</td>\n",
              "      <td>0.05373</td>\n",
              "      <td>0.01587</td>\n",
              "      <td>0.03003</td>\n",
              "      <td>0.006193</td>\n",
              "      <td>25.38</td>\n",
              "      <td>17.33</td>\n",
              "      <td>184.60</td>\n",
              "      <td>2019.0</td>\n",
              "      <td>0.1622</td>\n",
              "      <td>0.6656</td>\n",
              "      <td>0.7119</td>\n",
              "      <td>0.2654</td>\n",
              "      <td>0.4601</td>\n",
              "      <td>0.11890</td>\n",
              "      <td>0</td>\n",
              "    </tr>\n",
              "    <tr>\n",
              "      <th>1</th>\n",
              "      <td>20.57</td>\n",
              "      <td>17.77</td>\n",
              "      <td>132.90</td>\n",
              "      <td>1326.0</td>\n",
              "      <td>0.08474</td>\n",
              "      <td>0.07864</td>\n",
              "      <td>0.0869</td>\n",
              "      <td>0.07017</td>\n",
              "      <td>0.1812</td>\n",
              "      <td>0.05667</td>\n",
              "      <td>0.5435</td>\n",
              "      <td>0.7339</td>\n",
              "      <td>3.398</td>\n",
              "      <td>74.08</td>\n",
              "      <td>0.005225</td>\n",
              "      <td>0.01308</td>\n",
              "      <td>0.01860</td>\n",
              "      <td>0.01340</td>\n",
              "      <td>0.01389</td>\n",
              "      <td>0.003532</td>\n",
              "      <td>24.99</td>\n",
              "      <td>23.41</td>\n",
              "      <td>158.80</td>\n",
              "      <td>1956.0</td>\n",
              "      <td>0.1238</td>\n",
              "      <td>0.1866</td>\n",
              "      <td>0.2416</td>\n",
              "      <td>0.1860</td>\n",
              "      <td>0.2750</td>\n",
              "      <td>0.08902</td>\n",
              "      <td>0</td>\n",
              "    </tr>\n",
              "    <tr>\n",
              "      <th>2</th>\n",
              "      <td>19.69</td>\n",
              "      <td>21.25</td>\n",
              "      <td>130.00</td>\n",
              "      <td>1203.0</td>\n",
              "      <td>0.10960</td>\n",
              "      <td>0.15990</td>\n",
              "      <td>0.1974</td>\n",
              "      <td>0.12790</td>\n",
              "      <td>0.2069</td>\n",
              "      <td>0.05999</td>\n",
              "      <td>0.7456</td>\n",
              "      <td>0.7869</td>\n",
              "      <td>4.585</td>\n",
              "      <td>94.03</td>\n",
              "      <td>0.006150</td>\n",
              "      <td>0.04006</td>\n",
              "      <td>0.03832</td>\n",
              "      <td>0.02058</td>\n",
              "      <td>0.02250</td>\n",
              "      <td>0.004571</td>\n",
              "      <td>23.57</td>\n",
              "      <td>25.53</td>\n",
              "      <td>152.50</td>\n",
              "      <td>1709.0</td>\n",
              "      <td>0.1444</td>\n",
              "      <td>0.4245</td>\n",
              "      <td>0.4504</td>\n",
              "      <td>0.2430</td>\n",
              "      <td>0.3613</td>\n",
              "      <td>0.08758</td>\n",
              "      <td>0</td>\n",
              "    </tr>\n",
              "    <tr>\n",
              "      <th>3</th>\n",
              "      <td>11.42</td>\n",
              "      <td>20.38</td>\n",
              "      <td>77.58</td>\n",
              "      <td>386.1</td>\n",
              "      <td>0.14250</td>\n",
              "      <td>0.28390</td>\n",
              "      <td>0.2414</td>\n",
              "      <td>0.10520</td>\n",
              "      <td>0.2597</td>\n",
              "      <td>0.09744</td>\n",
              "      <td>0.4956</td>\n",
              "      <td>1.1560</td>\n",
              "      <td>3.445</td>\n",
              "      <td>27.23</td>\n",
              "      <td>0.009110</td>\n",
              "      <td>0.07458</td>\n",
              "      <td>0.05661</td>\n",
              "      <td>0.01867</td>\n",
              "      <td>0.05963</td>\n",
              "      <td>0.009208</td>\n",
              "      <td>14.91</td>\n",
              "      <td>26.50</td>\n",
              "      <td>98.87</td>\n",
              "      <td>567.7</td>\n",
              "      <td>0.2098</td>\n",
              "      <td>0.8663</td>\n",
              "      <td>0.6869</td>\n",
              "      <td>0.2575</td>\n",
              "      <td>0.6638</td>\n",
              "      <td>0.17300</td>\n",
              "      <td>0</td>\n",
              "    </tr>\n",
              "    <tr>\n",
              "      <th>4</th>\n",
              "      <td>20.29</td>\n",
              "      <td>14.34</td>\n",
              "      <td>135.10</td>\n",
              "      <td>1297.0</td>\n",
              "      <td>0.10030</td>\n",
              "      <td>0.13280</td>\n",
              "      <td>0.1980</td>\n",
              "      <td>0.10430</td>\n",
              "      <td>0.1809</td>\n",
              "      <td>0.05883</td>\n",
              "      <td>0.7572</td>\n",
              "      <td>0.7813</td>\n",
              "      <td>5.438</td>\n",
              "      <td>94.44</td>\n",
              "      <td>0.011490</td>\n",
              "      <td>0.02461</td>\n",
              "      <td>0.05688</td>\n",
              "      <td>0.01885</td>\n",
              "      <td>0.01756</td>\n",
              "      <td>0.005115</td>\n",
              "      <td>22.54</td>\n",
              "      <td>16.67</td>\n",
              "      <td>152.20</td>\n",
              "      <td>1575.0</td>\n",
              "      <td>0.1374</td>\n",
              "      <td>0.2050</td>\n",
              "      <td>0.4000</td>\n",
              "      <td>0.1625</td>\n",
              "      <td>0.2364</td>\n",
              "      <td>0.07678</td>\n",
              "      <td>0</td>\n",
              "    </tr>\n",
              "  </tbody>\n",
              "</table>\n",
              "</div>"
            ],
            "text/plain": [
              "   mean_radius  mean_texture  ...  worst_fractal_dimension  cancer_result\n",
              "0        17.99         10.38  ...                  0.11890              0\n",
              "1        20.57         17.77  ...                  0.08902              0\n",
              "2        19.69         21.25  ...                  0.08758              0\n",
              "3        11.42         20.38  ...                  0.17300              0\n",
              "4        20.29         14.34  ...                  0.07678              0\n",
              "\n",
              "[5 rows x 31 columns]"
            ]
          },
          "metadata": {
            "tags": []
          },
          "execution_count": 8
        }
      ]
    },
    {
      "cell_type": "code",
      "metadata": {
        "id": "9aSu6zPLTM1c",
        "colab_type": "code",
        "outputId": "41fa1abd-5205-4d3f-96db-1e2049050266",
        "colab": {
          "base_uri": "https://localhost:8080/",
          "height": 655
        }
      },
      "source": [
        "data.info()"
      ],
      "execution_count": 9,
      "outputs": [
        {
          "output_type": "stream",
          "text": [
            "<class 'pandas.core.frame.DataFrame'>\n",
            "RangeIndex: 569 entries, 0 to 568\n",
            "Data columns (total 31 columns):\n",
            " #   Column                   Non-Null Count  Dtype  \n",
            "---  ------                   --------------  -----  \n",
            " 0   mean_radius              569 non-null    float64\n",
            " 1   mean_texture             569 non-null    float64\n",
            " 2   mean_perimeter           569 non-null    float64\n",
            " 3   mean_area                569 non-null    float64\n",
            " 4   mean_smoothness          569 non-null    float64\n",
            " 5   mean_compactness         569 non-null    float64\n",
            " 6   mean_concavity           569 non-null    float64\n",
            " 7   mean_concave_points      569 non-null    float64\n",
            " 8   mean_symmetry            569 non-null    float64\n",
            " 9   mean_fractal_dimension   569 non-null    float64\n",
            " 10  radius_error             569 non-null    float64\n",
            " 11  texture_error            569 non-null    float64\n",
            " 12  perimeter_error          569 non-null    float64\n",
            " 13  area_error               569 non-null    float64\n",
            " 14  smoothness_error         569 non-null    float64\n",
            " 15  compactness_error        569 non-null    float64\n",
            " 16  concavity_error          569 non-null    float64\n",
            " 17  concave_points_error     569 non-null    float64\n",
            " 18  symmetry_error           569 non-null    float64\n",
            " 19  fractal_dimension_error  569 non-null    float64\n",
            " 20  worst_radius             569 non-null    float64\n",
            " 21  worst_texture            569 non-null    float64\n",
            " 22  worst_perimeter          569 non-null    float64\n",
            " 23  worst_area               569 non-null    float64\n",
            " 24  worst_smoothness         569 non-null    float64\n",
            " 25  worst_compactness        569 non-null    float64\n",
            " 26  worst_concavity          569 non-null    float64\n",
            " 27  worst_concave_points     569 non-null    float64\n",
            " 28  worst_symmetry           569 non-null    float64\n",
            " 29  worst_fractal_dimension  569 non-null    float64\n",
            " 30  cancer_result            569 non-null    int64  \n",
            "dtypes: float64(30), int64(1)\n",
            "memory usage: 137.9 KB\n"
          ],
          "name": "stdout"
        }
      ]
    },
    {
      "cell_type": "code",
      "metadata": {
        "id": "P3aswCqFTQWH",
        "colab_type": "code",
        "outputId": "56b7b355-5daa-4197-f8f2-a96804c2f099",
        "colab": {
          "base_uri": "https://localhost:8080/",
          "height": 156
        }
      },
      "source": [
        "data.groupby('cancer_result').mean()"
      ],
      "execution_count": 10,
      "outputs": [
        {
          "output_type": "execute_result",
          "data": {
            "text/html": [
              "<div>\n",
              "<style scoped>\n",
              "    .dataframe tbody tr th:only-of-type {\n",
              "        vertical-align: middle;\n",
              "    }\n",
              "\n",
              "    .dataframe tbody tr th {\n",
              "        vertical-align: top;\n",
              "    }\n",
              "\n",
              "    .dataframe thead th {\n",
              "        text-align: right;\n",
              "    }\n",
              "</style>\n",
              "<table border=\"1\" class=\"dataframe\">\n",
              "  <thead>\n",
              "    <tr style=\"text-align: right;\">\n",
              "      <th></th>\n",
              "      <th>mean_radius</th>\n",
              "      <th>mean_texture</th>\n",
              "      <th>mean_perimeter</th>\n",
              "      <th>mean_area</th>\n",
              "      <th>mean_smoothness</th>\n",
              "      <th>mean_compactness</th>\n",
              "      <th>mean_concavity</th>\n",
              "      <th>mean_concave_points</th>\n",
              "      <th>mean_symmetry</th>\n",
              "      <th>mean_fractal_dimension</th>\n",
              "      <th>radius_error</th>\n",
              "      <th>texture_error</th>\n",
              "      <th>perimeter_error</th>\n",
              "      <th>area_error</th>\n",
              "      <th>smoothness_error</th>\n",
              "      <th>compactness_error</th>\n",
              "      <th>concavity_error</th>\n",
              "      <th>concave_points_error</th>\n",
              "      <th>symmetry_error</th>\n",
              "      <th>fractal_dimension_error</th>\n",
              "      <th>worst_radius</th>\n",
              "      <th>worst_texture</th>\n",
              "      <th>worst_perimeter</th>\n",
              "      <th>worst_area</th>\n",
              "      <th>worst_smoothness</th>\n",
              "      <th>worst_compactness</th>\n",
              "      <th>worst_concavity</th>\n",
              "      <th>worst_concave_points</th>\n",
              "      <th>worst_symmetry</th>\n",
              "      <th>worst_fractal_dimension</th>\n",
              "    </tr>\n",
              "    <tr>\n",
              "      <th>cancer_result</th>\n",
              "      <th></th>\n",
              "      <th></th>\n",
              "      <th></th>\n",
              "      <th></th>\n",
              "      <th></th>\n",
              "      <th></th>\n",
              "      <th></th>\n",
              "      <th></th>\n",
              "      <th></th>\n",
              "      <th></th>\n",
              "      <th></th>\n",
              "      <th></th>\n",
              "      <th></th>\n",
              "      <th></th>\n",
              "      <th></th>\n",
              "      <th></th>\n",
              "      <th></th>\n",
              "      <th></th>\n",
              "      <th></th>\n",
              "      <th></th>\n",
              "      <th></th>\n",
              "      <th></th>\n",
              "      <th></th>\n",
              "      <th></th>\n",
              "      <th></th>\n",
              "      <th></th>\n",
              "      <th></th>\n",
              "      <th></th>\n",
              "      <th></th>\n",
              "      <th></th>\n",
              "    </tr>\n",
              "  </thead>\n",
              "  <tbody>\n",
              "    <tr>\n",
              "      <th>0</th>\n",
              "      <td>17.462830</td>\n",
              "      <td>21.604906</td>\n",
              "      <td>115.365377</td>\n",
              "      <td>978.376415</td>\n",
              "      <td>0.102898</td>\n",
              "      <td>0.145188</td>\n",
              "      <td>0.160775</td>\n",
              "      <td>0.087990</td>\n",
              "      <td>0.192909</td>\n",
              "      <td>0.062680</td>\n",
              "      <td>0.609083</td>\n",
              "      <td>1.210915</td>\n",
              "      <td>4.323929</td>\n",
              "      <td>72.672406</td>\n",
              "      <td>0.006780</td>\n",
              "      <td>0.032281</td>\n",
              "      <td>0.041824</td>\n",
              "      <td>0.015060</td>\n",
              "      <td>0.020472</td>\n",
              "      <td>0.004062</td>\n",
              "      <td>21.134811</td>\n",
              "      <td>29.318208</td>\n",
              "      <td>141.370330</td>\n",
              "      <td>1422.286321</td>\n",
              "      <td>0.144845</td>\n",
              "      <td>0.374824</td>\n",
              "      <td>0.450606</td>\n",
              "      <td>0.182237</td>\n",
              "      <td>0.323468</td>\n",
              "      <td>0.091530</td>\n",
              "    </tr>\n",
              "    <tr>\n",
              "      <th>1</th>\n",
              "      <td>12.146524</td>\n",
              "      <td>17.914762</td>\n",
              "      <td>78.075406</td>\n",
              "      <td>462.790196</td>\n",
              "      <td>0.092478</td>\n",
              "      <td>0.080085</td>\n",
              "      <td>0.046058</td>\n",
              "      <td>0.025717</td>\n",
              "      <td>0.174186</td>\n",
              "      <td>0.062867</td>\n",
              "      <td>0.284082</td>\n",
              "      <td>1.220380</td>\n",
              "      <td>2.000321</td>\n",
              "      <td>21.135148</td>\n",
              "      <td>0.007196</td>\n",
              "      <td>0.021438</td>\n",
              "      <td>0.025997</td>\n",
              "      <td>0.009858</td>\n",
              "      <td>0.020584</td>\n",
              "      <td>0.003636</td>\n",
              "      <td>13.379801</td>\n",
              "      <td>23.515070</td>\n",
              "      <td>87.005938</td>\n",
              "      <td>558.899440</td>\n",
              "      <td>0.124959</td>\n",
              "      <td>0.182673</td>\n",
              "      <td>0.166238</td>\n",
              "      <td>0.074444</td>\n",
              "      <td>0.270246</td>\n",
              "      <td>0.079442</td>\n",
              "    </tr>\n",
              "  </tbody>\n",
              "</table>\n",
              "</div>"
            ],
            "text/plain": [
              "               mean_radius  ...  worst_fractal_dimension\n",
              "cancer_result               ...                         \n",
              "0                17.462830  ...                 0.091530\n",
              "1                12.146524  ...                 0.079442\n",
              "\n",
              "[2 rows x 30 columns]"
            ]
          },
          "metadata": {
            "tags": []
          },
          "execution_count": 10
        }
      ]
    },
    {
      "cell_type": "code",
      "metadata": {
        "id": "mJ_64nDvTUAr",
        "colab_type": "code",
        "colab": {}
      },
      "source": [
        ""
      ],
      "execution_count": 0,
      "outputs": []
    },
    {
      "cell_type": "markdown",
      "metadata": {
        "id": "EAopRBk8Thh9",
        "colab_type": "text"
      },
      "source": [
        "***Train Test Split***"
      ]
    },
    {
      "cell_type": "code",
      "metadata": {
        "id": "t-XNrCblTpOo",
        "colab_type": "code",
        "outputId": "a8195c52-02e6-42bc-d129-ce76560def91",
        "colab": {
          "base_uri": "https://localhost:8080/",
          "height": 34
        }
      },
      "source": [
        "from sklearn.model_selection import train_test_split\n",
        "X = data.drop('cancer_result',axis =1)\n",
        "Y = data['cancer_result']\n",
        "type(X)\n",
        "type(Y)"
      ],
      "execution_count": 11,
      "outputs": [
        {
          "output_type": "execute_result",
          "data": {
            "text/plain": [
              "pandas.core.series.Series"
            ]
          },
          "metadata": {
            "tags": []
          },
          "execution_count": 11
        }
      ]
    },
    {
      "cell_type": "code",
      "metadata": {
        "id": "6PMW7OaLT1pQ",
        "colab_type": "code",
        "outputId": "58c87d3c-7a6b-4c49-afac-5834bec3a860",
        "colab": {
          "base_uri": "https://localhost:8080/",
          "height": 50
        }
      },
      "source": [
        "X_train, X_test, y_train, y_test = train_test_split(X,Y, test_size=0.25, random_state=42, stratify = Y)\n",
        "print(X.shape, X_train.shape,X_test.shape)\n",
        "print(Y.shape, y_train.shape,y_test.shape)"
      ],
      "execution_count": 12,
      "outputs": [
        {
          "output_type": "stream",
          "text": [
            "(569, 30) (426, 30) (143, 30)\n",
            "(569,) (426,) (143,)\n"
          ],
          "name": "stdout"
        }
      ]
    },
    {
      "cell_type": "code",
      "metadata": {
        "id": "V1ABEEbxT97d",
        "colab_type": "code",
        "outputId": "86a29fc1-7450-4573-ee5d-c3eebf706b08",
        "colab": {
          "base_uri": "https://localhost:8080/",
          "height": 34
        }
      },
      "source": [
        "print(Y.mean(),y_train.mean(),y_test.mean())"
      ],
      "execution_count": 13,
      "outputs": [
        {
          "output_type": "stream",
          "text": [
            "0.6274165202108963 0.6267605633802817 0.6293706293706294\n"
          ],
          "name": "stdout"
        }
      ]
    },
    {
      "cell_type": "code",
      "metadata": {
        "id": "YWZEiOkZUBeu",
        "colab_type": "code",
        "outputId": "013b5727-e183-4de4-e64a-4d8cbbc33dd4",
        "colab": {
          "base_uri": "https://localhost:8080/",
          "height": 1000
        }
      },
      "source": [
        "print(X.mean(),X_train.mean(),X_test.mean())"
      ],
      "execution_count": 14,
      "outputs": [
        {
          "output_type": "stream",
          "text": [
            "mean_radius                 14.127292\n",
            "mean_texture                19.289649\n",
            "mean_perimeter              91.969033\n",
            "mean_area                  654.889104\n",
            "mean_smoothness              0.096360\n",
            "mean_compactness             0.104341\n",
            "mean_concavity               0.088799\n",
            "mean_concave_points          0.048919\n",
            "mean_symmetry                0.181162\n",
            "mean_fractal_dimension       0.062798\n",
            "radius_error                 0.405172\n",
            "texture_error                1.216853\n",
            "perimeter_error              2.866059\n",
            "area_error                  40.337079\n",
            "smoothness_error             0.007041\n",
            "compactness_error            0.025478\n",
            "concavity_error              0.031894\n",
            "concave_points_error         0.011796\n",
            "symmetry_error               0.020542\n",
            "fractal_dimension_error      0.003795\n",
            "worst_radius                16.269190\n",
            "worst_texture               25.677223\n",
            "worst_perimeter            107.261213\n",
            "worst_area                 880.583128\n",
            "worst_smoothness             0.132369\n",
            "worst_compactness            0.254265\n",
            "worst_concavity              0.272188\n",
            "worst_concave_points         0.114606\n",
            "worst_symmetry               0.290076\n",
            "worst_fractal_dimension      0.083946\n",
            "dtype: float64 mean_radius                 14.075202\n",
            "mean_texture                19.295047\n",
            "mean_perimeter              91.592911\n",
            "mean_area                  649.627230\n",
            "mean_smoothness              0.096018\n",
            "mean_compactness             0.103460\n",
            "mean_concavity               0.088931\n",
            "mean_concave_points          0.048211\n",
            "mean_symmetry                0.180203\n",
            "mean_fractal_dimension       0.062779\n",
            "radius_error                 0.398923\n",
            "texture_error                1.213723\n",
            "perimeter_error              2.825113\n",
            "area_error                  39.171439\n",
            "smoothness_error             0.007079\n",
            "compactness_error            0.025582\n",
            "concavity_error              0.032497\n",
            "concave_points_error         0.011655\n",
            "symmetry_error               0.020790\n",
            "fractal_dimension_error      0.003814\n",
            "worst_radius                16.202542\n",
            "worst_texture               25.708263\n",
            "worst_perimeter            106.803732\n",
            "worst_area                 872.524413\n",
            "worst_smoothness             0.132365\n",
            "worst_compactness            0.256041\n",
            "worst_concavity              0.277706\n",
            "worst_concave_points         0.114156\n",
            "worst_symmetry               0.291210\n",
            "worst_fractal_dimension      0.084079\n",
            "dtype: float64 mean_radius                 14.282469\n",
            "mean_texture                19.273566\n",
            "mean_perimeter              93.089510\n",
            "mean_area                  670.564336\n",
            "mean_smoothness              0.097380\n",
            "mean_compactness             0.106967\n",
            "mean_concavity               0.088408\n",
            "mean_concave_points          0.051029\n",
            "mean_symmetry                0.184020\n",
            "mean_fractal_dimension       0.062852\n",
            "radius_error                 0.423787\n",
            "texture_error                1.226179\n",
            "perimeter_error              2.988039\n",
            "area_error                  43.809545\n",
            "smoothness_error             0.006929\n",
            "compactness_error            0.025167\n",
            "concavity_error              0.030097\n",
            "concave_points_error         0.012218\n",
            "symmetry_error               0.019804\n",
            "fractal_dimension_error      0.003738\n",
            "worst_radius                16.467734\n",
            "worst_texture               25.584755\n",
            "worst_perimeter            108.624056\n",
            "worst_area                 904.590210\n",
            "worst_smoothness             0.132379\n",
            "worst_compactness            0.248975\n",
            "worst_concavity              0.255750\n",
            "worst_concave_points         0.115947\n",
            "worst_symmetry               0.286697\n",
            "worst_fractal_dimension      0.083548\n",
            "dtype: float64\n"
          ],
          "name": "stdout"
        }
      ]
    },
    {
      "cell_type": "code",
      "metadata": {
        "id": "nrGIO1zZUElF",
        "colab_type": "code",
        "colab": {}
      },
      "source": [
        "# MP Neuron only takes binary output, but we have real values in dataset"
      ],
      "execution_count": 0,
      "outputs": []
    },
    {
      "cell_type": "markdown",
      "metadata": {
        "id": "X3jZhvCAULv-",
        "colab_type": "text"
      },
      "source": [
        "# **Binarization of Input**"
      ]
    },
    {
      "cell_type": "code",
      "metadata": {
        "id": "ZMUZgZJbUOAm",
        "colab_type": "code",
        "outputId": "24dc482f-f0a7-4ea0-cbda-5a666f28395c",
        "colab": {
          "base_uri": "https://localhost:8080/",
          "height": 833
        }
      },
      "source": [
        "import matplotlib.pyplot as plt\n",
        "%matplotlib inline\n",
        "plt.figure(figsize=(15, 5))\n",
        "plt.xticks(rotation = 'vertical')\n",
        "plt.plot(X_train,'*')"
      ],
      "execution_count": 16,
      "outputs": [
        {
          "output_type": "execute_result",
          "data": {
            "text/plain": [
              "[<matplotlib.lines.Line2D at 0x7ff53a2b2898>,\n",
              " <matplotlib.lines.Line2D at 0x7ff53a22da20>,\n",
              " <matplotlib.lines.Line2D at 0x7ff53a22db38>,\n",
              " <matplotlib.lines.Line2D at 0x7ff53a22dc88>,\n",
              " <matplotlib.lines.Line2D at 0x7ff53a22ddd8>,\n",
              " <matplotlib.lines.Line2D at 0x7ff53a22df28>,\n",
              " <matplotlib.lines.Line2D at 0x7ff53a2380b8>,\n",
              " <matplotlib.lines.Line2D at 0x7ff53a238208>,\n",
              " <matplotlib.lines.Line2D at 0x7ff53a238358>,\n",
              " <matplotlib.lines.Line2D at 0x7ff53a2384a8>,\n",
              " <matplotlib.lines.Line2D at 0x7ff53a734ba8>,\n",
              " <matplotlib.lines.Line2D at 0x7ff53a22d358>,\n",
              " <matplotlib.lines.Line2D at 0x7ff53a22d048>,\n",
              " <matplotlib.lines.Line2D at 0x7ff53a21c828>,\n",
              " <matplotlib.lines.Line2D at 0x7ff53a21c8d0>,\n",
              " <matplotlib.lines.Line2D at 0x7ff53a21c780>,\n",
              " <matplotlib.lines.Line2D at 0x7ff53a21c3c8>,\n",
              " <matplotlib.lines.Line2D at 0x7ff53a238710>,\n",
              " <matplotlib.lines.Line2D at 0x7ff53a238860>,\n",
              " <matplotlib.lines.Line2D at 0x7ff53a2389b0>,\n",
              " <matplotlib.lines.Line2D at 0x7ff53a238b00>,\n",
              " <matplotlib.lines.Line2D at 0x7ff53a238c50>,\n",
              " <matplotlib.lines.Line2D at 0x7ff53a238da0>,\n",
              " <matplotlib.lines.Line2D at 0x7ff53a238ef0>,\n",
              " <matplotlib.lines.Line2D at 0x7ff53a23d080>,\n",
              " <matplotlib.lines.Line2D at 0x7ff53a23d1d0>,\n",
              " <matplotlib.lines.Line2D at 0x7ff53a23d320>,\n",
              " <matplotlib.lines.Line2D at 0x7ff53a23d470>,\n",
              " <matplotlib.lines.Line2D at 0x7ff53a23d5c0>,\n",
              " <matplotlib.lines.Line2D at 0x7ff53a23d710>]"
            ]
          },
          "metadata": {
            "tags": []
          },
          "execution_count": 16
        },
        {
          "output_type": "display_data",
          "data": {
            "image/png": "[encoded data removed]",
            "text/plain": [
              "<Figure size 1080x360 with 1 Axes>"
            ]
          },
          "metadata": {
            "tags": [],
            "needs_background": "light"
          }
        }
      ]
    },
    {
      "cell_type": "code",
      "metadata": {
        "id": "KzfSb-rpUcp2",
        "colab_type": "code",
        "outputId": "9b896493-cb09-4cfa-96db-4c020c1bf4ed",
        "colab": {
          "base_uri": "https://localhost:8080/",
          "height": 432
        }
      },
      "source": [
        "plt.figure(figsize=(15, 5))\n",
        "plt.plot(X_train.T,'*')\n",
        "plt.xticks(rotation = 'vertical')\n",
        "plt.show()\n"
      ],
      "execution_count": 17,
      "outputs": [
        {
          "output_type": "display_data",
          "data": {
            "image/png": "[encoded data removed]",
            "text/plain": [
              "<Figure size 1080x360 with 1 Axes>"
            ]
          },
          "metadata": {
            "tags": [],
            "needs_background": "light"
          }
        }
      ]
    },
    {
      "cell_type": "code",
      "metadata": {
        "id": "9Mv9yhpXfuoF",
        "colab_type": "code",
        "outputId": "a9492156-43e3-42f1-8614-5c0703850b5e",
        "colab": {
          "base_uri": "https://localhost:8080/",
          "height": 432
        }
      },
      "source": [
        "# We will Binarise on mean: We will use Pandas Cut function to do it:\n",
        "X_train_binary = X_train.apply(pd.cut,bins =2 , labels =[0,1])\n",
        "\n",
        "plt.figure(figsize=(15, 5))\n",
        "plt.plot(X_train_binary.T,'*')\n",
        "plt.xticks(rotation = 'vertical')\n",
        "plt.show()"
      ],
      "execution_count": 18,
      "outputs": [
        {
          "output_type": "display_data",
          "data": {
            "image/png": "[encoded data removed]",
            "text/plain": [
              "<Figure size 1080x360 with 1 Axes>"
            ]
          },
          "metadata": {
            "tags": [],
            "needs_background": "light"
          }
        }
      ]
    },
    {
      "cell_type": "code",
      "metadata": {
        "id": "Koj9C2doha0E",
        "colab_type": "code",
        "outputId": "6d99200f-7a39-4e9d-c0e3-2a6cbc180998",
        "colab": {
          "base_uri": "https://localhost:8080/",
          "height": 432
        }
      },
      "source": [
        "plt.figure(figsize=(15, 5))\n",
        "plt.plot(X_test.T,'*')\n",
        "plt.xticks(rotation = 'vertical')\n",
        "plt.show()"
      ],
      "execution_count": 19,
      "outputs": [
        {
          "output_type": "display_data",
          "data": {
            "image/png": "[encoded data removed]",
            "text/plain": [
              "<Figure size 1080x360 with 1 Axes>"
            ]
          },
          "metadata": {
            "tags": [],
            "needs_background": "light"
          }
        }
      ]
    },
    {
      "cell_type": "code",
      "metadata": {
        "id": "uwOai95Bhjen",
        "colab_type": "code",
        "outputId": "da4bc2b8-7933-43f0-c3c7-10a5e8590d05",
        "colab": {
          "base_uri": "https://localhost:8080/",
          "height": 432
        }
      },
      "source": [
        "X_test_binary = X_test.apply(pd.cut,bins =2 , labels =[0,1])\n",
        "\n",
        "plt.figure(figsize=(15, 5))\n",
        "plt.plot(X_test_binary.T,'*')\n",
        "plt.xticks(rotation = 'vertical')\n",
        "plt.show()"
      ],
      "execution_count": 20,
      "outputs": [
        {
          "output_type": "display_data",
          "data": {
            "image/png": "[encoded data removed]",
            "text/plain": [
              "<Figure size 1080x360 with 1 Axes>"
            ]
          },
          "metadata": {
            "tags": [],
            "needs_background": "light"
          }
        }
      ]
    },
    {
      "cell_type": "code",
      "metadata": {
        "id": "Ps1ZNhIbhg_6",
        "colab_type": "code",
        "colab": {}
      },
      "source": [
        "# Now converting into numpy arrays:\n",
        "X_train_binary = X_train_binary.values\n",
        "X_test_binary = X_test_binary.values"
      ],
      "execution_count": 0,
      "outputs": []
    },
    {
      "cell_type": "code",
      "metadata": {
        "id": "qHAM7ADPiUit",
        "colab_type": "code",
        "colab": {}
      },
      "source": [
        ""
      ],
      "execution_count": 0,
      "outputs": []
    },
    {
      "cell_type": "markdown",
      "metadata": {
        "id": "ZUDkyJ9-iZUo",
        "colab_type": "text"
      },
      "source": [
        "# ***MP Neuron Model***"
      ]
    },
    {
      "cell_type": "code",
      "metadata": {
        "id": "-qneWcujihEP",
        "colab_type": "code",
        "outputId": "69c570c8-a569-4a9b-fee9-b8e09dbe6f33",
        "colab": {
          "base_uri": "https://localhost:8080/",
          "height": 67
        }
      },
      "source": [
        "# Let's See how a NP Neuron would work:\n",
        "from random import randint\n",
        "b = 5\n",
        "\n",
        "i = randint(0,X_train_binary.shape[0])\n",
        "print('For row', i )\n",
        "\n",
        "if (np.sum(X_train_binary[i,:]) >= b):\n",
        "  print('MP Neuron inference is malignant ')\n",
        "else:\n",
        "  print('MP Neuron inference is benign')\n",
        "\n",
        "if (y_train[i] == 1):\n",
        "  print('Ground Truth is malignant')\n",
        "else:\n",
        "  print('Ground truth is benign')\n",
        "\n"
      ],
      "execution_count": 23,
      "outputs": [
        {
          "output_type": "stream",
          "text": [
            "For row 91\n",
            "MP Neuron inference is benign\n",
            "Ground truth is benign\n"
          ],
          "name": "stdout"
        }
      ]
    },
    {
      "cell_type": "code",
      "metadata": {
        "id": "HeCpcMfFkLSR",
        "colab_type": "code",
        "outputId": "2566ee76-5a95-4392-f3b0-ccb1717d3a62",
        "colab": {
          "base_uri": "https://localhost:8080/",
          "height": 34
        }
      },
      "source": [
        "# So here we see for some it is correct but not for all Our goal is to get value of b, let's test\n",
        "\n",
        "b = 5\n",
        "\n",
        "y_pred_train = []\n",
        "accurate_rows = 0\n",
        "\n",
        "for i,j in zip(X_train_binary , y_train):\n",
        "  y_pred = (np.sum(i) >= b)\n",
        "  y_pred_train.append(y_pred)\n",
        "  accurate_rows += (j == y_pred)\n",
        "\n",
        "print('Accurate results with b =5 are ', accurate_rows)"
      ],
      "execution_count": 24,
      "outputs": [
        {
          "output_type": "stream",
          "text": [
            "Accurate results with b =5 are  64\n"
          ],
          "name": "stdout"
        }
      ]
    },
    {
      "cell_type": "code",
      "metadata": {
        "id": "qNH9yNOvmBXr",
        "colab_type": "code",
        "outputId": "bead095f-3fa2-4b1a-99f5-988946b8bffd",
        "colab": {
          "base_uri": "https://localhost:8080/",
          "height": 538
        }
      },
      "source": [
        "for b in range(X_train_binary.shape[1] +1):\n",
        "  y_pred_train = []\n",
        "  accurate_rows = 0\n",
        "\n",
        "  for i,j in zip(X_train_binary , y_train):\n",
        "    y_pred = (np.sum(i) >= b)\n",
        "    y_pred_train.append(y_pred)\n",
        "    accurate_rows += (j == y_pred)\n",
        "\n",
        "  print(\"for b = {0} accurate rows are {1} & Accuracy = {2}\".format( b, accurate_rows, (accurate_rows/X_train_binary.shape[0])))\n",
        "\n",
        "\n"
      ],
      "execution_count": 25,
      "outputs": [
        {
          "output_type": "stream",
          "text": [
            "for b = 0 accurate rows are 267 & Accuracy = 0.6267605633802817\n",
            "for b = 1 accurate rows are 124 & Accuracy = 0.29107981220657275\n",
            "for b = 2 accurate rows are 83 & Accuracy = 0.19483568075117372\n",
            "for b = 3 accurate rows are 64 & Accuracy = 0.15023474178403756\n",
            "for b = 4 accurate rows are 57 & Accuracy = 0.13380281690140844\n",
            "for b = 5 accurate rows are 64 & Accuracy = 0.15023474178403756\n",
            "for b = 6 accurate rows are 79 & Accuracy = 0.18544600938967137\n",
            "for b = 7 accurate rows are 88 & Accuracy = 0.20657276995305165\n",
            "for b = 8 accurate rows are 96 & Accuracy = 0.22535211267605634\n",
            "for b = 9 accurate rows are 116 & Accuracy = 0.27230046948356806\n",
            "for b = 10 accurate rows are 125 & Accuracy = 0.2934272300469484\n",
            "for b = 11 accurate rows are 133 & Accuracy = 0.31220657276995306\n",
            "for b = 12 accurate rows are 140 & Accuracy = 0.3286384976525822\n",
            "for b = 13 accurate rows are 141 & Accuracy = 0.33098591549295775\n",
            "for b = 14 accurate rows are 145 & Accuracy = 0.3403755868544601\n",
            "for b = 15 accurate rows are 151 & Accuracy = 0.3544600938967136\n",
            "for b = 16 accurate rows are 153 & Accuracy = 0.3591549295774648\n",
            "for b = 17 accurate rows are 157 & Accuracy = 0.3685446009389671\n",
            "for b = 18 accurate rows are 159 & Accuracy = 0.3732394366197183\n",
            "for b = 19 accurate rows are 159 & Accuracy = 0.3732394366197183\n",
            "for b = 20 accurate rows are 159 & Accuracy = 0.3732394366197183\n",
            "for b = 21 accurate rows are 159 & Accuracy = 0.3732394366197183\n",
            "for b = 22 accurate rows are 159 & Accuracy = 0.3732394366197183\n",
            "for b = 23 accurate rows are 159 & Accuracy = 0.3732394366197183\n",
            "for b = 24 accurate rows are 159 & Accuracy = 0.3732394366197183\n",
            "for b = 25 accurate rows are 159 & Accuracy = 0.3732394366197183\n",
            "for b = 26 accurate rows are 159 & Accuracy = 0.3732394366197183\n",
            "for b = 27 accurate rows are 159 & Accuracy = 0.3732394366197183\n",
            "for b = 28 accurate rows are 159 & Accuracy = 0.3732394366197183\n",
            "for b = 29 accurate rows are 159 & Accuracy = 0.3732394366197183\n",
            "for b = 30 accurate rows are 159 & Accuracy = 0.3732394366197183\n"
          ],
          "name": "stdout"
        }
      ]
    },
    {
      "cell_type": "code",
      "metadata": {
        "id": "6iEqHOi7mJI0",
        "colab_type": "code",
        "outputId": "4b763513-9829-4623-ac9c-96a108d05375",
        "colab": {
          "base_uri": "https://localhost:8080/",
          "height": 538
        }
      },
      "source": [
        "for b in range(X_train_binary.shape[1] +1):\n",
        "  y_pred_train = []\n",
        "  accurate_rows = 0\n",
        "\n",
        "  for i,j in zip(X_train_binary , y_train):\n",
        "    y_pred = (np.sum(i) < b)\n",
        "    y_pred_train.append(y_pred)\n",
        "    accurate_rows += (j == y_pred)\n",
        "\n",
        "  print(\"for b = {0} accurate rows are {1} & Accuracy = {2}\".format( b, accurate_rows, (accurate_rows/X_train_binary.shape[0])))\n"
      ],
      "execution_count": 26,
      "outputs": [
        {
          "output_type": "stream",
          "text": [
            "for b = 0 accurate rows are 159 & Accuracy = 0.3732394366197183\n",
            "for b = 1 accurate rows are 302 & Accuracy = 0.7089201877934272\n",
            "for b = 2 accurate rows are 343 & Accuracy = 0.8051643192488263\n",
            "for b = 3 accurate rows are 362 & Accuracy = 0.8497652582159625\n",
            "for b = 4 accurate rows are 369 & Accuracy = 0.8661971830985915\n",
            "for b = 5 accurate rows are 362 & Accuracy = 0.8497652582159625\n",
            "for b = 6 accurate rows are 347 & Accuracy = 0.8145539906103286\n",
            "for b = 7 accurate rows are 338 & Accuracy = 0.7934272300469484\n",
            "for b = 8 accurate rows are 330 & Accuracy = 0.7746478873239436\n",
            "for b = 9 accurate rows are 310 & Accuracy = 0.7276995305164319\n",
            "for b = 10 accurate rows are 301 & Accuracy = 0.7065727699530516\n",
            "for b = 11 accurate rows are 293 & Accuracy = 0.687793427230047\n",
            "for b = 12 accurate rows are 286 & Accuracy = 0.6713615023474179\n",
            "for b = 13 accurate rows are 285 & Accuracy = 0.6690140845070423\n",
            "for b = 14 accurate rows are 281 & Accuracy = 0.6596244131455399\n",
            "for b = 15 accurate rows are 275 & Accuracy = 0.6455399061032864\n",
            "for b = 16 accurate rows are 273 & Accuracy = 0.6408450704225352\n",
            "for b = 17 accurate rows are 269 & Accuracy = 0.6314553990610329\n",
            "for b = 18 accurate rows are 267 & Accuracy = 0.6267605633802817\n",
            "for b = 19 accurate rows are 267 & Accuracy = 0.6267605633802817\n",
            "for b = 20 accurate rows are 267 & Accuracy = 0.6267605633802817\n",
            "for b = 21 accurate rows are 267 & Accuracy = 0.6267605633802817\n",
            "for b = 22 accurate rows are 267 & Accuracy = 0.6267605633802817\n",
            "for b = 23 accurate rows are 267 & Accuracy = 0.6267605633802817\n",
            "for b = 24 accurate rows are 267 & Accuracy = 0.6267605633802817\n",
            "for b = 25 accurate rows are 267 & Accuracy = 0.6267605633802817\n",
            "for b = 26 accurate rows are 267 & Accuracy = 0.6267605633802817\n",
            "for b = 27 accurate rows are 267 & Accuracy = 0.6267605633802817\n",
            "for b = 28 accurate rows are 267 & Accuracy = 0.6267605633802817\n",
            "for b = 29 accurate rows are 267 & Accuracy = 0.6267605633802817\n",
            "for b = 30 accurate rows are 267 & Accuracy = 0.6267605633802817\n"
          ],
          "name": "stdout"
        }
      ]
    },
    {
      "cell_type": "code",
      "metadata": {
        "id": "G0UdU3oQmn9P",
        "colab_type": "code",
        "colab": {}
      },
      "source": [
        "from sklearn.metrics import accuracy_score"
      ],
      "execution_count": 0,
      "outputs": []
    },
    {
      "cell_type": "code",
      "metadata": {
        "id": "P3xkUWOevbyk",
        "colab_type": "code",
        "outputId": "f66d14ec-3ecc-43b4-c67c-a8a2eb0d3c27",
        "colab": {
          "base_uri": "https://localhost:8080/",
          "height": 538
        }
      },
      "source": [
        "for b in range(X_test_binary.shape[1] +1):\n",
        "  y_pred_test = []\n",
        "  accuracy =[]\n",
        "  \n",
        "  for i in X_test_binary:\n",
        "    y_pred = (np.sum(i) < b)\n",
        "    y_pred_test.append(y_pred)\n",
        "    \n",
        "  accuracy.append(accuracy_score(y_pred_test,y_test))\n",
        "  print(\"for b = {0} Accuracy is {1}\".format( b, accuracy))\n"
      ],
      "execution_count": 28,
      "outputs": [
        {
          "output_type": "stream",
          "text": [
            "for b = 0 Accuracy is [0.3706293706293706]\n",
            "for b = 1 Accuracy is [0.5874125874125874]\n",
            "for b = 2 Accuracy is [0.7202797202797203]\n",
            "for b = 3 Accuracy is [0.8391608391608392]\n",
            "for b = 4 Accuracy is [0.8461538461538461]\n",
            "for b = 5 Accuracy is [0.8461538461538461]\n",
            "for b = 6 Accuracy is [0.8181818181818182]\n",
            "for b = 7 Accuracy is [0.7762237762237763]\n",
            "for b = 8 Accuracy is [0.7692307692307693]\n",
            "for b = 9 Accuracy is [0.7832167832167832]\n",
            "for b = 10 Accuracy is [0.7482517482517482]\n",
            "for b = 11 Accuracy is [0.7342657342657343]\n",
            "for b = 12 Accuracy is [0.7202797202797203]\n",
            "for b = 13 Accuracy is [0.6923076923076923]\n",
            "for b = 14 Accuracy is [0.6853146853146853]\n",
            "for b = 15 Accuracy is [0.6643356643356644]\n",
            "for b = 16 Accuracy is [0.6573426573426573]\n",
            "for b = 17 Accuracy is [0.6573426573426573]\n",
            "for b = 18 Accuracy is [0.6503496503496503]\n",
            "for b = 19 Accuracy is [0.6503496503496503]\n",
            "for b = 20 Accuracy is [0.6503496503496503]\n",
            "for b = 21 Accuracy is [0.6433566433566433]\n",
            "for b = 22 Accuracy is [0.6363636363636364]\n",
            "for b = 23 Accuracy is [0.6363636363636364]\n",
            "for b = 24 Accuracy is [0.6293706293706294]\n",
            "for b = 25 Accuracy is [0.6293706293706294]\n",
            "for b = 26 Accuracy is [0.6293706293706294]\n",
            "for b = 27 Accuracy is [0.6293706293706294]\n",
            "for b = 28 Accuracy is [0.6293706293706294]\n",
            "for b = 29 Accuracy is [0.6293706293706294]\n",
            "for b = 30 Accuracy is [0.6293706293706294]\n"
          ],
          "name": "stdout"
        }
      ]
    },
    {
      "cell_type": "markdown",
      "metadata": {
        "id": "8W63NPp-5HY7",
        "colab_type": "text"
      },
      "source": [
        "# MP Neuron Class"
      ]
    },
    {
      "cell_type": "code",
      "metadata": {
        "id": "a-ZolnPaxGLB",
        "colab_type": "code",
        "colab": {}
      },
      "source": [
        "class MPNeuron:\n",
        "  def __init__(self):\n",
        "    self.b =None\n",
        "  \n",
        "  def model(self,x):\n",
        "    return(sum(x) >= self.b)\n",
        "\n",
        "  def predict(self,X):\n",
        "    y = []\n",
        "    for x in X:\n",
        "      result = self.model(x)\n",
        "      y.append(result)\n",
        "    return np.array(y)\n",
        "\n",
        "\n",
        "  def fit(self,X,y):\n",
        "    accuracy ={} # we are defining dictionary \n",
        "\n",
        "    for b in range(30):\n",
        "      self.b = b\n",
        "      y_pred = self.predict(X)\n",
        "      accuracy[b] = accuracy_score(y_pred,y)\n",
        "\n",
        "    best_b = max(accuracy,key = accuracy.get)\n",
        "    self.b = best_b\n",
        "\n",
        "    print('Optimal Value of b is ',best_b)\n",
        "    print('Highest accuracy is', accuracy[best_b])\n"
      ],
      "execution_count": 0,
      "outputs": []
    },
    {
      "cell_type": "code",
      "metadata": {
        "id": "N1wTxvYbyxIw",
        "colab_type": "code",
        "outputId": "5ff4c9d9-24f0-457e-a1f1-836f4627ce83",
        "colab": {
          "base_uri": "https://localhost:8080/",
          "height": 50
        }
      },
      "source": [
        "mp_neuron = MPNeuron()\n",
        "\n",
        "mp_neuron.fit(X_train_binary,y_train)"
      ],
      "execution_count": 30,
      "outputs": [
        {
          "output_type": "stream",
          "text": [
            "Optimal Value of b is  0\n",
            "Highest accuracy is 0.6267605633802817\n"
          ],
          "name": "stdout"
        }
      ]
    },
    {
      "cell_type": "code",
      "metadata": {
        "id": "pdHaFe1yyyGW",
        "colab_type": "code",
        "outputId": "e0c40c1a-5ebd-4105-e06b-ad21b7e8a0ae",
        "colab": {
          "base_uri": "https://localhost:8080/",
          "height": 50
        }
      },
      "source": [
        "mp_neuron.fit(X_test_binary,y_test)"
      ],
      "execution_count": 31,
      "outputs": [
        {
          "output_type": "stream",
          "text": [
            "Optimal Value of b is  0\n",
            "Highest accuracy is 0.6293706293706294\n"
          ],
          "name": "stdout"
        }
      ]
    },
    {
      "cell_type": "code",
      "metadata": {
        "id": "h2-bbUYQ_Ncw",
        "colab_type": "code",
        "colab": {}
      },
      "source": [
        "y_test_pred = mp_neuron.predict(X_test_binary)\n",
        "accuracy_test = accuracy_score(y_test_pred, y_test)"
      ],
      "execution_count": 0,
      "outputs": []
    },
    {
      "cell_type": "code",
      "metadata": {
        "id": "OfgeQer-AqD3",
        "colab_type": "code",
        "outputId": "a333b38b-0d89-41f6-905f-5a671239f79e",
        "colab": {
          "base_uri": "https://localhost:8080/",
          "height": 34
        }
      },
      "source": [
        "print(accuracy_test)"
      ],
      "execution_count": 33,
      "outputs": [
        {
          "output_type": "stream",
          "text": [
            "0.6293706293706294\n"
          ],
          "name": "stdout"
        }
      ]
    },
    {
      "cell_type": "code",
      "metadata": {
        "id": "tlfNoD7DBk0g",
        "colab_type": "code",
        "colab": {}
      },
      "source": [
        ""
      ],
      "execution_count": 0,
      "outputs": []
    },
    {
      "cell_type": "markdown",
      "metadata": {
        "id": "sFeYJMH9MKG1",
        "colab_type": "text"
      },
      "source": [
        "# ***Perceptron Class***"
      ]
    },
    {
      "cell_type": "markdown",
      "metadata": {
        "id": "H158TNuaMghh",
        "colab_type": "text"
      },
      "source": [
        "$y=1,\\sum_i w_i x_i>=b$\n",
        "\n",
        "$y = 0,otherwise$"
      ]
    },
    {
      "cell_type": "code",
      "metadata": {
        "id": "rZFueSjzMI_2",
        "colab_type": "code",
        "colab": {}
      },
      "source": [
        "# Convert xtrain and xtest to numpy arrays\n",
        "X_train = X_train.values\n",
        "X_test = X_test.values\n"
      ],
      "execution_count": 0,
      "outputs": []
    },
    {
      "cell_type": "code",
      "metadata": {
        "id": "bwXR_EMcMRTM",
        "colab_type": "code",
        "colab": {}
      },
      "source": [
        "class Perceptron:\n",
        "  def __init__(self):\n",
        "    self.w = None\n",
        "    self.b = None\n",
        "\n",
        "  def model(self,x):\n",
        "    return 1 if (np.dot(self.w, x) >= self.b) else 0\n",
        "\n",
        "  def predict(self,X):\n",
        "    Y = []\n",
        "    for x in X:\n",
        "      result =self.model(x)\n",
        "      Y.append(result)\n",
        "    return np.array(Y)\n",
        "\n",
        "  def fit(self, X, Y, epochs = 1):\n",
        "    self.w = np.ones(X.shape[1])\n",
        "    self.b = 0\n",
        "\n",
        "    accuracy = []\n",
        "    max_accuracy = 0\n",
        "\n",
        "    for i in range(epochs):\n",
        "      for x,y in zip(X,Y):\n",
        "        y_pred = self.model(x)\n",
        "        if y==1 and y_pred == 0:\n",
        "          self.w = self.w + x\n",
        "          self.b = self.b +1\n",
        "        elif y==0 and y_pred == 1:\n",
        "          self.w = self.w - x\n",
        "          self.b = self.b -1\n",
        "      accuracy.append(accuracy_score(self.predict(X), Y))\n",
        "      if (accuracy[i]> max_accuracy):\n",
        "        max_accuracy = accuracy[i]\n",
        "        chkptw = self.w\n",
        "        chkptb = self.b\n",
        "\n",
        "    self.w = chkptw\n",
        "    self.b = chkptb\n",
        "    plt.plot(accuracy)\n",
        "    plt.show()    \n",
        "    print(\"Max accuracy {} is acheived at w = {} and b ={}\".format(max_accuracy,self.w,self.b))\n"
      ],
      "execution_count": 0,
      "outputs": []
    },
    {
      "cell_type": "code",
      "metadata": {
        "id": "UrCskPrPMJKp",
        "colab_type": "code",
        "colab": {}
      },
      "source": [
        "perceptron = Perceptron()"
      ],
      "execution_count": 0,
      "outputs": []
    },
    {
      "cell_type": "code",
      "metadata": {
        "id": "QxJDKZYkVuX1",
        "colab_type": "code",
        "colab": {
          "base_uri": "https://localhost:8080/",
          "height": 399
        },
        "outputId": "d3126bb5-3afe-4cc6-d2d5-6ca7d5acf803"
      },
      "source": [
        "perceptron.fit(X_train,y_train,50)"
      ],
      "execution_count": 132,
      "outputs": [
        {
          "output_type": "display_data",
          "data": {
            "image/png": "[encoded data removed]",
            "text/plain": [
              "<Figure size 432x288 with 1 Axes>"
            ]
          },
          "metadata": {
            "tags": [],
            "needs_background": "light"
          }
        },
        {
          "output_type": "stream",
          "text": [
            "Max accuracy 0.8943661971830986 is acheived at w = [ 3.04172000e+03  1.97584000e+03  1.69806500e+04  4.00140000e+03\n",
            "  2.17167300e+01 -3.84422600e+01 -9.07009010e+01 -3.52818790e+01\n",
            "  3.65347000e+01  1.94290500e+01  1.35772000e+01  1.62028300e+02\n",
            " -1.50873100e+02 -7.43773800e+03  1.40947100e+00 -1.09533990e+01\n",
            " -1.90681660e+01 -3.12242300e+00  1.06910700e+00  5.57977200e-01\n",
            "  3.23267300e+03  2.04068000e+03  1.69627800e+04 -7.65990000e+03\n",
            "  2.14039200e+01 -1.50953580e+02 -2.31236953e+02 -5.88415400e+01\n",
            "  2.52191000e+01  1.09122100e+01] and b =399\n"
          ],
          "name": "stdout"
        }
      ]
    },
    {
      "cell_type": "code",
      "metadata": {
        "id": "MHV1JUh_I779",
        "colab_type": "code",
        "colab": {}
      },
      "source": [
        ""
      ],
      "execution_count": 0,
      "outputs": []
    },
    {
      "cell_type": "code",
      "metadata": {
        "id": "KHN1wiwuW6k1",
        "colab_type": "code",
        "outputId": "5ca2399e-a14d-473b-c894-e4cb711bd7ac",
        "colab": {
          "base_uri": "https://localhost:8080/",
          "height": 265
        }
      },
      "source": [
        "plt.plot(perceptron.w)\n",
        "plt.show()"
      ],
      "execution_count": 101,
      "outputs": [
        {
          "output_type": "display_data",
          "data": {
            "image/png": "[encoded data removed]",
            "text/plain": [
              "<Figure size 432x288 with 1 Axes>"
            ]
          },
          "metadata": {
            "tags": [],
            "needs_background": "light"
          }
        }
      ]
    },
    {
      "cell_type": "code",
      "metadata": {
        "id": "J_JvRcfCXQKF",
        "colab_type": "code",
        "outputId": "287f1432-c83f-4b64-bbbe-f3f9df78a51d",
        "colab": {
          "base_uri": "https://localhost:8080/",
          "height": 34
        }
      },
      "source": [
        "y_prcptrn_pred = perceptron.predict(X_train)\n",
        "print(accuracy_score(y_prcptrn_pred,y_train))"
      ],
      "execution_count": 102,
      "outputs": [
        {
          "output_type": "stream",
          "text": [
            "0.8943661971830986\n"
          ],
          "name": "stdout"
        }
      ]
    },
    {
      "cell_type": "code",
      "metadata": {
        "id": "K1exsbiaXoNj",
        "colab_type": "code",
        "outputId": "e361fadc-570d-4a51-f4f6-777b902e7db7",
        "colab": {
          "base_uri": "https://localhost:8080/",
          "height": 34
        }
      },
      "source": [
        "y_prcptrn_pred_tst = perceptron.predict(X_test)\n",
        "print(accuracy_score(y_prcptrn_pred_tst,y_test))"
      ],
      "execution_count": 64,
      "outputs": [
        {
          "output_type": "stream",
          "text": [
            "0.8111888111888111\n"
          ],
          "name": "stdout"
        }
      ]
    },
    {
      "cell_type": "markdown",
      "metadata": {
        "id": "ZjHN2aoq751I",
        "colab_type": "text"
      },
      "source": [
        "Learning Rate:\n",
        "We will Introdurce learning rate in above model\n"
      ]
    },
    {
      "cell_type": "code",
      "metadata": {
        "id": "WAvOMY-XX15A",
        "colab_type": "code",
        "colab": {}
      },
      "source": [
        "class NPerceptron:\n",
        "  def __init__(self):\n",
        "    self.w = None\n",
        "    self.b = None\n",
        "\n",
        "  def model(self,x):\n",
        "    return 1 if (np.dot(self.w, x) >= self.b) else 0\n",
        "\n",
        "  def predict(self,X):\n",
        "    Y = []\n",
        "    for x in X:\n",
        "      result =self.model(x)\n",
        "      Y.append(result)\n",
        "    return np.array(Y)\n",
        "\n",
        "  def fit(self, X, Y, epochs = 1,lr = 0.1):\n",
        "    self.w = np.ones(X.shape[1])\n",
        "    self.b = 0\n",
        "\n",
        "    accuracy = []\n",
        "    max_accuracy = 0\n",
        "\n",
        "    for i in range(epochs):\n",
        "      for x,y in zip(X,Y):\n",
        "        y_pred = self.model(x)\n",
        "        if y==1 and y_pred == 0:\n",
        "          self.w = self.w + lr * x\n",
        "          self.b = self.b + lr *1\n",
        "        elif y==0 and y_pred == 1:\n",
        "          self.w = self.w - lr * x\n",
        "          self.b = self.b -lr * 1\n",
        "      accuracy.append(accuracy_score(self.predict(X), Y))\n",
        "      if (accuracy[i]> max_accuracy):\n",
        "        max_accuracy = accuracy[i]\n",
        "        chkptw = self.w\n",
        "        chkptb = self.b\n",
        "\n",
        "    self.w = chkptw\n",
        "    self.b = chkptb\n",
        "    plt.plot(accuracy)\n",
        "    plt.ylim([0, 1])\n",
        "    plt.show()    \n",
        "    print(\"Max accuracy {} is acheived at w = {} and b ={}\".format(max_accuracy,self.w,self.b))\n"
      ],
      "execution_count": 0,
      "outputs": []
    },
    {
      "cell_type": "code",
      "metadata": {
        "id": "UGZsYay_7gW0",
        "colab_type": "code",
        "colab": {}
      },
      "source": [
        "prcptrn = NPerceptron()"
      ],
      "execution_count": 0,
      "outputs": []
    },
    {
      "cell_type": "code",
      "metadata": {
        "id": "fb_YQ9p-7gat",
        "colab_type": "code",
        "colab": {
          "base_uri": "https://localhost:8080/",
          "height": 403
        },
        "outputId": "9221e705-65aa-4a0d-9bff-6538b2c98daf"
      },
      "source": [
        "prcptrn.fit(X_train,y_train,epochs = 250, lr = 0.01)"
      ],
      "execution_count": 149,
      "outputs": [
        {
          "output_type": "display_data",
          "data": {
            "image/png": "[encoded data removed]",
            "text/plain": [
              "<Figure size 432x288 with 1 Axes>"
            ]
          },
          "metadata": {
            "tags": [],
            "needs_background": "light"
          }
        },
        {
          "output_type": "stream",
          "text": [
            "Max accuracy 0.92018779342723 is acheived at w = [ 3.28163400e+01  1.65238000e+01  1.75640500e+02  5.48460000e+01\n",
            "  1.18722320e+00  4.91046900e-01 -9.76594630e-02  5.67414180e-01\n",
            "  1.32527800e+00  1.17888100e+00  1.07712200e+00  2.18782100e+00\n",
            " -1.10619300e+00 -8.05919300e+01  1.00046120e+00  8.46223170e-01\n",
            "  7.51271447e-01  9.48135420e-01  9.90445700e-01  9.91357061e-01\n",
            "  3.45859600e+01  1.26693000e+01  1.71630000e+02 -8.56310000e+01\n",
            "  1.16119670e+00 -9.19177600e-01 -1.83674683e+00  2.61140190e-01\n",
            "  1.11976200e+00  1.06113540e+00] and b =4.159999999999956\n"
          ],
          "name": "stdout"
        }
      ]
    },
    {
      "cell_type": "code",
      "metadata": {
        "id": "HWvFXGPY7geo",
        "colab_type": "code",
        "colab": {}
      },
      "source": [
        ""
      ],
      "execution_count": 0,
      "outputs": []
    },
    {
      "cell_type": "code",
      "metadata": {
        "id": "Ik-8L8gs7giJ",
        "colab_type": "code",
        "colab": {}
      },
      "source": [
        ""
      ],
      "execution_count": 0,
      "outputs": []
    },
    {
      "cell_type": "code",
      "metadata": {
        "id": "0jAZ4ly-7gly",
        "colab_type": "code",
        "colab": {}
      },
      "source": [
        ""
      ],
      "execution_count": 0,
      "outputs": []
    }
  ]
}